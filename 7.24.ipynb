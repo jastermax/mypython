{
 "cells": [
  {
   "cell_type": "markdown",
   "metadata": {},
   "source": [
    "# 更多字符串和特殊方法\n",
    "- 前面我们已经学了类，在Python中还有一些特殊的方法起着非常重要的作用，这里会介绍一些特殊的方法和运算符的重载，以及使用特殊方法设计类"
   ]
  },
  {
   "cell_type": "code",
   "execution_count": 54,
   "metadata": {},
   "outputs": [
    {
     "name": "stdout",
     "output_type": "stream",
     "text": [
      "陈萌,010-116321,M,19000101,北京市海淀区苏州街3号大恒科技大厦北座6层,100080,10116,010-82808028,010-82828028-208,chenmeng@dist.com.cn,0\n",
      "\n",
      "贾新格,0282,M,19000101,河北省石家庄栾城县城南一公里,051430,13831193762,0311-88030066,0311-88030088,info@shineway.com,0\n",
      "\n",
      "李锦花,010-125321,F,19000101,北京市海淀区蓝靛厂南路25号牛顿办公区南座6层,100097,10125,010-88400202,010-88400260,\n",
      "\n",
      "张俊莲,010-130321,F,19000101,北京市三环东路11号北京中医药大学京港湾宾馆239房间,100029,10130,010-51292052/3-802,010-51292052/3-811,zjl1008@sina.com,\n",
      "\n",
      "曹守月,010-142321,F,19000101,北京市丰台区定安东里18号楼4门4031室,100007,10142,010-67687044,010-67687044,baiguoshouyue@sina.com ,\n",
      "\n",
      "杨立华,010-186321,F,19000101,北京市朝阳区大屯路风林西奥中心A座8D,100101,13942697025,010-64869596/0411-668895950,0411-66885195,anna_yang@roiland.com,\n",
      "\n",
      "戴影兰,021-044321,M,19000101,上海金桥出口加工区云桥路280号,201206,21044,021-28995000*208,021-50315077,jane.dai@parker.com,\n",
      "\n",
      "赵国良,021-127321,M,19000101,上海市虹口区银欣路38号麒麟大厦607室,200008,21127,021-55150244,021-55150344,\n",
      "\n",
      "朱晨弘,021-151321,F,19000101,上海莘庄光华路968号,201108,21151,021-61451188,021-61452602,reception.china@eurotherm.com ,\n",
      "\n",
      "邬佳丽,021-166321,F,19000101,上海市徐汇区虹桥路808号加华上午中心A-8510,200030,21166,021-64481180-105,021-64479122,wujiali@scaltex.cn ,\n",
      "\n"
     ]
    }
   ],
   "source": [
    "file_path ='C:\\\\Users\\\\Administrator\\\\Desktop\\\\zxd\\\\kaifangX.txt'\n",
    "with open(file_path,mode='r',encoding='gbk',errors='ignore') as f:\n",
    "    for i in range(10):\n",
    "        str2=f.readline()\n",
    "        print(str2)"
   ]
  },
  {
   "cell_type": "code",
   "execution_count": 1,
   "metadata": {},
   "outputs": [
    {
     "name": "stdout",
     "output_type": "stream",
     "text": [
      "王莉莉,150304197104072022,F,19710407,内蒙古乌海市海勃湾区和平东街北一街坊9栋4号,\n",
      "\n",
      "王莉莉,150430198008260763,F,19800826,内蒙古赤峰市敖汉旗下洼镇八旗村东城子组,\n",
      "\n",
      "王莉莉,250219193103010022,F,19310301,内蒙古霍林郭勒市盟锡林浩特市振兴大街振兴社区税务1号楼2单元201号,\n",
      "\n",
      "王莉莉,152324198012053520,F,19801205,内蒙古通辽市开鲁县开鲁镇团结村1队118号,\n",
      "\n",
      "王莉莉,152201198208112545,F,19820811,内蒙古兴安盟乌兰浩特市赛罕路86号,\n",
      "\n",
      "王莉莉,152123192103212120,F,19210321,内蒙古呼伦贝尔市莫力达瓦达斡尔族自治旗尼尔基镇文化路二巷3号,\n",
      "\n",
      "王莉莉,152123192103212120,F,19210321,内蒙古呼伦贝尔市莫力达瓦达斡尔族自治旗尼尔基镇文化路二巷3号,\n",
      "\n"
     ]
    },
    {
     "ename": "KeyboardInterrupt",
     "evalue": "",
     "output_type": "error",
     "traceback": [
      "\u001b[1;31m---------------------------------------------------------------------------\u001b[0m",
      "\u001b[1;31mKeyboardInterrupt\u001b[0m                         Traceback (most recent call last)",
      "\u001b[1;32m<ipython-input-1-138e43c5d659>\u001b[0m in \u001b[0;36m<module>\u001b[1;34m()\u001b[0m\n\u001b[0;32m      2\u001b[0m \u001b[1;32mwith\u001b[0m \u001b[0mopen\u001b[0m\u001b[1;33m(\u001b[0m\u001b[0mfile_path\u001b[0m\u001b[1;33m,\u001b[0m\u001b[0mmode\u001b[0m\u001b[1;33m=\u001b[0m\u001b[1;34m'r'\u001b[0m\u001b[1;33m,\u001b[0m\u001b[0mencoding\u001b[0m\u001b[1;33m=\u001b[0m\u001b[1;34m'gbk'\u001b[0m\u001b[1;33m,\u001b[0m\u001b[0merrors\u001b[0m\u001b[1;33m=\u001b[0m\u001b[1;34m'ignore'\u001b[0m\u001b[1;33m)\u001b[0m \u001b[1;32mas\u001b[0m \u001b[0mf\u001b[0m\u001b[1;33m:\u001b[0m\u001b[1;33m\u001b[0m\u001b[0m\n\u001b[0;32m      3\u001b[0m     \u001b[1;32mwhile\u001b[0m \u001b[1;32mTrue\u001b[0m\u001b[1;33m:\u001b[0m\u001b[1;33m\u001b[0m\u001b[0m\n\u001b[1;32m----> 4\u001b[1;33m         \u001b[0mstr1\u001b[0m\u001b[1;33m=\u001b[0m\u001b[0mf\u001b[0m\u001b[1;33m.\u001b[0m\u001b[0mreadline\u001b[0m\u001b[1;33m(\u001b[0m\u001b[1;33m)\u001b[0m\u001b[1;33m\u001b[0m\u001b[0m\n\u001b[0m\u001b[0;32m      5\u001b[0m         \u001b[1;32mif\u001b[0m \u001b[0mstr1\u001b[0m\u001b[1;33m.\u001b[0m\u001b[0mfind\u001b[0m\u001b[1;33m(\u001b[0m\u001b[1;34m'王莉莉'\u001b[0m\u001b[1;33m)\u001b[0m\u001b[1;33m!=\u001b[0m \u001b[1;33m-\u001b[0m\u001b[1;36m1\u001b[0m \u001b[1;32mand\u001b[0m \u001b[0mstr1\u001b[0m\u001b[1;33m.\u001b[0m\u001b[0mfind\u001b[0m\u001b[1;33m(\u001b[0m\u001b[1;34m'内蒙古'\u001b[0m\u001b[1;33m)\u001b[0m\u001b[1;33m!=\u001b[0m\u001b[1;33m-\u001b[0m\u001b[1;36m1\u001b[0m\u001b[1;33m:\u001b[0m\u001b[1;33m\u001b[0m\u001b[0m\n\u001b[0;32m      6\u001b[0m         \u001b[1;31m# and str1.find('内蒙古')！=-1:\u001b[0m\u001b[1;33m\u001b[0m\u001b[1;33m\u001b[0m\u001b[0m\n",
      "\u001b[1;31mKeyboardInterrupt\u001b[0m: "
     ]
    }
   ],
   "source": [
    "file_path ='C:\\\\Users\\\\Administrator\\\\Desktop\\\\zxd\\\\kaifangX.txt'\n",
    "with open(file_path,mode='r',encoding='gbk',errors='ignore') as f:\n",
    "    while True:\n",
    "        str1=f.readline()\n",
    "        if str1.find('王莉莉')!= -1 and str1.find('内蒙古')!=-1:\n",
    "        # and str1.find('内蒙古')！=-1:\n",
    "            print(str1)\n",
    "            #break\n",
    "        "
   ]
  },
  {
   "cell_type": "code",
   "execution_count": 53,
   "metadata": {},
   "outputs": [],
   "source": [
    "file_path ='C:\\\\Users\\\\Administrator\\\\Desktop\\\\zxd\\\\kaifangX.txt'\n",
    "f1 = open ('C:\\\\Users\\\\Administrator\\\\Desktop\\\\zxd\\\\out.txt','w')\n",
    "with open(file_path,mode='r',encoding='gbk',errors='ignore') as f:\n",
    "    while True:\n",
    "    #for i in range(10):\n",
    "        str1=f.readline()\n",
    "        if str1=='':\n",
    "            break\n",
    "        pait=str1.find('@')\n",
    "        start_p=str1.rfind(',',0,pait)\n",
    "        end_p=str1.find(',',pait)\n",
    "        #print(str1,start_p,end_p)\n",
    "        if start_p==-1 or end_p==-1:\n",
    "            pass\n",
    "        else:\n",
    "            print(str1[start_p+1:end_p],file=f1)\n",
    "f1.close()     "
   ]
  },
  {
   "cell_type": "code",
   "execution_count": 51,
   "metadata": {},
   "outputs": [],
   "source": [
    "f1 = open ('C:\\\\Users\\\\Administrator\\\\Desktop\\\\zxd\\\\out.txt','w')\n",
    "print (s,file = f1)\n",
    "f.close()"
   ]
  },
  {
   "cell_type": "markdown",
   "metadata": {},
   "source": [
    "## str 类\n",
    "- 一个str对象是不可变的，也就是说，一旦创建了这个字符串，那么它的内容在认为不改变的情况下是不会变的\n",
    "- s1 = str()\n",
    "- s2 = str('welcome to Python')"
   ]
  },
  {
   "cell_type": "code",
   "execution_count": 30,
   "metadata": {},
   "outputs": [],
   "source": [
    "class test:\n",
    "    def __init__(self,p=''):\n",
    "        self.p=p\n",
    "    def __str__(self):\n",
    "        self.p='Joker'+ self.p\n",
    "        return self.p\n",
    "    def __add__(self):\n",
    "        return 'aa{}'.format(self.p)\n",
    "    "
   ]
  },
  {
   "cell_type": "code",
   "execution_count": 15,
   "metadata": {
    "scrolled": false
   },
   "outputs": [
    {
     "data": {
      "text/plain": [
       "'Joker100'"
      ]
     },
     "execution_count": 15,
     "metadata": {},
     "output_type": "execute_result"
    }
   ],
   "source": [
    "test(100).__str__()"
   ]
  },
  {
   "cell_type": "code",
   "execution_count": 31,
   "metadata": {},
   "outputs": [
    {
     "name": "stdout",
     "output_type": "stream",
     "text": [
      "aa100\n"
     ]
    }
   ],
   "source": [
    "a=test('100')\n",
    "#print(a.__str__())\n",
    "print(a.__add__())"
   ]
  },
  {
   "cell_type": "markdown",
   "metadata": {},
   "source": [
    "## 创建两个对象，分别观察两者id\n",
    "- id为Python内存地址"
   ]
  },
  {
   "cell_type": "markdown",
   "metadata": {},
   "source": [
    "## 处理字符串的函数\n",
    "- len\n",
    "- max\n",
    "- min\n",
    "- 字符串一切是按照ASCII码值进行比较"
   ]
  },
  {
   "cell_type": "code",
   "execution_count": 34,
   "metadata": {},
   "outputs": [
    {
     "data": {
      "text/plain": [
       "'a'"
      ]
     },
     "execution_count": 34,
     "metadata": {},
     "output_type": "execute_result"
    }
   ],
   "source": [
    "str1='abcde'\n",
    "min(str1)"
   ]
  },
  {
   "cell_type": "markdown",
   "metadata": {},
   "source": [
    "## 下角标运算符 []\n",
    "- 一个字符串是一个字符序列，可以通过索引进行访问\n",
    "- 观察字符串是否是一个可迭代序列  \\__iter__"
   ]
  },
  {
   "cell_type": "markdown",
   "metadata": {},
   "source": [
    "## 切片 [start: end]\n",
    "- start 默认值为0\n",
    "- end 默认值为-1"
   ]
  },
  {
   "cell_type": "code",
   "execution_count": 44,
   "metadata": {},
   "outputs": [
    {
     "data": {
      "text/plain": [
       "'cd'"
      ]
     },
     "execution_count": 44,
     "metadata": {},
     "output_type": "execute_result"
    }
   ],
   "source": [
    "str1='abcde'\n",
    "str1[-3:-1]"
   ]
  },
  {
   "cell_type": "markdown",
   "metadata": {},
   "source": [
    "## 链接运算符 + 和复制运算符 *\n",
    "- \\+ 链接多个字符串，同时''.join()也是\n",
    "- \\* 复制多个字符串"
   ]
  },
  {
   "cell_type": "markdown",
   "metadata": {},
   "source": [
    "## in 和 not in 运算符\n",
    "- in :判断某个字符是否在字符串内 \n",
    "- not in ：判断某个字符是否不在字符串内\n",
    "- 返回的是布尔值"
   ]
  },
  {
   "cell_type": "markdown",
   "metadata": {},
   "source": [
    "## 比较字符串\n",
    "-  ==, !=, >=, <=, >, <\n",
    "- 依照ASCII码值进行比较"
   ]
  },
  {
   "cell_type": "markdown",
   "metadata": {},
   "source": [
    "## 测试字符串\n",
    "![](../Photo/99.png)\n",
    "- 注意：\n",
    "> - isalnum() 中是不能包含空格，否则会返回False"
   ]
  },
  {
   "cell_type": "code",
   "execution_count": 8,
   "metadata": {},
   "outputs": [
    {
     "data": {
      "text/plain": [
       "False"
      ]
     },
     "execution_count": 8,
     "metadata": {},
     "output_type": "execute_result"
    }
   ],
   "source": [
    "a1=''\n",
    "a1.isalnum()"
   ]
  },
  {
   "cell_type": "code",
   "execution_count": 10,
   "metadata": {},
   "outputs": [
    {
     "data": {
      "text/plain": [
       "False"
      ]
     },
     "execution_count": 10,
     "metadata": {},
     "output_type": "execute_result"
    }
   ],
   "source": [
    "a2='asdfas1'\n",
    "a2.isalpha()"
   ]
  },
  {
   "cell_type": "code",
   "execution_count": 14,
   "metadata": {},
   "outputs": [
    {
     "data": {
      "text/plain": [
       "False"
      ]
     },
     "execution_count": 14,
     "metadata": {},
     "output_type": "execute_result"
    }
   ],
   "source": [
    "a3='JKDFJASF'\n",
    "a3.islower()"
   ]
  },
  {
   "cell_type": "code",
   "execution_count": 15,
   "metadata": {},
   "outputs": [
    {
     "data": {
      "text/plain": [
       "True"
      ]
     },
     "execution_count": 15,
     "metadata": {},
     "output_type": "execute_result"
    }
   ],
   "source": [
    "a3.isupper()"
   ]
  },
  {
   "cell_type": "markdown",
   "metadata": {},
   "source": [
    "## 搜索子串\n",
    "![](../Photo/100.png)"
   ]
  },
  {
   "cell_type": "code",
   "execution_count": 17,
   "metadata": {},
   "outputs": [
    {
     "data": {
      "text/plain": [
       "False"
      ]
     },
     "execution_count": 17,
     "metadata": {},
     "output_type": "execute_result"
    }
   ],
   "source": [
    "a3.endswith('H')"
   ]
  },
  {
   "cell_type": "code",
   "execution_count": 1,
   "metadata": {},
   "outputs": [
    {
     "name": "stdout",
     "output_type": "stream",
     "text": [
      "6\n"
     ]
    }
   ],
   "source": [
    "s1='ababababcabaabc'\n",
    "print(s1.count('ab'))"
   ]
  },
  {
   "cell_type": "markdown",
   "metadata": {},
   "source": [
    "## 转换字符串\n",
    "![](../Photo/101.png)"
   ]
  },
  {
   "cell_type": "code",
   "execution_count": 7,
   "metadata": {},
   "outputs": [],
   "source": [
    "    class yanzhengma:\n",
    "        def __init__(self,yzm):\n",
    "            self.yzm=yzm\n",
    "        def yanzheng(self):\n",
    "            s1=input('enter yanzhengma:')\n",
    "            if s1.lower()==self.yzm.lower():\n",
    "                print(\"验证成功！\")\n",
    "            else:\n",
    "                print('验证吗错误！')\n",
    "\n",
    "        \n",
    "        "
   ]
  },
  {
   "cell_type": "code",
   "execution_count": 8,
   "metadata": {},
   "outputs": [
    {
     "name": "stdout",
     "output_type": "stream",
     "text": [
      "enter yanzhengma:ssWw12\n",
      "验证成功！\n"
     ]
    }
   ],
   "source": [
    "ss=yanzhengma('ssww12')\n",
    "ss.yanzheng()"
   ]
  },
  {
   "cell_type": "code",
   "execution_count": 34,
   "metadata": {},
   "outputs": [],
   "source": [
    "class diaoyong:\n",
    "    def __init__(self):\n",
    "        self.c=''\n",
    "    def diao(self):\n",
    "        self.c=self.c+'c'\n",
    "    def output(self):\n",
    "        print(str(self.c.count('c'))+'次浏览本网页！')\n",
    "    "
   ]
  },
  {
   "cell_type": "code",
   "execution_count": 36,
   "metadata": {
    "collapsed": true
   },
   "outputs": [
    {
     "name": "stdout",
     "output_type": "stream",
     "text": [
      "1次浏览本网页！\n",
      "2次浏览本网页！\n",
      "3次浏览本网页！\n",
      "4次浏览本网页！\n",
      "5次浏览本网页！\n",
      "6次浏览本网页！\n",
      "7次浏览本网页！\n",
      "8次浏览本网页！\n",
      "9次浏览本网页！\n",
      "10次浏览本网页！\n",
      "11次浏览本网页！\n",
      "12次浏览本网页！\n",
      "13次浏览本网页！\n",
      "14次浏览本网页！\n",
      "15次浏览本网页！\n",
      "16次浏览本网页！\n",
      "17次浏览本网页！\n",
      "18次浏览本网页！\n",
      "19次浏览本网页！\n",
      "20次浏览本网页！\n",
      "21次浏览本网页！\n",
      "22次浏览本网页！\n",
      "23次浏览本网页！\n",
      "24次浏览本网页！\n",
      "25次浏览本网页！\n",
      "26次浏览本网页！\n",
      "27次浏览本网页！\n",
      "28次浏览本网页！\n",
      "29次浏览本网页！\n",
      "30次浏览本网页！\n",
      "31次浏览本网页！\n",
      "32次浏览本网页！\n",
      "33次浏览本网页！\n",
      "34次浏览本网页！\n",
      "35次浏览本网页！\n",
      "36次浏览本网页！\n",
      "37次浏览本网页！\n",
      "38次浏览本网页！\n",
      "39次浏览本网页！\n",
      "40次浏览本网页！\n",
      "41次浏览本网页！\n",
      "42次浏览本网页！\n",
      "43次浏览本网页！\n",
      "44次浏览本网页！\n",
      "45次浏览本网页！\n",
      "46次浏览本网页！\n",
      "47次浏览本网页！\n",
      "48次浏览本网页！\n",
      "49次浏览本网页！\n",
      "50次浏览本网页！\n"
     ]
    }
   ],
   "source": [
    "a=diaoyong()\n",
    "\n",
    "for i in range(50):\n",
    "    a.diao()\n",
    "    a.output()"
   ]
  },
  {
   "cell_type": "markdown",
   "metadata": {},
   "source": [
    "## 删除字符串\n",
    "![](../Photo/102.png)"
   ]
  },
  {
   "cell_type": "code",
   "execution_count": 12,
   "metadata": {},
   "outputs": [
    {
     "data": {
      "text/plain": [
       "'tes  taa'"
      ]
     },
     "execution_count": 12,
     "metadata": {},
     "output_type": "execute_result"
    }
   ],
   "source": [
    "a='tes  taa   '\n",
    "a.strip()"
   ]
  },
  {
   "cell_type": "code",
   "execution_count": 13,
   "metadata": {},
   "outputs": [
    {
     "data": {
      "text/plain": [
       "'testaa'"
      ]
     },
     "execution_count": 13,
     "metadata": {},
     "output_type": "execute_result"
    }
   ],
   "source": [
    "a.replace(' ','')"
   ]
  },
  {
   "cell_type": "code",
   "execution_count": 14,
   "metadata": {},
   "outputs": [
    {
     "data": {
      "text/plain": [
       "'test'"
      ]
     },
     "execution_count": 14,
     "metadata": {},
     "output_type": "execute_result"
    }
   ],
   "source": [
    "b='test****'\n",
    "b.strip('*')   #默认字符为空格，可以修改为其他任意字符"
   ]
  },
  {
   "cell_type": "markdown",
   "metadata": {},
   "source": [
    "## 格式化字符串\n",
    "![](../Photo/103.png)"
   ]
  },
  {
   "cell_type": "code",
   "execution_count": 18,
   "metadata": {},
   "outputs": [
    {
     "data": {
      "text/plain": [
       "'     你好    '"
      ]
     },
     "execution_count": 18,
     "metadata": {},
     "output_type": "execute_result"
    }
   ],
   "source": [
    "c='你好'\n",
    "c.center(11)"
   ]
  },
  {
   "cell_type": "code",
   "execution_count": 19,
   "metadata": {
    "scrolled": true
   },
   "outputs": [
    {
     "data": {
      "text/plain": [
       "'*****你好****'"
      ]
     },
     "execution_count": 19,
     "metadata": {},
     "output_type": "execute_result"
    }
   ],
   "source": [
    "c.center(11,'*')"
   ]
  },
  {
   "cell_type": "code",
   "execution_count": 20,
   "metadata": {
    "scrolled": true
   },
   "outputs": [
    {
     "data": {
      "text/plain": [
       "['1', '2', '3', '4', '5', '6']"
      ]
     },
     "execution_count": 20,
     "metadata": {},
     "output_type": "execute_result"
    }
   ],
   "source": [
    "e='1,2,3,4,5,6'\n",
    "e.split(',')"
   ]
  },
  {
   "cell_type": "markdown",
   "metadata": {},
   "source": [
    "## EP:\n",
    "- 1\n",
    "![](../Photo/104.png)\n",
    "- 2 \n",
    "    随机参数100个数字，将www.baidu.com/?page=进行拼接"
   ]
  },
  {
   "cell_type": "code",
   "execution_count": 23,
   "metadata": {
    "scrolled": true
   },
   "outputs": [
    {
     "name": "stdout",
     "output_type": "stream",
     "text": [
      "116707592 116707592 116855840\n"
     ]
    },
    {
     "data": {
      "text/plain": [
       "8"
      ]
     },
     "execution_count": 23,
     "metadata": {},
     "output_type": "execute_result"
    }
   ],
   "source": [
    "s1='Welcome to Python'\n",
    "s2=s1\n",
    "s3='Welcome to Python'\n",
    "s4='to'\n",
    "print(id(s1),id(s2),id(s3))\n",
    "s1.find(s4)"
   ]
  },
  {
   "cell_type": "code",
   "execution_count": null,
   "metadata": {},
   "outputs": [],
   "source": [
    "baseurl='www.baidu.com/?page='"
   ]
  },
  {
   "cell_type": "markdown",
   "metadata": {},
   "source": [
    "## Python高级使用方法 -- 字符串\n",
    "- 我们经常使用的方法实际上就是调用Python的运算重载\n",
    "![](../Photo/105.png)"
   ]
  },
  {
   "cell_type": "code",
   "execution_count": 24,
   "metadata": {},
   "outputs": [
    {
     "data": {
      "text/plain": [
       "11"
      ]
     },
     "execution_count": 24,
     "metadata": {},
     "output_type": "execute_result"
    }
   ],
   "source": [
    "1+10"
   ]
  },
  {
   "cell_type": "code",
   "execution_count": 25,
   "metadata": {},
   "outputs": [
    {
     "data": {
      "text/plain": [
       "11"
      ]
     },
     "execution_count": 25,
     "metadata": {},
     "output_type": "execute_result"
    }
   ],
   "source": [
    "a1=1\n",
    "a1.__add__(10)"
   ]
  },
  {
   "cell_type": "code",
   "execution_count": 26,
   "metadata": {},
   "outputs": [],
   "source": [
    "class test2:\n",
    "    def __init__(self,number):\n",
    "        self.number=number\n",
    "    def __add__(self,other):\n",
    "        return self.number + other\n",
    "    def __sub__(self,other):\n",
    "        return self.number - other\n"
   ]
  },
  {
   "cell_type": "code",
   "execution_count": 27,
   "metadata": {},
   "outputs": [
    {
     "data": {
      "text/plain": [
       "110"
      ]
     },
     "execution_count": 27,
     "metadata": {},
     "output_type": "execute_result"
    }
   ],
   "source": [
    "b1=test2(100)\n",
    "b1.__add__(10)"
   ]
  },
  {
   "cell_type": "code",
   "execution_count": 28,
   "metadata": {
    "scrolled": true
   },
   "outputs": [
    {
     "data": {
      "text/plain": [
       "90"
      ]
     },
     "execution_count": 28,
     "metadata": {},
     "output_type": "execute_result"
    }
   ],
   "source": [
    "b1.__sub__(10)"
   ]
  },
  {
   "cell_type": "code",
   "execution_count": 29,
   "metadata": {},
   "outputs": [
    {
     "data": {
      "text/plain": [
       "True"
      ]
     },
     "execution_count": 29,
     "metadata": {},
     "output_type": "execute_result"
    }
   ],
   "source": [
    "a101='a'\n",
    "a101.__lt__('b')"
   ]
  },
  {
   "cell_type": "code",
   "execution_count": 30,
   "metadata": {},
   "outputs": [
    {
     "data": {
      "text/plain": [
       "False"
      ]
     },
     "execution_count": 30,
     "metadata": {},
     "output_type": "execute_result"
    }
   ],
   "source": [
    "a101.__gt__('b')"
   ]
  },
  {
   "cell_type": "markdown",
   "metadata": {},
   "source": [
    "# 自定义运算符重载  以与正无穷大为例"
   ]
  },
  {
   "cell_type": "code",
   "execution_count": null,
   "metadata": {},
   "outputs": [],
   "source": [
    "class Inf:\n",
    "    def __lt__(self,other):\n",
    "        "
   ]
  },
  {
   "cell_type": "markdown",
   "metadata": {},
   "source": [
    "# Homework\n",
    "- 1\n",
    "![](../Photo/106.png)"
   ]
  },
  {
   "cell_type": "code",
   "execution_count": 6,
   "metadata": {},
   "outputs": [
    {
     "name": "stdout",
     "output_type": "stream",
     "text": [
      "enter a SSN(ddd-dd-dddd):123-12-1234\n",
      "Valid SSN\n"
     ]
    }
   ],
   "source": [
    "ssn=input('enter a SSN(ddd-dd-dddd):')\n",
    "if len(ssn)==11 and ssn[3]=='-' and ssn[6]=='-':\n",
    "    #print(ssn[0:3],ssn[4:6], ssn[7:11])\n",
    "    if ssn[0:3].isdigit()==True and ssn[4:6].isdigit()==True and ssn[7:-1].isdigit()==True:\n",
    "        print('Valid SSN')\n",
    "    else:\n",
    "        print('Invalid SSN')\n",
    "else:\n",
    "    print('Invalid SSN')"
   ]
  },
  {
   "cell_type": "markdown",
   "metadata": {},
   "source": [
    "- 2\n",
    "![](../Photo/107.png)"
   ]
  },
  {
   "cell_type": "code",
   "execution_count": 43,
   "metadata": {},
   "outputs": [
    {
     "name": "stdout",
     "output_type": "stream",
     "text": [
      "enter a string1:123aaa\n",
      "enter a string2:jfiwe123aaadjsk\n",
      "123aaa is substring jfiwe123aaadjsk\n"
     ]
    }
   ],
   "source": [
    "str1=input('enter a string1:')\n",
    "str2=input('enter a string2:')\n",
    "if str2.find(str1)!=-1 :\n",
    "    print(str1+' is substring '+str2)\n",
    "else:\n",
    "    print(str1+' is not substring '+str2)"
   ]
  },
  {
   "cell_type": "markdown",
   "metadata": {},
   "source": [
    "- 3\n",
    "![](../Photo/108.png)"
   ]
  },
  {
   "cell_type": "code",
   "execution_count": 10,
   "metadata": {},
   "outputs": [
    {
     "name": "stdout",
     "output_type": "stream",
     "text": [
      "enter a password:12343jkjsflk\n",
      "valid password\n"
     ]
    }
   ],
   "source": [
    "passwd=input('enter a password:')\n",
    "c=0\n",
    "if len(passwd)>=8:\n",
    "    for i in passwd:\n",
    "        if 48<=ord(i)<=57 or 97<=ord(i)<=122 or 65<=ord(i)<=90:\n",
    "            if 48<=ord(i)<=57:\n",
    "                c+=1\n",
    "        else:\n",
    "            print('Invalid password')\n",
    "    if c<=2:\n",
    "         print('Invalid password')\n",
    "    else:\n",
    "        print('valid password')\n",
    "else:\n",
    "    print('Invalid password')\n",
    "    "
   ]
  },
  {
   "cell_type": "markdown",
   "metadata": {},
   "source": [
    "- 4\n",
    "![](../Photo/109.png)"
   ]
  },
  {
   "cell_type": "code",
   "execution_count": 11,
   "metadata": {},
   "outputs": [
    {
     "name": "stdout",
     "output_type": "stream",
     "text": [
      "enter a string:qweasdzxc123@@#qqw\n",
      "12\n"
     ]
    }
   ],
   "source": [
    "def countLetters(s):\n",
    "    count=0\n",
    "    for i in s:\n",
    "        if 97<=ord(i)<=122 or 65<=ord(i)<=90:\n",
    "            count+=1\n",
    "    return count\n",
    "str1=input('enter a string:')\n",
    "print(countLetters(str1))"
   ]
  },
  {
   "cell_type": "markdown",
   "metadata": {},
   "source": [
    "- 5\n",
    "![](../Photo/110.png)"
   ]
  },
  {
   "cell_type": "code",
   "execution_count": 14,
   "metadata": {},
   "outputs": [
    {
     "name": "stdout",
     "output_type": "stream",
     "text": [
      "enter a string:1-800-Flowers\n",
      "1-800-3569377\n"
     ]
    }
   ],
   "source": [
    "def getNumber(uppercaseLetter):\n",
    "    newstr=''\n",
    "    for i in uppercaseLetter:\n",
    "        if 97<=ord(i)<=122 or 65<=ord(i)<=90:\n",
    "            if 0<=ord(i)-97<=2 or 0<=ord(i)-65<=2:\n",
    "                newchar='2'\n",
    "            elif 3<=ord(i)-97<=5 or 3<=ord(i)-65<=5:\n",
    "                newchar='3'\n",
    "            elif 6<=ord(i)-97<=8 or 6<=ord(i)-65<=8:\n",
    "                newchar='4'\n",
    "            elif 9<=ord(i)-97<=11 or 9<=ord(i)-65<=11:\n",
    "                newchar='5'\n",
    "            elif 12<=ord(i)-97<=14 or 12<=ord(i)-65<=14:\n",
    "                newchar='6'\n",
    "            elif 15<=ord(i)-97<=18 or 15<=ord(i)-65<=18:\n",
    "                newchar='7'\n",
    "            elif 19<=ord(i)-97<=21 or 19<=ord(i)-65<=21:\n",
    "                newchar='8'\n",
    "            elif 22<=ord(i)-97<=25 or 22<=ord(i)-65<=25:\n",
    "                newchar='9'\n",
    "        else:\n",
    "            newchar=i\n",
    "        newstr=newstr+newchar\n",
    "    return newstr\n",
    "telnum=input('enter a string:')\n",
    "print(getNumber(telnum))\n",
    "                "
   ]
  },
  {
   "cell_type": "markdown",
   "metadata": {},
   "source": [
    "- 6\n",
    "![](../Photo/111.png)"
   ]
  },
  {
   "cell_type": "code",
   "execution_count": 16,
   "metadata": {},
   "outputs": [
    {
     "name": "stdout",
     "output_type": "stream",
     "text": [
      "enter a string:123456\n",
      "654321\n"
     ]
    }
   ],
   "source": [
    "def reverse(s):\n",
    "    news=''\n",
    "    for i in s[-1::-1]:\n",
    "        news=news+i\n",
    "    return news\n",
    "ss=input('enter a string:')\n",
    "print(reverse(ss))"
   ]
  },
  {
   "cell_type": "markdown",
   "metadata": {},
   "source": [
    "- 7\n",
    "![](../Photo/112.png)"
   ]
  },
  {
   "cell_type": "code",
   "execution_count": 49,
   "metadata": {},
   "outputs": [],
   "source": [
    "def luhn_checksum(card_number):\n",
    "    def digits_of(n):\n",
    "        return [int(d) for d in str(n)]\n",
    "    digits = digits_of(card_number)\n",
    "    odd_digits = digits[-1::-2]\n",
    "    even_digits = digits[-2::-2]\n",
    "    checksum = 0\n",
    "    checksum += sum(odd_digits)\n",
    "    for d in even_digits:\n",
    "        checksum += sum(digits_of(d*2))\n",
    "    return checksum % 10\n",
    " \n",
    "def is_luhn_valid(card_number):\n",
    "    return luhn_checksum(card_number) == 0"
   ]
  },
  {
   "cell_type": "code",
   "execution_count": 51,
   "metadata": {},
   "outputs": [
    {
     "name": "stdout",
     "output_type": "stream",
     "text": [
      "enter a card number:9876555525845478\n",
      "卡号非法！\n"
     ]
    }
   ],
   "source": [
    "numstr=input('enter a card number:')\n",
    "if is_luhn_valid(numstr)==True:\n",
    "    print('卡号合法！')\n",
    "else:\n",
    "    \n",
    "    print('卡号非法！')"
   ]
  },
  {
   "cell_type": "markdown",
   "metadata": {},
   "source": [
    "- 8\n",
    "![](../Photo/113.png)"
   ]
  },
  {
   "cell_type": "code",
   "execution_count": 28,
   "metadata": {},
   "outputs": [
    {
     "name": "stdout",
     "output_type": "stream",
     "text": [
      "enter the first 12 digits of an ISBN-13 as a string:978013213079\n",
      "9780132130790\n"
     ]
    }
   ],
   "source": [
    "isb=input('enter the first 12 digits of an ISBN-13 as a string:')\n",
    "num=0\n",
    "for i in range(0,12):\n",
    "    if i%2==0:\n",
    "        num=num+ord(isb[i])-48\n",
    "    else:\n",
    "        num=num+(ord(isb[i])-48)*3\n",
    "num=(10-num%10)%10\n",
    "print(isb+str(num))"
   ]
  },
  {
   "cell_type": "markdown",
   "metadata": {},
   "source": [
    "- 9\n",
    "![](../Photo/114.png)"
   ]
  },
  {
   "cell_type": "code",
   "execution_count": 47,
   "metadata": {},
   "outputs": [],
   "source": [
    "\n",
    "class Rectangle2D():\n",
    "    def __init__(self,x=0,y=0,width=0,height=0):\n",
    "        self.x=x\n",
    "        self.y=y\n",
    "        self.width=width\n",
    "        self.height=height\n",
    "    def setx(self,x):\n",
    "        self.x=x\n",
    "    def setx(self,y):\n",
    "        self.y=y\n",
    "    def setx(self,width):\n",
    "        self.width=width\n",
    "    def setx(self,height):\n",
    "        self.height=height\n",
    "    def getx(self):\n",
    "        return self.x\n",
    "    def gety(self):\n",
    "        return self.y\n",
    "    def getwidth(self):\n",
    "        return self.width\n",
    "    def getheight(self):\n",
    "        return self.height\n",
    "    def getArea(self):\n",
    "        return self.width*self.height\n",
    "    def getPerimiter(self):\n",
    "        return self.width*2+self.height*2\n",
    "    def containsPoint(self,x,y):\n",
    "        if abs(self.x-x)<self.width/2 and abs(self.y-y)<self.height/2:\n",
    "            return True\n",
    "        else:\n",
    "            return False\n",
    "    def contains(self,R2):\n",
    "        if abs(self.x-R2.x)<=R2.width/2 and abs(self.y-R2.y)<=R2.height/2:\n",
    "            return True\n",
    "        else:\n",
    "            return False\n",
    "    def overlaps(self,R2):\n",
    "        if R2.width/2<abs(self.x-R2.x)<(R2.width+self.width)/2 and R2.height/2<abs(self.y-R2.y)<(self.height+R2.height)/2:\n",
    "            return True\n",
    "        else:\n",
    "            return False\n",
    "        "
   ]
  },
  {
   "cell_type": "code",
   "execution_count": 48,
   "metadata": {},
   "outputs": [
    {
     "name": "stdout",
     "output_type": "stream",
     "text": [
      "enter x1,y1,width1,height1:9,1.3,10,35.3\n",
      "enter x2,y2,width2,height2:1.3,4.3,4,5.3\n",
      "Area for r1 is  353.0\n",
      "Perimeters for r1 is 90.6\n",
      "Area for r2 is  21.2\n",
      "Perimeters for r2 is 18.6\n",
      "r1 contains the center r2？ False\n",
      "r1 contains r2? False\n",
      "r1 overlaps r2? False\n"
     ]
    }
   ],
   "source": [
    "x1,y1,width1,height1=eval(input('enter x1,y1,width1,height1:'))\n",
    "R1=Rectangle2D(x1,y1,width1,height1)\n",
    "x2,y2,width2,height2=eval(input('enter x2,y2,width2,height2:'))\n",
    "R2=Rectangle2D(x2,y2,width2,height2)\n",
    "print('Area for r1 is ',R1.getArea())\n",
    "print('Perimeters for r1 is',R1.getPerimiter())\n",
    "print('Area for r2 is ',R2.getArea())\n",
    "print('Perimeters for r2 is',R2.getPerimiter())\n",
    "print('r1 contains the center r2？',R1.containsPoint(R2.getx(),R2.gety()))\n",
    "print('r1 contains r2?',R1.contains(R2))\n",
    "print('r1 overlaps r2?',R1.overlaps(R2))"
   ]
  }
 ],
 "metadata": {
  "kernelspec": {
   "display_name": "Python 3",
   "language": "python",
   "name": "python3"
  },
  "language_info": {
   "codemirror_mode": {
    "name": "ipython",
    "version": 3
   },
   "file_extension": ".py",
   "mimetype": "text/x-python",
   "name": "python",
   "nbconvert_exporter": "python",
   "pygments_lexer": "ipython3",
   "version": "3.6.4"
  }
 },
 "nbformat": 4,
 "nbformat_minor": 2
}
