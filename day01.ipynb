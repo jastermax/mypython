{
 "cells": [
  {
   "cell_type": "code",
   "execution_count": 1,
   "metadata": {},
   "outputs": [
    {
     "name": "stdout",
     "output_type": "stream",
     "text": [
      "Hello World\n"
     ]
    }
   ],
   "source": [
    "print(\"Hello World\")"
   ]
  },
  {
   "cell_type": "code",
   "execution_count": 2,
   "metadata": {},
   "outputs": [
    {
     "name": "stdout",
     "output_type": "stream",
     "text": [
      "31400.0\n"
     ]
    }
   ],
   "source": [
    "radius=100\n",
    "area=radius*radius*3.14\n",
    "print(area)"
   ]
  },
  {
   "cell_type": "code",
   "execution_count": 7,
   "metadata": {
    "scrolled": true
   },
   "outputs": [
    {
     "name": "stdout",
     "output_type": "stream",
     "text": [
      "请输入一个数字：10\n",
      "1000\n"
     ]
    }
   ],
   "source": [
    "#在jupyter中用shift+Tab跳出解释文档\n",
    "x=eval(input(\"请输入一个数字：\"))\n",
    "x=x*x*x\n",
    "print(x)\n"
   ]
  },
  {
   "cell_type": "code",
   "execution_count": 9,
   "metadata": {},
   "outputs": [
    {
     "name": "stdout",
     "output_type": "stream",
     "text": [
      "请输入一个数字：10\n",
      "101010\n"
     ]
    }
   ],
   "source": [
    "x=input(\"请输入一个数字：\")\n",
    "x=x*3\n",
    "print(x)\n"
   ]
  },
  {
   "cell_type": "code",
   "execution_count": 13,
   "metadata": {},
   "outputs": [
    {
     "name": "stdout",
     "output_type": "stream",
     "text": [
      "请输入一个数字100\n",
      "90.0\n"
     ]
    }
   ],
   "source": [
    "a=eval(input(\"请输入一个数字\"))\n",
    "#print(type(a))\n",
    "a=a*(1-0.1)\n",
    "print(a)"
   ]
  },
  {
   "cell_type": "code",
   "execution_count": 14,
   "metadata": {},
   "outputs": [
    {
     "name": "stdout",
     "output_type": "stream",
     "text": [
      "lalal 120 120.2 True\n"
     ]
    }
   ],
   "source": [
    "Joker,Misst,hahah,lalal='lalal',120,120.2,True\n",
    "print(Joker,Misst,hahah,lalal)"
   ]
  },
  {
   "cell_type": "code",
   "execution_count": 15,
   "metadata": {},
   "outputs": [
    {
     "name": "stdout",
     "output_type": "stream",
     "text": [
      "600\n"
     ]
    }
   ],
   "source": [
    "number1=100\n",
    "number2=500\n",
    "print(number1+number2)"
   ]
  },
  {
   "cell_type": "code",
   "execution_count": 16,
   "metadata": {
    "scrolled": true
   },
   "outputs": [
    {
     "name": "stdout",
     "output_type": "stream",
     "text": [
      "600.0\n"
     ]
    }
   ],
   "source": [
    "number1=100.0\n",
    "number2=500.0\n",
    "print(number1+number2)"
   ]
  },
  {
   "cell_type": "code",
   "execution_count": 26,
   "metadata": {
    "scrolled": true
   },
   "outputs": [
    {
     "name": "stdout",
     "output_type": "stream",
     "text": [
      "5.0\n"
     ]
    }
   ],
   "source": [
    "number1=100.0\n",
    "number2=520.0\n",
    "print(number2//number1)"
   ]
  },
  {
   "cell_type": "code",
   "execution_count": 28,
   "metadata": {},
   "outputs": [
    {
     "name": "stdout",
     "output_type": "stream",
     "text": [
      "25\n"
     ]
    }
   ],
   "source": [
    "number1=2\n",
    "number2=5\n",
    "print(number2**number1)"
   ]
  },
  {
   "cell_type": "code",
   "execution_count": 30,
   "metadata": {},
   "outputs": [
    {
     "name": "stdout",
     "output_type": "stream",
     "text": [
      "6\n"
     ]
    }
   ],
   "source": [
    "print(25//4)"
   ]
  },
  {
   "cell_type": "code",
   "execution_count": 32,
   "metadata": {},
   "outputs": [
    {
     "name": "stdout",
     "output_type": "stream",
     "text": [
      "13\n",
      "奇数！\n"
     ]
    }
   ],
   "source": [
    "res=eval(input())\n",
    "if res%2==0:\n",
    "    print(\"偶数！\")\n",
    "else:\n",
    "    print(\"奇数！\")"
   ]
  },
  {
   "cell_type": "code",
   "execution_count": 38,
   "metadata": {},
   "outputs": [
    {
     "name": "stdout",
     "output_type": "stream",
     "text": [
      "4.0\n",
      "偶数！\n"
     ]
    }
   ],
   "source": [
    "res=eval(input(\"请输入一个整数或小数：\"))\n",
    "if type(res)==int:\n",
    "    if res%2==0:\n",
    "        print(\"偶数！\")\n",
    "    else:\n",
    "        print(\"奇数！\")\n",
    "else:\n",
    "    if type(res)==float:\n",
    "        if res%2==0.0:\n",
    "            print(\"偶数！\")\n",
    "        else:\n",
    "            print(\"奇数！\")"
   ]
  },
  {
   "cell_type": "code",
   "execution_count": 49,
   "metadata": {},
   "outputs": [
    {
     "name": "stdout",
     "output_type": "stream",
     "text": [
      "请输入一个秒数500\n",
      "500秒等于8分20秒\n",
      "500秒等于8分20秒\n"
     ]
    }
   ],
   "source": [
    "sen=eval(input(\"请输入一个秒数\"))\n",
    "fen=sen//60\n",
    "miao=sen%60\n",
    "print(\"{}秒等于{}分{}秒\".format(sen,fen,miao))\n",
    "print(\"%d秒等于%d分%d秒\"%(sen,fen,miao))"
   ]
  },
  {
   "cell_type": "code",
   "execution_count": 57,
   "metadata": {},
   "outputs": [
    {
     "name": "stdout",
     "output_type": "stream",
     "text": [
      "324\n"
     ]
    }
   ],
   "source": [
    "i=18\n",
    "i**=2\n",
    "print(i)"
   ]
  },
  {
   "cell_type": "code",
   "execution_count": 47,
   "metadata": {},
   "outputs": [
    {
     "name": "stdout",
     "output_type": "stream",
     "text": [
      "请输入今天星期几：6\n",
      "过几天？10\n",
      "过几天是： 星期二\n"
     ]
    }
   ],
   "source": [
    "time1=eval(input(\"请输入今天星期几：\"))\n",
    "time2=eval(input(\"过几天？\"))\n",
    "time1=time1+time2\n",
    "ls=[\"星期日\",\"星期一\",\"星期二\",\"星期三\",\"星期四\",\"星期五\",\"星期六\"]\n",
    "s=time1%7\n",
    "print(\"过几天是：\",ls[s])"
   ]
  },
  {
   "cell_type": "code",
   "execution_count": 59,
   "metadata": {},
   "outputs": [
    {
     "data": {
      "text/plain": [
       "7.0"
      ]
     },
     "execution_count": 59,
     "metadata": {},
     "output_type": "execute_result"
    }
   ],
   "source": [
    "round(27/4,0)"
   ]
  },
  {
   "cell_type": "code",
   "execution_count": 67,
   "metadata": {},
   "outputs": [
    {
     "name": "stdout",
     "output_type": "stream",
     "text": [
      "请输入一个三位整数153\n",
      "153是水仙花数\n"
     ]
    }
   ],
   "source": [
    "a=eval(input(\"请输入一个三位整数\"))\n",
    "b=a//100\n",
    "c=a//10%10\n",
    "d=a%10\n",
    "if(b**3+c**3+d**3==a):\n",
    "    print(\"%d是水仙花数\"%(a))\n",
    "else:\n",
    "    print(\"%d不是水仙花数\"%(a))"
   ]
  },
  {
   "cell_type": "code",
   "execution_count": 69,
   "metadata": {},
   "outputs": [
    {
     "name": "stdout",
     "output_type": "stream",
     "text": [
      "153是水仙花数\n",
      "370是水仙花数\n",
      "371是水仙花数\n",
      "407是水仙花数\n"
     ]
    }
   ],
   "source": [
    "for a in range(100,999):\n",
    "    b=a//100\n",
    "    c=a//10%10\n",
    "    d=a%10\n",
    "    if(b**3+c**3+d**3==a):\n",
    "        print(\"%d是水仙花数\"%(a))\n",
    "    "
   ]
  },
  {
   "cell_type": "code",
   "execution_count": 74,
   "metadata": {},
   "outputs": [
    {
     "name": "stdout",
     "output_type": "stream",
     "text": [
      "11.853\n"
     ]
    }
   ],
   "source": [
    "s=0.06e-2\n",
    "a=197.55e+2\n",
    "s1=a*s\n",
    "print(s1)"
   ]
  },
  {
   "cell_type": "code",
   "execution_count": 75,
   "metadata": {},
   "outputs": [
    {
     "name": "stdout",
     "output_type": "stream",
     "text": [
      "请输入贷款数：100\n",
      "月利率100\n",
      "年限100\n",
      "12000000.0\n"
     ]
    }
   ],
   "source": [
    "daikuanshu=eval(input(\"请输入贷款数：\"))\n",
    "yuelilu=eval(input(\"月利率\"))\n",
    "nianxian=eval(input(\"年限\"))\n",
    "monthlyPayment=(daikuanshu*yuelilu/(1-(1/(1+yuelilu)**(nianxian*12))))\n",
    "totalpayment=monthlyPayment*nianxian*12\n",
    "print(totalpayment)"
   ]
  },
  {
   "cell_type": "code",
   "execution_count": 82,
   "metadata": {},
   "outputs": [
    {
     "name": "stdout",
     "output_type": "stream",
     "text": [
      "1531729248.5890002\n",
      "8时20分54秒\n"
     ]
    }
   ],
   "source": [
    "import time\n",
    "print(time.time())\n",
    "sen=int(time.time())\n",
    "shi=sen//3600\n",
    "fen=sen//60\n",
    "#miao=sen%60\n",
    "print(\"%d时%d分%d秒\"%(shi%24,fen%(60),miao))\n"
   ]
  }
 ],
 "metadata": {
  "kernelspec": {
   "display_name": "Python 3",
   "language": "python",
   "name": "python3"
  },
  "language_info": {
   "codemirror_mode": {
    "name": "ipython",
    "version": 3
   },
   "file_extension": ".py",
   "mimetype": "text/x-python",
   "name": "python",
   "nbconvert_exporter": "python",
   "pygments_lexer": "ipython3",
   "version": "3.6.4"
  }
 },
 "nbformat": 4,
 "nbformat_minor": 2
}
