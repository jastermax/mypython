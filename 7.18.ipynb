{
 "cells": [
  {
   "cell_type": "markdown",
   "metadata": {},
   "source": [
    "# 选择\n",
    "## 布尔类型、数值和表达式\n",
    "![](../Photo/33.png)\n",
    "- 注意：比较运算符的相等是两个等到，一个等到代表赋值\n",
    "- 在Python中可以用整型0来代表False，其他数字来代表True\n",
    "- 后面还会讲到 is 在判断语句中的用发"
   ]
  },
  {
   "cell_type": "code",
   "execution_count": 2,
   "metadata": {},
   "outputs": [
    {
     "data": {
      "text/plain": [
       "True"
      ]
     },
     "execution_count": 2,
     "metadata": {},
     "output_type": "execute_result"
    }
   ],
   "source": [
    "a=100\n",
    "b=100\n",
    "a<=b"
   ]
  },
  {
   "cell_type": "code",
   "execution_count": 3,
   "metadata": {},
   "outputs": [
    {
     "data": {
      "text/plain": [
       "True"
      ]
     },
     "execution_count": 3,
     "metadata": {},
     "output_type": "execute_result"
    }
   ],
   "source": [
    "c='joker'\n",
    "d='hahha'\n",
    "c>d"
   ]
  },
  {
   "cell_type": "code",
   "execution_count": 4,
   "metadata": {},
   "outputs": [
    {
     "name": "stdout",
     "output_type": "stream",
     "text": [
      "1 0 True False\n"
     ]
    }
   ],
   "source": [
    "i=int(True)\n",
    "j=int(False)\n",
    "b1=bool(4)\n",
    "b2=bool(0)\n",
    "print(i,j,b1,b2)\n"
   ]
  },
  {
   "cell_type": "markdown",
   "metadata": {},
   "source": [
    "## EP:\n",
    "- <img src=\"../Photo/34.png\"></img>\n",
    "- 输入一个数字，判断其实奇数还是偶数"
   ]
  },
  {
   "cell_type": "markdown",
   "metadata": {},
   "source": [
    "## 产生随机数字\n",
    "- 函数random.randint(a,b) 可以用来产生一个a和b之间且包括a和b的随机整数"
   ]
  },
  {
   "cell_type": "markdown",
   "metadata": {},
   "source": [
    "## EP：\n",
    "- 产生两个随机整数number1和number2，然后显示给用户，使用户输入数字，并判定其是否正确\n",
    "- 进阶:写一个随机序号点名程序"
   ]
  },
  {
   "cell_type": "markdown",
   "metadata": {},
   "source": [
    "##  其他random方法\n",
    "- random.random 返回0.0到1.0之间前闭后开区间的随机浮点\n",
    "- random.randrange(a,b) 前闭后开"
   ]
  },
  {
   "cell_type": "code",
   "execution_count": 5,
   "metadata": {},
   "outputs": [
    {
     "name": "stdout",
     "output_type": "stream",
     "text": [
      "3\n"
     ]
    }
   ],
   "source": [
    "import random\n",
    "a1=random.randrange(0,10)\n",
    "print(a1)\n",
    "#a2=random.randint()"
   ]
  },
  {
   "cell_type": "markdown",
   "metadata": {},
   "source": [
    "# 随机点名"
   ]
  },
  {
   "cell_type": "code",
   "execution_count": 6,
   "metadata": {},
   "outputs": [
    {
     "name": "stdout",
     "output_type": "stream",
     "text": [
      "1531888587.5978003\n",
      "4时36分27秒 位置为： 3 2 的老师请给Git账号：\n"
     ]
    }
   ],
   "source": [
    "import time\n",
    "print(time.time())\n",
    "sen=int(time.time())\n",
    "shi=sen//3600%24\n",
    "fen=sen//60%60\n",
    "miao=sen%60\n",
    "shijian=str(shi)+\"时\"+str(fen)+\"分\"+str(miao)+\"秒\"\n",
    "#print(\"%d时%d分%d秒\",end=''%(shi%24,fen%(60),miao))\n",
    "lie=random.randint(1,4)\n",
    "hang=random.randint(1,4)\n",
    "print(shijian,\"位置为：\",lie,hang,\"的老师请给Git账号：\")"
   ]
  },
  {
   "cell_type": "code",
   "execution_count": 7,
   "metadata": {},
   "outputs": [
    {
     "name": "stdout",
     "output_type": "stream",
     "text": [
      "北京时间12:36:27 位置为：33的老师请给Git账号\n"
     ]
    }
   ],
   "source": [
    "lie=random.randint(1,4)\n",
    "if lie<=2 :\n",
    "    hang=random.randint(1,4)\n",
    "else:\n",
    "    hang=random.randint(1,3)\n",
    "print(\"北京时间\"+time.strftime(\"%H:%M:%S\"),\"位置为：\"+str(lie)+str(hang)+\"的老师请给Git账号\")"
   ]
  },
  {
   "cell_type": "markdown",
   "metadata": {},
   "source": [
    "## if语句\n",
    "- 如果条件正确就执行一个单向if语句，亦即当条件为真的时候才执行if内部的语句\n",
    "- Python有很多选择语句:\n",
    "> - 单向if \n",
    "  - 双向if-else\n",
    "  - 嵌套if\n",
    "  - 多向if-elif-else\n",
    "  \n",
    "- 注意：当语句含有子语句的时候，那么一定至少要有一个缩进，也就是说如果有儿子存在，那么一定要缩进\n",
    "- 切记不可table键和space混用，单用table 或者 space\n",
    "- 当你输出的结果是无论if是否为真时都需要显示时，语句应该与if对齐"
   ]
  },
  {
   "cell_type": "markdown",
   "metadata": {},
   "source": [
    "# 模拟抢火车票加油包\n",
    "# 1、0-10代表总进度\n",
    "# 2、随机数字（0-100）\n",
    "# 3、input(\"加油包\"）\n",
    "# 4、随机数的范围-1\n",
    "# 5、随机设定一些姓名，用户输入一个姓名（a,b,c），如果不在那名单中，问是否升级vip，如果升级需要提交50元，"
   ]
  },
  {
   "cell_type": "code",
   "execution_count": 8,
   "metadata": {},
   "outputs": [
    {
     "name": "stdout",
     "output_type": "stream",
     "text": [
      "请输入你的姓名韩梅梅\n",
      "你是否要加入vip？（Y或N）Y\n",
      "请缴纳vip费用50元:50\n",
      "vip加入成功，马上为你抢票,抢票成功率为：80%\n",
      "请输入加油口号‘加油包’为他加油：加油包\n",
      "你为他加油：4点，目前抢票成功率为55%\n",
      "请输入加油口号‘加油包’为他加油：加油包\n",
      "你为他加油：3点，目前抢票成功率为58%\n",
      "请输入加油口号‘加油包’为他加油：加油包\n",
      "你为他加油：2点，目前抢票成功率为60%\n",
      "请输入加油口号‘加油包’为他加油：加油包\n",
      "你为他加油：3点，目前抢票成功率为63%\n",
      "请输入加油口号‘加油包’为他加油：加油包\n",
      "你为他加油：1点，目前抢票成功率为64%\n",
      "请输入加油口号‘加油包’为他加油：加油包\n",
      "你为他加油：4点，目前抢票成功率为68%\n",
      "请输入加油口号‘加油包’为他加油：加油包\n",
      "你为他加油：4点，目前抢票成功率为72%\n",
      "请输入加油口号‘加油包’为他加油：加油包\n",
      "你为他加油：3点，目前抢票成功率为75%\n",
      "请输入加油口号‘加油包’为他加油：加油包\n",
      "你为他加油：3点，目前抢票成功率为78%\n",
      "请输入加油口号‘加油包’为他加油：加油包\n",
      "你为他加油：5点，目前抢票成功率为83%\n",
      "请输入加油口号‘加油包’为他加油：加油包\n",
      "你为他加油：3点，目前抢票成功率为86%\n",
      "请输入加油口号‘加油包’为他加油：加油包\n",
      "你为他加油：4点，目前抢票成功率为90%\n",
      "请输入加油口号‘加油包’为他加油：加油包\n",
      "你为他加油：3点，目前抢票成功率为93%\n",
      "请输入加油口号‘加油包’为他加油：加油包\n",
      "你为他加油：5点，目前抢票成功率为98%\n",
      "抢票成功\n"
     ]
    }
   ],
   "source": [
    "import random\n",
    "name1=['polly','lilei','hanmeimei']\n",
    "#qiangpiaonum=random.randint(0,100)\n",
    "name=input('请输入你的姓名')\n",
    "if name in name1:\n",
    "    qiangpiaonum=random.randint(0,50)\n",
    "    print('vip会员你好，马上为你抢票,抢票成功率为：'+str(100-qiangpiaonum)+\"%\")\n",
    "else:\n",
    "    queren=input('你是否要加入vip？（Y或N）')\n",
    "    if queren=='Y':\n",
    "        m=eval(input(\"请缴纳vip费用50元:\"))\n",
    "        if m==50:\n",
    "            qiangpiaonum=random.randint(0,50) \n",
    "            print('vip加入成功，马上为你抢票,抢票成功率为：'+str(100-qiangpiaonum)+\"%\")\n",
    "            \n",
    "    else:\n",
    "        print('普通会员你好，马上为你抢票,抢票成功率为：'+str(100-qiangpiaonum)+\"%\")\n",
    "while True:\n",
    "    if qiangpiaonum<=5:\n",
    "        print(\"抢票成功\")\n",
    "        break\n",
    "    else:\n",
    "        str1=input(\"请输入加油口号‘加油包’为他加油：\")\n",
    "        \n",
    "        if str1==\"加油包\":\n",
    "            new=random.randint(1,5)\n",
    "            qiangpiaonum-=new\n",
    "            print('你为他加油：'+str(new)+'点，目前抢票成功率为'+str(100-qiangpiaonum)+\"%\")\n",
    "        else:\n",
    "            print('你输入的口号不正确，请重新输入：')\n",
    "         \n"
   ]
  },
  {
   "cell_type": "markdown",
   "metadata": {},
   "source": [
    "## EP：\n",
    "- 用户输入一个数字，判断其实奇数还是偶数\n",
    "- 进阶：可以查看下4.5实例研究猜生日"
   ]
  },
  {
   "cell_type": "markdown",
   "metadata": {},
   "source": [
    "## 双向if-else 语句\n",
    "- 如果条件为真，那么走if内部语句，否则走else内部语句"
   ]
  },
  {
   "cell_type": "markdown",
   "metadata": {},
   "source": [
    "## EP：\n",
    "- 产生两个随机整数number1和number2，然后显示给用户，使用户输入数字，并判定其是否正确,如果正确打印“you‘re correct”，否则打印正确答案"
   ]
  },
  {
   "cell_type": "markdown",
   "metadata": {},
   "source": [
    "## 嵌套if 和多向if-elif-else\n",
    "![](../Photo/35.png)"
   ]
  },
  {
   "cell_type": "markdown",
   "metadata": {},
   "source": [
    "## EP：\n",
    "- 提示用户输入一个年份，然后显示表示这一年的动物\n",
    "![](../Photo/36.png)\n",
    "- 计算身体质量指数的程序\n",
    "- BMI = 以千克为单位的体重除以以米为单位的身高\n",
    "![](../Photo/37.png)"
   ]
  },
  {
   "cell_type": "code",
   "execution_count": 20,
   "metadata": {},
   "outputs": [
    {
     "name": "stdout",
     "output_type": "stream",
     "text": [
      "请输入一个年份：1994\n",
      "1994年是狗年\n"
     ]
    }
   ],
   "source": [
    "year=eval(input('请输入一个年份：'))\n",
    "shengxiao='猴鸡狗猪鼠牛虎兔龙蛇马羊'\n",
    "print(str(year)+'年是'+shengxiao[year%12]+'年')"
   ]
  },
  {
   "cell_type": "code",
   "execution_count": 21,
   "metadata": {},
   "outputs": [
    {
     "name": "stdout",
     "output_type": "stream",
     "text": [
      "请输入身高（M为单位）和体重（kg为单位）1.78,76\n",
      "痴肥\n"
     ]
    }
   ],
   "source": [
    "height,weight=eval(input(\"请输入身高（M为单位）和体重（kg为单位）\"))\n",
    "bmi=weight/height\n",
    "if bmi<18.5:\n",
    "    print('超轻')\n",
    "elif bmi<25:\n",
    "    print('标准')\n",
    "elif bmi<30:\n",
    "    print('超重')\n",
    "else:\n",
    "    print('痴肥')"
   ]
  },
  {
   "cell_type": "markdown",
   "metadata": {},
   "source": [
    "## 逻辑运算符\n",
    "![](../Photo/38.png)"
   ]
  },
  {
   "cell_type": "markdown",
   "metadata": {},
   "source": [
    "![](../Photo/39.png)\n",
    "![](../Photo/40.png)"
   ]
  },
  {
   "cell_type": "markdown",
   "metadata": {},
   "source": [
    "## EP：\n",
    "- 判定闰年：一个年份如果能被4整除但不能被100整除，或者能被400整除，那么这个年份就是闰年\n",
    "- 提示用户输入一个年份，并返回是否是闰年\n",
    "- 提示用户输入一个数字，判断其是否为水仙花数"
   ]
  },
  {
   "cell_type": "code",
   "execution_count": 17,
   "metadata": {},
   "outputs": [
    {
     "name": "stdout",
     "output_type": "stream",
     "text": [
      "请输入一个年份：2000\n",
      "2000是闰年\n"
     ]
    }
   ],
   "source": [
    "year=eval(input('请输入一个年份：'))\n",
    "if (year%4==0 and year%100!=0 )or (year %400==0) :\n",
    "    print(str(year)+\"是闰年\")\n",
    "else:\n",
    "    print(str(year)+'不是闰年')"
   ]
  },
  {
   "cell_type": "markdown",
   "metadata": {},
   "source": [
    "## 实例研究：彩票\n",
    "![](../Photo/41.png)"
   ]
  },
  {
   "cell_type": "code",
   "execution_count": 32,
   "metadata": {},
   "outputs": [
    {
     "name": "stdout",
     "output_type": "stream",
     "text": [
      "请输入一个两位数的数字39\n",
      "中奖号码为95你的奖金为$1000!\n"
     ]
    }
   ],
   "source": [
    "num=eval(input('请输入一个两位数的数字'))\n",
    "num1=random.randint(10,99)\n",
    "numa=num//10\n",
    "numb=num%10\n",
    "num1a=num1//10\n",
    "num1b=num1%10\n",
    "if num==num1:\n",
    "    print(\"中奖号码为\"+str(num1)+\"你的奖金为$10000!\")\n",
    "elif numa==num1b and numb==num1a:\n",
    "    print(\"中奖号码为\"+str(num1)+\"你的奖金为$3000!\")\n",
    "elif numa==num1b or numb==num1a:\n",
    "     print(\"中奖号码为\"+str(num1)+\"你的奖金为$1000!\")\n",
    "else:\n",
    "     print(\"中奖号码为\"+str(num1)+\"你没有中奖，奖金为0!\")"
   ]
  },
  {
   "cell_type": "markdown",
   "metadata": {},
   "source": [
    "# Homework\n",
    "- 1\n",
    "![](../Photo/42.png)"
   ]
  },
  {
   "cell_type": "code",
   "execution_count": 37,
   "metadata": {},
   "outputs": [
    {
     "name": "stdout",
     "output_type": "stream",
     "text": [
      "enter a,b,c:1.0,3,1\n",
      "The roots are  -0.38197 and -2.61803\n"
     ]
    }
   ],
   "source": [
    "import math\n",
    "a,b,c=eval(input('enter a,b,c:'))\n",
    "data=b**2-4*a*c\n",
    "if data>0:\n",
    "    x1=(-b+math.sqrt(data))/(2*a)\n",
    "    x2=(-b-math.sqrt(data))/(2*a)\n",
    "    print('The roots are ',round(x1,5),'and',round(x2,5))\n",
    "elif data==0:\n",
    "    x1=(-b+math.sqrt(data))/(2*a)\n",
    "    print('The roots are ',x1)\n",
    "else:\n",
    "    print('The equation has no real roots ')"
   ]
  },
  {
   "cell_type": "markdown",
   "metadata": {},
   "source": [
    "- 2\n",
    "![](../Photo/43.png)"
   ]
  },
  {
   "cell_type": "code",
   "execution_count": 10,
   "metadata": {},
   "outputs": [
    {
     "name": "stdout",
     "output_type": "stream",
     "text": [
      "请输入55与89的和：\n",
      "144\n",
      "正确！\n"
     ]
    }
   ],
   "source": [
    "import random\n",
    "x1=random.randint(0,100)\n",
    "x2=random.randint(0,100)\n",
    "res=eval(input(\"请输入%d与%d的和：\\n\"%(x1,x2)))\n",
    "if res==x1+x2:\n",
    "    print(\"正确！\")\n",
    "else:\n",
    "    print(\"输入错误\")"
   ]
  },
  {
   "cell_type": "markdown",
   "metadata": {},
   "source": [
    "- 3\n",
    "![](../Photo/44.png)"
   ]
  },
  {
   "cell_type": "code",
   "execution_count": 14,
   "metadata": {},
   "outputs": [
    {
     "name": "stdout",
     "output_type": "stream",
     "text": [
      "Enter today's day:1\n",
      "Enter the number of days elapsed since today:31\n",
      "Today is Monday and the future day is Thursday\n"
     ]
    }
   ],
   "source": [
    "weekday=[\"Sunday\",\"Monday\",\"Tuesday\",\"Wednesday\",\"Thursday\",\"Friday\",\"Saturday\"]\n",
    "today=eval(input(\"Enter today's day:\"))\n",
    "nextday=eval(input('Enter the number of days elapsed since today:'))\n",
    "print('Today is '+weekday[today]+' and the future day is '+weekday[(today+nextday)%7])\n"
   ]
  },
  {
   "cell_type": "markdown",
   "metadata": {},
   "source": [
    "- 4\n",
    "![](../Photo/45.png)"
   ]
  },
  {
   "cell_type": "code",
   "execution_count": 3,
   "metadata": {},
   "outputs": [
    {
     "name": "stdout",
     "output_type": "stream",
     "text": [
      "请输入三个整数44,32,11\n",
      "升序后的结果为： 11 32 44\n"
     ]
    }
   ],
   "source": [
    "a,b,c=eval(input('请输入三个整数'))\n",
    "\n",
    "if a>b:\n",
    "    a,b=b,a\n",
    "if a>c:\n",
    "    a,c=c,a\n",
    "if b>c:\n",
    "    b,c=c,b\n",
    "print(\"升序后的结果为：\",a,b,c)"
   ]
  },
  {
   "cell_type": "code",
   "execution_count": 7,
   "metadata": {},
   "outputs": [
    {
     "name": "stdout",
     "output_type": "stream",
     "text": [
      "请输入三个整数3,2,1\n",
      "升序后的结果为： 1 2 3\n"
     ]
    }
   ],
   "source": [
    "a,b,c=eval(input('请输入三个整数'))\n",
    "\n",
    "if a>b:\n",
    "    d=a\n",
    "    a=b\n",
    "    b=d\n",
    "if a>c:\n",
    "    a,c=c,a\n",
    "if b>c:\n",
    "    b,c=c,b\n",
    "print(\"升序后的结果为：\",a,b,c)"
   ]
  },
  {
   "cell_type": "markdown",
   "metadata": {},
   "source": [
    "- 5\n",
    "![](../Photo/46.png)"
   ]
  },
  {
   "cell_type": "code",
   "execution_count": 11,
   "metadata": {},
   "outputs": [
    {
     "name": "stdout",
     "output_type": "stream",
     "text": [
      "enter weight and price for package 1:50,24.99\n",
      "enter weight and price for package 2:25,11.99\n",
      "Package 2 has the better price.\n"
     ]
    }
   ],
   "source": [
    "weight1,price1=eval(input('enter weight and price for package 1:'))\n",
    "weight2,price2=eval(input('enter weight and price for package 2:'))\n",
    "pc1=price1/weight1\n",
    "pc2=price2/weight2\n",
    "if pc1<pc2:\n",
    "    print('Package 1 has the better price.')\n",
    "else:\n",
    "    print('Package 2 has the better price.')\n"
   ]
  },
  {
   "cell_type": "markdown",
   "metadata": {},
   "source": [
    "- 6\n",
    "![](../Photo/47.png)"
   ]
  },
  {
   "cell_type": "code",
   "execution_count": 13,
   "metadata": {},
   "outputs": [
    {
     "name": "stdout",
     "output_type": "stream",
     "text": [
      "please input month and year:3,2005\n",
      "2005年3月份有31天\n"
     ]
    }
   ],
   "source": [
    "month,year=eval(input('please input month and year:'))\n",
    "ls1=[1,3,5,7,8,10,12]\n",
    "ls2=[4,6,9,11]\n",
    "if month in ls1:\n",
    "    print(str(year)+'年'+str(month)+'月份有31天')\n",
    "if month in ls2:\n",
    "    print(str(year)+'年'+str(month)+'月份有30天')\n",
    "if month==2:\n",
    "    if (year%4==0 and year%100!=0 )or (year %400==0) :\n",
    "        print(str(year)+'年'+str(month)+'月份有29天')\n",
    "    else:\n",
    "        print(str(year)+'年'+str(month)+'月份有28天')\n",
    "        \n",
    "    "
   ]
  },
  {
   "cell_type": "markdown",
   "metadata": {},
   "source": [
    "- 7\n",
    "![](../Photo/48.png)"
   ]
  },
  {
   "cell_type": "code",
   "execution_count": 14,
   "metadata": {},
   "outputs": [
    {
     "name": "stdout",
     "output_type": "stream",
     "text": [
      "请输入正面还是反面：正面\n",
      "你猜错了\n"
     ]
    }
   ],
   "source": [
    "import random\n",
    "caicezhi=input('请输入正面还是反面：')\n",
    "yinbi=random.randint(0,1)\n",
    "if caicezhi=='正面' and yinbi==1:\n",
    "    print(\"你猜对了\")\n",
    "else:\n",
    "    print('你猜错了')"
   ]
  },
  {
   "cell_type": "markdown",
   "metadata": {},
   "source": [
    "- 8\n",
    "![](../Photo/49.png)"
   ]
  },
  {
   "cell_type": "code",
   "execution_count": 18,
   "metadata": {},
   "outputs": [
    {
     "name": "stdout",
     "output_type": "stream",
     "text": [
      "scissor(0),rock(1)，paper(2):0\n",
      "The computer is paper,you are scissor, you won\n"
     ]
    }
   ],
   "source": [
    "shitou=eval(input('scissor(0),rock(1)，paper(2):'))\n",
    "computer=random.randint(0,3)\n",
    "if computer ==0:\n",
    "    if shitou ==0:\n",
    "        print('The computer is scissor,you are scissor too, it is a draw')\n",
    "    if shitou ==1:\n",
    "        print('The computer is scissor,you are rock ,you won')\n",
    "    if shitou ==2:\n",
    "        print('The computer is scissor,you are paper, you loss')\n",
    "if computer ==1:\n",
    "    if shitou ==0:\n",
    "        print('The computer is rock,you are scissor,you loss')\n",
    "    if shitou ==1:\n",
    "        print('The computer is rock,you are rock too, it is a draw')\n",
    "    if shitou ==2:\n",
    "        print('The computer is rock,you are paper, you won')\n",
    "if computer ==2:\n",
    "    if shitou ==0:\n",
    "        print('The computer is paper,you are scissor, you won')\n",
    "    if shitou ==1:\n",
    "        print('The computer is paper,you are rock ,you loss')\n",
    "    if shitou ==2:\n",
    "        print('The computer is paper,you are paper too, it is a draw')\n",
    "        "
   ]
  },
  {
   "cell_type": "markdown",
   "metadata": {},
   "source": [
    "- 9\n",
    "![](../Photo/50.png)"
   ]
  },
  {
   "cell_type": "code",
   "execution_count": 58,
   "metadata": {},
   "outputs": [
    {
     "name": "stdout",
     "output_type": "stream",
     "text": [
      "enter year:(e.g.,2008):2013\n",
      "enter month:1-12:1\n",
      "enter the day of the month:1-31:25\n",
      "6 day of the week is  Friday\n"
     ]
    }
   ],
   "source": [
    "year=eval(input('enter year:(e.g.,2008):'))\n",
    "m=eval(input('enter month:1-12:'))\n",
    "q=eval(input('enter the day of the month:1-31:'))\n",
    "if m==1 or m==2:\n",
    "    m+=12\n",
    "    year-=1\n",
    "j=year//100\n",
    "k=year%100\n",
    "part1=(26*(m+1))//10\n",
    "part2=k//4\n",
    "part3=j//4\n",
    "h=(q+part1+k+part2+part3+5*j)%7\n",
    "#h=(q+(26*(m+1)//10)+k+k//4+j//4+5*j)%7\n",
    "weekd=[\"Saturday\",\"Sunday\",\"Monday\",\"Tuesday\",\"Wednesday\",\"Thursday\",\"Friday\"]\n",
    "print(h,'day of the week is ',weekd[h])"
   ]
  },
  {
   "cell_type": "markdown",
   "metadata": {},
   "source": [
    "- 10\n",
    "![](../Photo/51.png)"
   ]
  },
  {
   "cell_type": "code",
   "execution_count": 39,
   "metadata": {},
   "outputs": [
    {
     "name": "stdout",
     "output_type": "stream",
     "text": [
      "The card you picked is the  9 of 梅花\n"
     ]
    }
   ],
   "source": [
    "import random\n",
    "ls1=['Ace','2','3','4',',5','6','7','8','9','10','Jack','Queen','King']\n",
    "ls2=['梅花','红桃','方块','黑桃']\n",
    "rand1=random.randint(0,11)\n",
    "rand2=random.randint(0,3)\n",
    "print(\"The card you picked is the \",ls1[rand1],'of',ls2[rand2])"
   ]
  },
  {
   "cell_type": "markdown",
   "metadata": {},
   "source": [
    "- 11\n",
    "![](../Photo/52.png)"
   ]
  },
  {
   "cell_type": "code",
   "execution_count": 9,
   "metadata": {},
   "outputs": [
    {
     "name": "stdout",
     "output_type": "stream",
     "text": [
      "Enter a three-digit integer:123\n",
      "123 is not a palindrome\n"
     ]
    }
   ],
   "source": [
    "num=eval(input('Enter a three-digit integer:'))\n",
    "if num%10==num//100:\n",
    "    print(num,'is a palindrome')\n",
    "else:\n",
    "    print(num,'is not a palindrome')"
   ]
  },
  {
   "cell_type": "markdown",
   "metadata": {},
   "source": [
    "- 12\n",
    "![](../Photo/53.png)"
   ]
  },
  {
   "cell_type": "code",
   "execution_count": 5,
   "metadata": {},
   "outputs": [
    {
     "name": "stdout",
     "output_type": "stream",
     "text": [
      "enter three edges:1,1,1\n",
      "The perimeter is  3\n"
     ]
    }
   ],
   "source": [
    "import math\n",
    "a,b,c=eval(input('enter three edges:'))\n",
    "if a+b>c and a+c>b and b+c>a and abs(a-b)<c and abs(a-c)<b and abs(b-c)<a:\n",
    "    print('The perimeter is ',a+b+c)\n",
    "else:\n",
    "    print('the data error!')"
   ]
  }
 ],
 "metadata": {
  "kernelspec": {
   "display_name": "Python 3",
   "language": "python",
   "name": "python3"
  },
  "language_info": {
   "codemirror_mode": {
    "name": "ipython",
    "version": 3
   },
   "file_extension": ".py",
   "mimetype": "text/x-python",
   "name": "python",
   "nbconvert_exporter": "python",
   "pygments_lexer": "ipython3",
   "version": "3.6.4"
  }
 },
 "nbformat": 4,
 "nbformat_minor": 2
}
