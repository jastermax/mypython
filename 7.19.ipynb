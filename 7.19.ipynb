{
 "cells": [
  {
   "cell_type": "markdown",
   "metadata": {},
   "source": [
    "# 循环\n",
    "- 循环是一种控制语句块重复执行的结构\n",
    "- while  适用于广度遍历\n",
    "- for    开发中经常使用"
   ]
  },
  {
   "cell_type": "markdown",
   "metadata": {},
   "source": [
    "## while 循环\n",
    "- 当一个条件保持真的时候while循环重复执行语句\n",
    "- while 循环一定要有结束条件，否则很容易进入死循环\n",
    "- while 循环的语法是：\n",
    "\n",
    "    while loop-contunuation-conndition:\n",
    "\n",
    "        Statement"
   ]
  },
  {
   "cell_type": "markdown",
   "metadata": {},
   "source": [
    "## 示例：\n",
    "sum = 0\n",
    "\n",
    "i = 1\n",
    "\n",
    "while i <10:\n",
    "\n",
    "    sum = sum + i\n",
    "    i = i + 1"
   ]
  },
  {
   "cell_type": "markdown",
   "metadata": {},
   "source": [
    "## 错误示例：\n",
    "sum = 0\n",
    "\n",
    "i = 1\n",
    "\n",
    "while i <10:\n",
    "\n",
    "    sum = sum + i\n",
    "\n",
    "i = i + 1\n",
    "- 一旦进入死循环可按 Ctrl + c 停止"
   ]
  },
  {
   "cell_type": "markdown",
   "metadata": {},
   "source": [
    "## EP：\n",
    "![](../Photo/143.png)\n",
    "![](../Photo/144.png)"
   ]
  },
  {
   "cell_type": "markdown",
   "metadata": {},
   "source": [
    "## 尝试死循环"
   ]
  },
  {
   "cell_type": "markdown",
   "metadata": {},
   "source": [
    "## 实例研究：猜数字\n",
    "- 你将要编写一个能够随机生成一个0到10之间的且包括两者的数字程序，这个程序\n",
    "- 提示用户连续地输入数字直到正确，且提示用户输入的数字是过高还是过低"
   ]
  },
  {
   "cell_type": "code",
   "execution_count": 15,
   "metadata": {
    "scrolled": true
   },
   "outputs": [
    {
     "name": "stdout",
     "output_type": "stream",
     "text": [
      "请输入两个数的和：30 + 73 \n",
      "22\n",
      "请输入两个数的和：84 + 61 \n",
      "32\n",
      "请输入两个数的和：69 + 9 \n",
      "2\n",
      "请输入两个数的和：35 + 84 \n",
      "212\n",
      "请输入两个数的和：86 + 93 \n",
      "179\n",
      "你猜对了！\n"
     ]
    }
   ],
   "source": [
    "import random\n",
    "\n",
    "while 1:\n",
    "    num1=random.randint(0,99)\n",
    "    num2=random.randint(0,99)\n",
    "    num3=eval(input('请输入两个数的和：%d + %d \\n'%(num1,num2)))\n",
    "    if num3==num1+num2 :\n",
    "        print('你猜对了！')\n",
    "        break\n",
    "    else:\n",
    "        continue\n",
    "    "
   ]
  },
  {
   "cell_type": "code",
   "execution_count": 1,
   "metadata": {},
   "outputs": [
    {
     "name": "stdout",
     "output_type": "stream",
     "text": [
      "请输入验证码：JQTK\n",
      "JQTK\n",
      "验证成功！\n"
     ]
    }
   ],
   "source": [
    "import random\n",
    "la=[]\n",
    "for i in range (26):\n",
    "    la.append(chr(65+i))\n",
    "count=0\n",
    "while 1:\n",
    "    n1=random.randint(0,25)\n",
    "    n2=random.randint(0,25)\n",
    "    n3=random.randint(0,25)\n",
    "    n4=random.randint(0,25)\n",
    "    str1=input('请输入验证码：'+str(la[n1])+str(la[n2])+str(la[n3])+str(la[n4])+\"\\n\")\n",
    "    if la[n1]==str1[0] and la[n2]==str1[1] and la[n3]==str1[2] and la[n4]==str1[3] :\n",
    "        print('验证成功！')\n",
    "        break\n",
    "    else:\n",
    "        count+=1\n",
    "        if count==3:\n",
    "            print('不要爬了，小网站，没什么东西啊！')\n",
    "            break\n",
    "        print('验证码错误，请重新输入：')\n",
    "        \n"
   ]
  },
  {
   "cell_type": "code",
   "execution_count": 5,
   "metadata": {},
   "outputs": [
    {
     "name": "stdout",
     "output_type": "stream",
     "text": [
      "请输入验证码：QWGR\n",
      "fjs\n",
      "验证码错误，请重新输入：\n",
      "请输入验证码：HPIX\n",
      "sfd\n",
      "验证码错误，请重新输入：\n",
      "请输入验证码：GJQX\n",
      "afs\n",
      "你已经输入错误三次，请输入口令，否则无法继续：你真帅\n",
      "验证码错误，请重新输入：\n",
      "请输入验证码：YLBZ\n",
      "jkasdf\n",
      "验证码错误，请重新输入：\n",
      "请输入验证码：EJLJ\n",
      "\n",
      "验证码错误，请重新输入：\n",
      "请输入验证码：QRKF\n",
      "QRKF\n",
      "验证成功！\n"
     ]
    }
   ],
   "source": [
    "import random\n",
    "la=[]\n",
    "for i in range (26):\n",
    "    la.append(chr(65+i))\n",
    "count=0\n",
    "while 1:\n",
    "    n1=random.randint(0,25)\n",
    "    n2=random.randint(0,25)\n",
    "    n3=random.randint(0,25)\n",
    "    n4=random.randint(0,25)\n",
    "    str2=str(la[n1])+str(la[n2])+str(la[n3])+str(la[n4])\n",
    "    str1=input('请输入验证码：'+str2+\"\\n\")\n",
    "    if str1==str2 :\n",
    "        print('验证成功！')\n",
    "        break\n",
    "    else:\n",
    "        count+=1\n",
    "        if count==3:\n",
    "            str3=input('你已经输入错误三次，请输入口令，否则无法继续：')\n",
    "            if str3 == '你真帅' :\n",
    "                count=0\n",
    "            else:\n",
    "                print('口令错误，不要爬了，小网站，没什么东西啊！')\n",
    "                break\n",
    "        print('验证码错误，请重新输入：')"
   ]
  },
  {
   "cell_type": "markdown",
   "metadata": {},
   "source": [
    "## 使用哨兵值来控制循环\n",
    "- 哨兵值来表明输入的结束\n",
    "- ![](../Photo/54.png)"
   ]
  },
  {
   "cell_type": "markdown",
   "metadata": {},
   "source": [
    "## 警告\n",
    "![](../Photo/55.png)"
   ]
  },
  {
   "cell_type": "code",
   "execution_count": 8,
   "metadata": {},
   "outputs": [
    {
     "name": "stdout",
     "output_type": "stream",
     "text": [
      "0.9\n",
      "0.8\n",
      "0.7\n",
      "0.6\n",
      "0.5\n",
      "0.4\n",
      "0.3\n",
      "0.2\n",
      "0.1\n",
      "0.0\n"
     ]
    }
   ],
   "source": [
    "item = 1\n",
    "while item > 0:\n",
    "    item -= 0.1\n",
    "    item=round(item,1)\n",
    "    print(item)"
   ]
  },
  {
   "cell_type": "markdown",
   "metadata": {},
   "source": [
    "## for 循环\n",
    "- Python的for 循环通过一个序列中的每个值来进行迭代\n",
    "- range(a,b,k)， a，b，k 必须为整数\n",
    "- a: start\n",
    "- b: end\n",
    "- k: step\n",
    "- 注意for 是循环一切可迭代对象，而不是只能使用range"
   ]
  },
  {
   "cell_type": "markdown",
   "metadata": {},
   "source": [
    "## EP:\n",
    "- ![](../Photo/145.png)\n",
    "- 20以内 显示奇数和偶数的程序"
   ]
  },
  {
   "cell_type": "code",
   "execution_count": 4,
   "metadata": {},
   "outputs": [
    {
     "name": "stdout",
     "output_type": "stream",
     "text": [
      "447592774@184.com"
     ]
    }
   ],
   "source": [
    "a='447592774@184.com'\n",
    "i=0\n",
    "#print(len(a))\n",
    "while i< len(a):\n",
    "    print(a[i],end='')\n",
    "    i+=1"
   ]
  },
  {
   "cell_type": "code",
   "execution_count": 8,
   "metadata": {},
   "outputs": [
    {
     "name": "stdout",
     "output_type": "stream",
     "text": [
      "10011\n"
     ]
    }
   ],
   "source": [
    "sum1=0\n",
    "for i in range(142):\n",
    "    sum1+=i\n",
    "print(sum1)"
   ]
  },
  {
   "cell_type": "code",
   "execution_count": 6,
   "metadata": {},
   "outputs": [
    {
     "name": "stdout",
     "output_type": "stream",
     "text": [
      "10011 142\n"
     ]
    }
   ],
   "source": [
    "i=1\n",
    "sum1=0\n",
    "while sum1<10000:\n",
    "    sum1=sum1+i\n",
    "    i=i+1\n",
    "print(sum1,i)"
   ]
  },
  {
   "cell_type": "code",
   "execution_count": 14,
   "metadata": {},
   "outputs": [
    {
     "name": "stdout",
     "output_type": "stream",
     "text": [
      "4 5 6 7 8 9 10 11 12 13 14 15 16 17 18 19 20 21 22 23 24 25 26 27 28 29 30 31 32 33 34 35 36 37 38 39 40 41 42 43 44 45 46 47 48 49 50 51 52 53 54 55 56 57 58 59 60 61 62 63 64 65 66 67 68 69 70 71 72 73 74 75 76 77 78 79 80 81 82 83 84 85 86 87 88 89 90 91 92 93 94 95 96 97 98 99 100 101 102 103 "
     ]
    }
   ],
   "source": [
    "for i in range(100):\n",
    "    i=i+4\n",
    "    print(i,end=' ')"
   ]
  },
  {
   "cell_type": "markdown",
   "metadata": {},
   "source": [
    "## 嵌套循环\n",
    "- 一个循环可以嵌套另一个循环\n",
    "- 每次循环外层时，内层循环都会被刷新重新完成循环\n",
    "- 注意：\n",
    "> - 多层循环非常耗时\n",
    "  - 最多使用3层循环"
   ]
  },
  {
   "cell_type": "markdown",
   "metadata": {},
   "source": [
    "## EP：\n",
    "- 使用多层循环完成9X9乘法表\n",
    "- 找出所有的水仙花数\n",
    "- 显示50以内所有的素数"
   ]
  },
  {
   "cell_type": "code",
   "execution_count": 9,
   "metadata": {
    "collapsed": true
   },
   "outputs": [
    {
     "name": "stdout",
     "output_type": "stream",
     "text": [
      "1\n",
      "2\n",
      "3\n",
      "5\n",
      "7\n",
      "11\n",
      "13\n",
      "17\n",
      "19\n",
      "23\n",
      "29\n",
      "31\n",
      "37\n",
      "41\n",
      "43\n",
      "47\n"
     ]
    }
   ],
   "source": [
    "for i in range(1,50):\n",
    "    if i ==1 or  i == 2:\n",
    "        print(i)\n",
    "    for j in range(2,i):\n",
    "        if i % j == 0:\n",
    "            break\n",
    "        if j == i-1:\n",
    "            print(i)\n",
    "        "
   ]
  },
  {
   "cell_type": "code",
   "execution_count": 19,
   "metadata": {},
   "outputs": [
    {
     "name": "stdout",
     "output_type": "stream",
     "text": [
      "1*1=1 \n",
      "1*2=2 2*2=4 \n",
      "1*3=3 2*3=6 3*3=9 \n",
      "1*4=4 2*4=8 3*4=12 4*4=16 \n",
      "1*5=5 2*5=10 3*5=15 4*5=20 5*5=25 \n",
      "1*6=6 2*6=12 3*6=18 4*6=24 5*6=30 6*6=36 \n",
      "1*7=7 2*7=14 3*7=21 4*7=28 5*7=35 6*7=42 7*7=49 \n",
      "1*8=8 2*8=16 3*8=24 4*8=32 5*8=40 6*8=48 7*8=56 8*8=64 \n",
      "1*9=9 2*9=18 3*9=27 4*9=36 5*9=45 6*9=54 7*9=63 8*9=72 9*9=81 \n"
     ]
    }
   ],
   "source": [
    "for i in range(1,10):\n",
    "    for j in range(1,i+1):\n",
    "        print(\"%d*%d=%d\"%(j,i,i*j),end=' ')\n",
    "    print()    \n",
    "    "
   ]
  },
  {
   "cell_type": "code",
   "execution_count": 36,
   "metadata": {},
   "outputs": [
    {
     "name": "stdout",
     "output_type": "stream",
     "text": [
      "2\n",
      "3\n",
      "4\n",
      "9\n",
      "25\n",
      "49\n"
     ]
    }
   ],
   "source": [
    "import math\n",
    "for i in range(2,50):\n",
    "    j=2\n",
    "    for j in range(2,int(math.sqrt(i))+1):\n",
    "        if i%j==0:\n",
    "            break\n",
    "    if j>=math.sqrt(i):\n",
    "        print(i)"
   ]
  },
  {
   "cell_type": "code",
   "execution_count": 32,
   "metadata": {},
   "outputs": [
    {
     "name": "stdout",
     "output_type": "stream",
     "text": [
      "2  3  4  5  7  11  13  17  19  23  29  31  37  41  43  47  "
     ]
    }
   ],
   "source": [
    "import math\n",
    "for i in range(2,50):\n",
    "    #j=2\n",
    "    for j in range(2,int(i//2)+1):\n",
    "        if i%j==0:\n",
    "            break\n",
    "    if j>=i//2:\n",
    "        print(i,end='  ')"
   ]
  },
  {
   "cell_type": "code",
   "execution_count": 23,
   "metadata": {},
   "outputs": [
    {
     "name": "stdout",
     "output_type": "stream",
     "text": [
      "Aa0 Aa1 Aa2 Aa3 Aa4 Aa5 Aa6 Aa7 Aa8 Aa9 Ab0 Ab1 Ab2 Ab3 Ab4 Ab5 Ab6 Ab7 Ab8 Ab9 \n",
      "Ac0 Ac1 Ac2 Ac3 Ac4 Ac5 Ac6 Ac7 Ac8 Ac9 Ad0 Ad1 Ad2 Ad3 Ad4 Ad5 Ad6 Ad7 Ad8 Ad9 \n",
      "Ae0 Ae1 Ae2 Ae3 Ae4 Ae5 Ae6 Ae7 Ae8 Ae9 Af0 Af1 Af2 Af3 Af4 Af5 Af6 Af7 Af8 Af9 \n",
      "Ag0 Ag1 Ag2 Ag3 Ag4 Ag5 Ag6 Ag7 Ag8 Ag9 Ah0 Ah1 Ah2 Ah3 Ah4 Ah5 Ah6 Ah7 Ah8 Ah9 \n",
      "Ai0 Ai1 Ai2 Ai3 Ai4 Ai5 Ai6 Ai7 Ai8 Ai9 Aj0 Aj1 Aj2 Aj3 Aj4 Aj5 Aj6 Aj7 Aj8 Aj9 \n",
      "Ak0 Ak1 Ak2 Ak3 Ak4 Ak5 Ak6 Ak7 Ak8 Ak9 Al0 Al1 Al2 Al3 Al4 Al5 Al6 Al7 Al8 Al9 \n",
      "Am0 Am1 Am2 Am3 Am4 Am5 Am6 Am7 Am8 Am9 An0 An1 An2 An3 An4 An5 An6 An7 An8 An9 \n",
      "Ao0 Ao1 Ao2 Ao3 Ao4 Ao5 Ao6 Ao7 Ao8 Ao9 Ap0 Ap1 Ap2 Ap3 Ap4 Ap5 Ap6 Ap7 Ap8 Ap9 \n",
      "Aq0 Aq1 Aq2 Aq3 Aq4 Aq5 Aq6 Aq7 Aq8 Aq9 Ar0 Ar1 Ar2 Ar3 Ar4 Ar5 Ar6 Ar7 Ar8 Ar9 \n",
      "As0 As1 As2 As3 As4 As5 As6 As7 As8 As9 At0 At1 At2 At3 At4 At5 At6 At7 At8 At9 \n",
      "Au0 Au1 Au2 Au3 Au4 Au5 Au6 Au7 Au8 Au9 Av0 Av1 Av2 Av3 Av4 Av5 Av6 Av7 Av8 Av9 \n",
      "Aw0 Aw1 Aw2 Aw3 Aw4 Aw5 Aw6 Aw7 Aw8 Aw9 Ax0 Ax1 Ax2 Ax3 Ax4 Ax5 Ax6 Ax7 Ax8 Ax9 \n",
      "Ay0 Ay1 Ay2 Ay3 Ay4 Ay5 Ay6 Ay7 Ay8 Ay9 Az0 Az1 Az2 Az3 Az4 Az5 Az6 Az7 Az8 Az9 \n",
      "Ba0 Ba1 Ba2 Ba3 Ba4 Ba5 Ba6 Ba7 Ba8 Ba9 Bb0 Bb1 Bb2 Bb3 Bb4 Bb5 Bb6 Bb7 Bb8 Bb9 \n",
      "Bc0 Bc1 Bc2 Bc3 Bc4 Bc5 Bc6 Bc7 Bc8 Bc9 Bd0 Bd1 Bd2 Bd3 Bd4 Bd5 Bd6 Bd7 Bd8 Bd9 \n",
      "Be0 Be1 Be2 Be3 Be4 Be5 Be6 Be7 Be8 Be9 Bf0 Bf1 Bf2 Bf3 Bf4 Bf5 Bf6 Bf7 Bf8 Bf9 \n",
      "Bg0 Bg1 Bg2 Bg3 Bg4 Bg5 Bg6 Bg7 Bg8 Bg9 Bh0 Bh1 Bh2 Bh3 Bh4 Bh5 Bh6 Bh7 Bh8 Bh9 \n",
      "Bi0 Bi1 Bi2 Bi3 Bi4 Bi5 Bi6 Bi7 Bi8 Bi9 Bj0 Bj1 Bj2 Bj3 Bj4 Bj5 Bj6 Bj7 Bj8 Bj9 \n",
      "Bk0 Bk1 Bk2 Bk3 Bk4 Bk5 Bk6 Bk7 Bk8 Bk9 Bl0 Bl1 Bl2 Bl3 Bl4 Bl5 Bl6 Bl7 Bl8 Bl9 \n",
      "Bm0 Bm1 Bm2 Bm3 Bm4 Bm5 Bm6 Bm7 Bm8 Bm9 Bn0 Bn1 Bn2 Bn3 Bn4 Bn5 Bn6 Bn7 Bn8 Bn9 \n",
      "Bo0 Bo1 Bo2 Bo3 Bo4 Bo5 Bo6 Bo7 Bo8 Bo9 Bp0 Bp1 Bp2 Bp3 Bp4 Bp5 Bp6 Bp7 Bp8 Bp9 \n",
      "Bq0 Bq1 Bq2 Bq3 Bq4 Bq5 Bq6 Bq7 Bq8 Bq9 Br0 Br1 Br2 Br3 Br4 Br5 Br6 Br7 Br8 Br9 \n",
      "Bs0 Bs1 Bs2 Bs3 Bs4 Bs5 Bs6 Bs7 Bs8 Bs9 Bt0 Bt1 Bt2 Bt3 Bt4 Bt5 Bt6 Bt7 Bt8 Bt9 \n",
      "Bu0 Bu1 Bu2 Bu3 Bu4 Bu5 Bu6 Bu7 Bu8 Bu9 Bv0 Bv1 Bv2 Bv3 Bv4 Bv5 Bv6 Bv7 Bv8 Bv9 \n",
      "Bw0 Bw1 Bw2 Bw3 Bw4 Bw5 Bw6 Bw7 Bw8 Bw9 Bx0 Bx1 Bx2 Bx3 Bx4 Bx5 Bx6 Bx7 Bx8 Bx9 \n",
      "By0 By1 By2 By3 By4 By5 By6 By7 By8 By9 Bz0 Bz1 Bz2 Bz3 Bz4 Bz5 Bz6 Bz7 Bz8 Bz9 \n",
      "Ca0 Ca1 Ca2 Ca3 Ca4 Ca5 Ca6 Ca7 Ca8 Ca9 Cb0 Cb1 Cb2 Cb3 Cb4 Cb5 Cb6 Cb7 Cb8 Cb9 \n",
      "Cc0 Cc1 Cc2 Cc3 Cc4 Cc5 Cc6 Cc7 Cc8 Cc9 Cd0 Cd1 Cd2 Cd3 Cd4 Cd5 Cd6 Cd7 Cd8 Cd9 \n",
      "Ce0 Ce1 Ce2 Ce3 Ce4 Ce5 Ce6 Ce7 Ce8 Ce9 Cf0 Cf1 Cf2 Cf3 Cf4 Cf5 Cf6 Cf7 Cf8 Cf9 \n",
      "Cg0 Cg1 Cg2 Cg3 Cg4 Cg5 Cg6 Cg7 Cg8 Cg9 Ch0 Ch1 Ch2 Ch3 Ch4 Ch5 Ch6 Ch7 Ch8 Ch9 \n",
      "Ci0 Ci1 Ci2 Ci3 Ci4 Ci5 Ci6 Ci7 Ci8 Ci9 Cj0 Cj1 Cj2 Cj3 Cj4 Cj5 Cj6 Cj7 Cj8 Cj9 \n",
      "Ck0 Ck1 Ck2 Ck3 Ck4 Ck5 Ck6 Ck7 Ck8 Ck9 Cl0 Cl1 Cl2 Cl3 Cl4 Cl5 Cl6 Cl7 Cl8 Cl9 \n",
      "Cm0 Cm1 Cm2 Cm3 Cm4 Cm5 Cm6 Cm7 Cm8 Cm9 Cn0 Cn1 Cn2 Cn3 Cn4 Cn5 Cn6 Cn7 Cn8 Cn9 \n",
      "Co0 Co1 Co2 Co3 Co4 Co5 Co6 Co7 Co8 Co9 Cp0 Cp1 Cp2 Cp3 Cp4 Cp5 Cp6 Cp7 Cp8 Cp9 \n",
      "Cq0 Cq1 Cq2 Cq3 Cq4 Cq5 Cq6 Cq7 Cq8 Cq9 Cr0 Cr1 Cr2 Cr3 Cr4 Cr5 Cr6 Cr7 Cr8 Cr9 \n",
      "Cs0 Cs1 Cs2 Cs3 Cs4 Cs5 Cs6 Cs7 Cs8 Cs9 Ct0 Ct1 Ct2 Ct3 Ct4 Ct5 Ct6 Ct7 Ct8 Ct9 \n",
      "Cu0 Cu1 Cu2 Cu3 Cu4 Cu5 Cu6 Cu7 Cu8 Cu9 Cv0 Cv1 Cv2 Cv3 Cv4 Cv5 Cv6 Cv7 Cv8 Cv9 \n",
      "Cw0 Cw1 Cw2 Cw3 Cw4 Cw5 Cw6 Cw7 Cw8 Cw9 Cx0 Cx1 Cx2 Cx3 Cx4 Cx5 Cx6 Cx7 Cx8 Cx9 \n",
      "Cy0 Cy1 Cy2 Cy3 Cy4 Cy5 Cy6 Cy7 Cy8 Cy9 Cz0 Cz1 Cz2 Cz3 Cz4 Cz5 Cz6 Cz7 Cz8 Cz9 \n",
      "Da0 Da1 Da2 Da3 Da4 Da5 Da6 Da7 Da8 Da9 Db0 Db1 Db2 Db3 Db4 Db5 Db6 Db7 Db8 Db9 \n",
      "Dc0 Dc1 Dc2 Dc3 Dc4 Dc5 Dc6 Dc7 Dc8 Dc9 Dd0 Dd1 Dd2 Dd3 Dd4 Dd5 Dd6 Dd7 Dd8 Dd9 \n",
      "De0 De1 De2 De3 De4 De5 De6 De7 De8 De9 Df0 Df1 Df2 Df3 Df4 Df5 Df6 Df7 Df8 Df9 \n",
      "Dg0 Dg1 Dg2 Dg3 Dg4 Dg5 Dg6 Dg7 Dg8 Dg9 Dh0 Dh1 Dh2 Dh3 Dh4 Dh5 Dh6 Dh7 Dh8 Dh9 \n",
      "Di0 Di1 Di2 Di3 Di4 Di5 Di6 Di7 Di8 Di9 Dj0 Dj1 Dj2 Dj3 Dj4 Dj5 Dj6 Dj7 Dj8 Dj9 \n",
      "Dk0 Dk1 Dk2 Dk3 Dk4 Dk5 Dk6 Dk7 Dk8 Dk9 Dl0 Dl1 Dl2 Dl3 Dl4 Dl5 Dl6 Dl7 Dl8 Dl9 \n",
      "Dm0 Dm1 Dm2 Dm3 Dm4 Dm5 Dm6 Dm7 Dm8 Dm9 Dn0 Dn1 Dn2 Dn3 Dn4 Dn5 Dn6 Dn7 Dn8 Dn9 \n",
      "Do0 Do1 Do2 Do3 Do4 Do5 Do6 Do7 Do8 Do9 Dp0 Dp1 Dp2 Dp3 Dp4 Dp5 Dp6 Dp7 Dp8 Dp9 \n",
      "Dq0 Dq1 Dq2 Dq3 Dq4 Dq5 Dq6 Dq7 Dq8 Dq9 Dr0 Dr1 Dr2 Dr3 Dr4 Dr5 Dr6 Dr7 Dr8 Dr9 \n",
      "Ds0 Ds1 Ds2 Ds3 Ds4 Ds5 Ds6 Ds7 Ds8 Ds9 Dt0 Dt1 Dt2 Dt3 Dt4 Dt5 Dt6 Dt7 Dt8 Dt9 \n",
      "Du0 Du1 Du2 Du3 Du4 Du5 Du6 Du7 Du8 Du9 Dv0 Dv1 Dv2 Dv3 Dv4 Dv5 Dv6 Dv7 Dv8 Dv9 \n",
      "Dw0 Dw1 Dw2 Dw3 Dw4 Dw5 Dw6 Dw7 Dw8 Dw9 Dx0 Dx1 Dx2 Dx3 Dx4 Dx5 Dx6 Dx7 Dx8 Dx9 \n",
      "Dy0 Dy1 Dy2 Dy3 Dy4 Dy5 Dy6 Dy7 Dy8 Dy9 Dz0 Dz1 Dz2 Dz3 Dz4 Dz5 Dz6 Dz7 Dz8 Dz9 \n",
      "Ea0 Ea1 Ea2 Ea3 Ea4 Ea5 Ea6 Ea7 Ea8 Ea9 Eb0 Eb1 Eb2 Eb3 Eb4 Eb5 Eb6 Eb7 Eb8 Eb9 \n",
      "Ec0 Ec1 Ec2 Ec3 Ec4 Ec5 Ec6 Ec7 Ec8 Ec9 Ed0 Ed1 Ed2 Ed3 Ed4 Ed5 Ed6 Ed7 Ed8 Ed9 \n",
      "Ee0 Ee1 Ee2 Ee3 Ee4 Ee5 Ee6 Ee7 Ee8 Ee9 Ef0 Ef1 Ef2 Ef3 Ef4 Ef5 Ef6 Ef7 Ef8 Ef9 \n",
      "Eg0 Eg1 Eg2 Eg3 Eg4 Eg5 Eg6 Eg7 Eg8 Eg9 Eh0 Eh1 Eh2 Eh3 Eh4 Eh5 Eh6 Eh7 Eh8 Eh9 \n",
      "Ei0 Ei1 Ei2 Ei3 Ei4 Ei5 Ei6 Ei7 Ei8 Ei9 Ej0 Ej1 Ej2 Ej3 Ej4 Ej5 Ej6 Ej7 Ej8 Ej9 \n",
      "Ek0 Ek1 Ek2 Ek3 Ek4 Ek5 Ek6 Ek7 Ek8 Ek9 El0 El1 El2 El3 El4 El5 El6 El7 El8 El9 \n",
      "Em0 Em1 Em2 Em3 Em4 Em5 Em6 Em7 Em8 Em9 En0 En1 En2 En3 En4 En5 En6 En7 En8 En9 \n",
      "Eo0 Eo1 Eo2 Eo3 Eo4 Eo5 Eo6 Eo7 Eo8 Eo9 Ep0 Ep1 Ep2 Ep3 Ep4 Ep5 Ep6 Ep7 Ep8 Ep9 \n",
      "Eq0 Eq1 Eq2 Eq3 Eq4 Eq5 Eq6 Eq7 Eq8 Eq9 Er0 Er1 Er2 Er3 Er4 Er5 Er6 Er7 Er8 Er9 \n",
      "Es0 Es1 Es2 Es3 Es4 Es5 Es6 Es7 Es8 Es9 Et0 Et1 Et2 Et3 Et4 Et5 Et6 Et7 Et8 Et9 \n",
      "Eu0 Eu1 Eu2 Eu3 Eu4 Eu5 Eu6 Eu7 Eu8 Eu9 Ev0 Ev1 Ev2 Ev3 Ev4 Ev5 Ev6 Ev7 Ev8 Ev9 \n",
      "Ew0 Ew1 Ew2 Ew3 Ew4 Ew5 Ew6 Ew7 Ew8 Ew9 Ex0 Ex1 Ex2 Ex3 Ex4 Ex5 Ex6 Ex7 Ex8 Ex9 \n",
      "Ey0 Ey1 Ey2 Ey3 Ey4 Ey5 Ey6 Ey7 Ey8 Ey9 Ez0 Ez1 Ez2 Ez3 Ez4 Ez5 Ez6 Ez7 Ez8 Ez9 \n",
      "Fa0 Fa1 Fa2 Fa3 Fa4 Fa5 Fa6 Fa7 Fa8 Fa9 Fb0 Fb1 Fb2 Fb3 Fb4 Fb5 Fb6 Fb7 Fb8 Fb9 \n",
      "Fc0 Fc1 Fc2 Fc3 Fc4 Fc5 Fc6 Fc7 Fc8 Fc9 Fd0 Fd1 Fd2 Fd3 Fd4 Fd5 Fd6 Fd7 Fd8 Fd9 \n",
      "Fe0 Fe1 Fe2 Fe3 Fe4 Fe5 Fe6 Fe7 Fe8 Fe9 Ff0 Ff1 Ff2 Ff3 Ff4 Ff5 Ff6 Ff7 Ff8 Ff9 \n",
      "Fg0 Fg1 Fg2 Fg3 Fg4 Fg5 Fg6 Fg7 Fg8 Fg9 Fh0 Fh1 Fh2 Fh3 Fh4 Fh5 Fh6 Fh7 Fh8 Fh9 \n",
      "Fi0 Fi1 Fi2 Fi3 Fi4 Fi5 Fi6 Fi7 Fi8 Fi9 Fj0 Fj1 Fj2 Fj3 Fj4 Fj5 Fj6 Fj7 Fj8 Fj9 \n",
      "Fk0 Fk1 Fk2 Fk3 Fk4 Fk5 Fk6 Fk7 Fk8 Fk9 Fl0 Fl1 Fl2 Fl3 Fl4 Fl5 Fl6 Fl7 Fl8 Fl9 \n",
      "Fm0 Fm1 Fm2 Fm3 Fm4 Fm5 Fm6 Fm7 Fm8 Fm9 Fn0 Fn1 Fn2 Fn3 Fn4 Fn5 Fn6 Fn7 Fn8 Fn9 \n",
      "Fo0 Fo1 Fo2 Fo3 Fo4 Fo5 Fo6 Fo7 Fo8 Fo9 Fp0 Fp1 Fp2 Fp3 Fp4 Fp5 Fp6 Fp7 Fp8 Fp9 \n",
      "Fq0 Fq1 Fq2 Fq3 Fq4 Fq5 Fq6 Fq7 Fq8 Fq9 Fr0 Fr1 Fr2 Fr3 Fr4 Fr5 Fr6 Fr7 Fr8 Fr9 \n",
      "Fs0 Fs1 Fs2 Fs3 Fs4 Fs5 Fs6 Fs7 Fs8 Fs9 Ft0 Ft1 Ft2 Ft3 Ft4 Ft5 Ft6 Ft7 Ft8 Ft9 \n",
      "Fu0 Fu1 Fu2 Fu3 Fu4 Fu5 Fu6 Fu7 Fu8 Fu9 Fv0 Fv1 Fv2 Fv3 Fv4 Fv5 Fv6 Fv7 Fv8 Fv9 \n",
      "Fw0 Fw1 Fw2 Fw3 Fw4 Fw5 Fw6 Fw7 Fw8 Fw9 Fx0 Fx1 Fx2 Fx3 Fx4 Fx5 Fx6 Fx7 Fx8 Fx9 \n",
      "Fy0 Fy1 Fy2 Fy3 Fy4 Fy5 Fy6 Fy7 Fy8 Fy9 Fz0 Fz1 Fz2 Fz3 Fz4 Fz5 Fz6 Fz7 Fz8 Fz9 \n",
      "Ga0 Ga1 Ga2 Ga3 Ga4 Ga5 Ga6 Ga7 Ga8 Ga9 Gb0 Gb1 Gb2 Gb3 Gb4 Gb5 Gb6 Gb7 Gb8 Gb9 \n",
      "Gc0 Gc1 Gc2 Gc3 Gc4 Gc5 Gc6 Gc7 Gc8 Gc9 Gd0 Gd1 Gd2 Gd3 Gd4 Gd5 Gd6 Gd7 Gd8 Gd9 \n",
      "Ge0 Ge1 Ge2 Ge3 Ge4 Ge5 Ge6 Ge7 Ge8 Ge9 Gf0 Gf1 Gf2 Gf3 Gf4 Gf5 Gf6 Gf7 Gf8 Gf9 \n",
      "Gg0 Gg1 Gg2 Gg3 Gg4 Gg5 Gg6 Gg7 Gg8 Gg9 Gh0 Gh1 Gh2 Gh3 Gh4 Gh5 Gh6 Gh7 Gh8 Gh9 \n",
      "Gi0 Gi1 Gi2 Gi3 Gi4 Gi5 Gi6 Gi7 Gi8 Gi9 Gj0 Gj1 Gj2 Gj3 Gj4 Gj5 Gj6 Gj7 Gj8 Gj9 \n",
      "Gk0 Gk1 Gk2 Gk3 Gk4 Gk5 Gk6 Gk7 Gk8 Gk9 Gl0 Gl1 Gl2 Gl3 Gl4 Gl5 Gl6 Gl7 Gl8 Gl9 \n",
      "Gm0 Gm1 Gm2 Gm3 Gm4 Gm5 Gm6 Gm7 Gm8 Gm9 Gn0 Gn1 Gn2 Gn3 Gn4 Gn5 Gn6 Gn7 Gn8 Gn9 \n",
      "Go0 Go1 Go2 Go3 Go4 Go5 Go6 Go7 Go8 Go9 Gp0 Gp1 Gp2 Gp3 Gp4 Gp5 Gp6 Gp7 Gp8 Gp9 \n",
      "Gq0 Gq1 Gq2 Gq3 Gq4 Gq5 Gq6 Gq7 Gq8 Gq9 Gr0 Gr1 Gr2 Gr3 Gr4 Gr5 Gr6 Gr7 Gr8 Gr9 \n",
      "Gs0 Gs1 Gs2 Gs3 Gs4 Gs5 Gs6 Gs7 Gs8 Gs9 Gt0 Gt1 Gt2 Gt3 Gt4 Gt5 Gt6 Gt7 Gt8 Gt9 \n",
      "Gu0 Gu1 Gu2 Gu3 Gu4 Gu5 Gu6 Gu7 Gu8 Gu9 Gv0 Gv1 Gv2 Gv3 Gv4 Gv5 Gv6 Gv7 Gv8 Gv9 \n",
      "Gw0 Gw1 Gw2 Gw3 Gw4 Gw5 Gw6 Gw7 Gw8 Gw9 Gx0 Gx1 Gx2 Gx3 Gx4 Gx5 Gx6 Gx7 Gx8 Gx9 \n",
      "Gy0 Gy1 Gy2 Gy3 Gy4 Gy5 Gy6 Gy7 Gy8 Gy9 Gz0 Gz1 Gz2 Gz3 Gz4 Gz5 Gz6 Gz7 Gz8 Gz9 \n",
      "Ha0 Ha1 Ha2 Ha3 Ha4 Ha5 Ha6 Ha7 Ha8 Ha9 Hb0 Hb1 Hb2 Hb3 Hb4 Hb5 Hb6 Hb7 Hb8 Hb9 \n",
      "Hc0 Hc1 Hc2 Hc3 Hc4 Hc5 Hc6 Hc7 Hc8 Hc9 Hd0 Hd1 Hd2 Hd3 Hd4 Hd5 Hd6 Hd7 Hd8 Hd9 \n",
      "He0 He1 He2 He3 He4 He5 He6 He7 He8 He9 Hf0 Hf1 Hf2 Hf3 Hf4 Hf5 Hf6 Hf7 Hf8 Hf9 \n",
      "Hg0 Hg1 Hg2 Hg3 Hg4 Hg5 Hg6 Hg7 Hg8 Hg9 Hh0 Hh1 Hh2 Hh3 Hh4 Hh5 Hh6 Hh7 Hh8 Hh9 \n",
      "Hi0 Hi1 Hi2 Hi3 Hi4 Hi5 Hi6 Hi7 Hi8 Hi9 Hj0 Hj1 Hj2 Hj3 Hj4 Hj5 Hj6 Hj7 Hj8 Hj9 \n",
      "Hk0 Hk1 Hk2 Hk3 Hk4 Hk5 Hk6 Hk7 Hk8 Hk9 Hl0 Hl1 Hl2 Hl3 Hl4 Hl5 Hl6 Hl7 Hl8 Hl9 \n",
      "Hm0 Hm1 Hm2 Hm3 Hm4 Hm5 Hm6 Hm7 Hm8 Hm9 Hn0 Hn1 Hn2 Hn3 Hn4 Hn5 Hn6 Hn7 Hn8 Hn9 \n",
      "Ho0 Ho1 Ho2 Ho3 Ho4 Ho5 Ho6 Ho7 Ho8 Ho9 Hp0 Hp1 Hp2 Hp3 Hp4 Hp5 Hp6 Hp7 Hp8 Hp9 \n",
      "Hq0 Hq1 Hq2 Hq3 Hq4 Hq5 Hq6 Hq7 Hq8 Hq9 Hr0 Hr1 Hr2 Hr3 Hr4 Hr5 Hr6 Hr7 Hr8 Hr9 \n",
      "Hs0 Hs1 Hs2 Hs3 Hs4 Hs5 Hs6 Hs7 Hs8 Hs9 Ht0 Ht1 Ht2 Ht3 Ht4 Ht5 Ht6 Ht7 Ht8 Ht9 \n",
      "Hu0 Hu1 Hu2 Hu3 Hu4 Hu5 Hu6 Hu7 Hu8 Hu9 Hv0 Hv1 Hv2 Hv3 Hv4 Hv5 Hv6 Hv7 Hv8 Hv9 \n",
      "Hw0 Hw1 Hw2 Hw3 Hw4 Hw5 Hw6 Hw7 Hw8 Hw9 Hx0 Hx1 Hx2 Hx3 Hx4 Hx5 Hx6 Hx7 Hx8 Hx9 \n",
      "Hy0 Hy1 Hy2 Hy3 Hy4 Hy5 Hy6 Hy7 Hy8 Hy9 Hz0 Hz1 Hz2 Hz3 Hz4 Hz5 Hz6 Hz7 Hz8 Hz9 \n",
      "Ia0 Ia1 Ia2 Ia3 Ia4 Ia5 Ia6 Ia7 Ia8 Ia9 Ib0 Ib1 Ib2 Ib3 Ib4 Ib5 Ib6 Ib7 Ib8 Ib9 \n",
      "Ic0 Ic1 Ic2 Ic3 Ic4 Ic5 Ic6 Ic7 Ic8 Ic9 Id0 Id1 Id2 Id3 Id4 Id5 Id6 Id7 Id8 Id9 \n",
      "Ie0 Ie1 Ie2 Ie3 Ie4 Ie5 Ie6 Ie7 Ie8 Ie9 If0 If1 If2 If3 If4 If5 If6 If7 If8 If9 \n",
      "Ig0 Ig1 Ig2 Ig3 Ig4 Ig5 Ig6 Ig7 Ig8 Ig9 Ih0 Ih1 Ih2 Ih3 Ih4 Ih5 Ih6 Ih7 Ih8 Ih9 \n",
      "Ii0 Ii1 Ii2 Ii3 Ii4 Ii5 Ii6 Ii7 Ii8 Ii9 Ij0 Ij1 Ij2 Ij3 Ij4 Ij5 Ij6 Ij7 Ij8 Ij9 \n",
      "Ik0 Ik1 Ik2 Ik3 Ik4 Ik5 Ik6 Ik7 Ik8 Ik9 Il0 Il1 Il2 Il3 Il4 Il5 Il6 Il7 Il8 Il9 \n",
      "Im0 Im1 Im2 Im3 Im4 Im5 Im6 Im7 Im8 Im9 In0 In1 In2 In3 In4 In5 In6 In7 In8 In9 \n",
      "Io0 Io1 Io2 Io3 Io4 Io5 Io6 Io7 Io8 Io9 Ip0 Ip1 Ip2 Ip3 Ip4 Ip5 Ip6 Ip7 Ip8 Ip9 \n",
      "Iq0 Iq1 Iq2 Iq3 Iq4 Iq5 Iq6 Iq7 Iq8 Iq9 Ir0 Ir1 Ir2 Ir3 Ir4 Ir5 Ir6 Ir7 Ir8 Ir9 \n",
      "Is0 Is1 Is2 Is3 Is4 Is5 Is6 Is7 Is8 Is9 It0 It1 It2 It3 It4 It5 It6 It7 It8 It9 \n",
      "Iu0 Iu1 Iu2 Iu3 Iu4 Iu5 Iu6 Iu7 Iu8 Iu9 Iv0 Iv1 Iv2 Iv3 Iv4 Iv5 Iv6 Iv7 Iv8 Iv9 \n",
      "Iw0 Iw1 Iw2 Iw3 Iw4 Iw5 Iw6 Iw7 Iw8 Iw9 Ix0 Ix1 Ix2 Ix3 Ix4 Ix5 Ix6 Ix7 Ix8 Ix9 \n",
      "Iy0 Iy1 Iy2 Iy3 Iy4 Iy5 Iy6 Iy7 Iy8 Iy9 Iz0 Iz1 Iz2 Iz3 Iz4 Iz5 Iz6 Iz7 Iz8 Iz9 \n",
      "Ja0 Ja1 Ja2 Ja3 Ja4 Ja5 Ja6 Ja7 Ja8 Ja9 Jb0 Jb1 Jb2 Jb3 Jb4 Jb5 Jb6 Jb7 Jb8 Jb9 \n",
      "Jc0 Jc1 Jc2 Jc3 Jc4 Jc5 Jc6 Jc7 Jc8 Jc9 Jd0 Jd1 Jd2 Jd3 Jd4 Jd5 Jd6 Jd7 Jd8 Jd9 \n",
      "Je0 Je1 Je2 Je3 Je4 Je5 Je6 Je7 Je8 Je9 Jf0 Jf1 Jf2 Jf3 Jf4 Jf5 Jf6 Jf7 Jf8 Jf9 \n",
      "Jg0 Jg1 Jg2 Jg3 Jg4 Jg5 Jg6 Jg7 Jg8 Jg9 Jh0 Jh1 Jh2 Jh3 Jh4 Jh5 Jh6 Jh7 Jh8 Jh9 \n",
      "Ji0 Ji1 Ji2 Ji3 Ji4 Ji5 Ji6 Ji7 Ji8 Ji9 Jj0 Jj1 Jj2 Jj3 Jj4 Jj5 Jj6 Jj7 Jj8 Jj9 \n",
      "Jk0 Jk1 Jk2 Jk3 Jk4 Jk5 Jk6 Jk7 Jk8 Jk9 Jl0 Jl1 Jl2 Jl3 Jl4 Jl5 Jl6 Jl7 Jl8 Jl9 \n",
      "Jm0 Jm1 Jm2 Jm3 Jm4 Jm5 Jm6 Jm7 Jm8 Jm9 Jn0 Jn1 Jn2 Jn3 Jn4 Jn5 Jn6 Jn7 Jn8 Jn9 \n",
      "Jo0 Jo1 Jo2 Jo3 Jo4 Jo5 Jo6 Jo7 Jo8 Jo9 Jp0 Jp1 Jp2 Jp3 Jp4 Jp5 Jp6 Jp7 Jp8 Jp9 \n",
      "Jq0 Jq1 Jq2 Jq3 Jq4 Jq5 Jq6 Jq7 Jq8 Jq9 Jr0 Jr1 Jr2 Jr3 Jr4 Jr5 Jr6 Jr7 Jr8 Jr9 \n",
      "Js0 Js1 Js2 Js3 Js4 Js5 Js6 Js7 Js8 Js9 Jt0 Jt1 Jt2 Jt3 Jt4 Jt5 Jt6 Jt7 Jt8 Jt9 \n",
      "Ju0 Ju1 Ju2 Ju3 Ju4 Ju5 Ju6 Ju7 Ju8 Ju9 Jv0 Jv1 Jv2 Jv3 Jv4 Jv5 Jv6 Jv7 Jv8 Jv9 \n",
      "Jw0 Jw1 Jw2 Jw3 Jw4 Jw5 Jw6 Jw7 Jw8 Jw9 Jx0 Jx1 Jx2 Jx3 Jx4 Jx5 Jx6 Jx7 Jx8 Jx9 \n",
      "Jy0 Jy1 Jy2 Jy3 Jy4 Jy5 Jy6 Jy7 Jy8 Jy9 Jz0 Jz1 Jz2 Jz3 Jz4 Jz5 Jz6 Jz7 Jz8 Jz9 \n",
      "Ka0 Ka1 Ka2 Ka3 Ka4 Ka5 Ka6 Ka7 Ka8 Ka9 Kb0 Kb1 Kb2 Kb3 Kb4 Kb5 Kb6 Kb7 Kb8 Kb9 \n",
      "Kc0 Kc1 Kc2 Kc3 Kc4 Kc5 Kc6 Kc7 Kc8 Kc9 Kd0 Kd1 Kd2 Kd3 Kd4 Kd5 Kd6 Kd7 Kd8 Kd9 \n",
      "Ke0 Ke1 Ke2 Ke3 Ke4 Ke5 Ke6 Ke7 Ke8 Ke9 Kf0 Kf1 Kf2 Kf3 Kf4 Kf5 Kf6 Kf7 Kf8 Kf9 \n",
      "Kg0 Kg1 Kg2 Kg3 Kg4 Kg5 Kg6 Kg7 Kg8 Kg9 Kh0 Kh1 Kh2 Kh3 Kh4 Kh5 Kh6 Kh7 Kh8 Kh9 \n",
      "Ki0 Ki1 Ki2 Ki3 Ki4 Ki5 Ki6 Ki7 Ki8 Ki9 Kj0 Kj1 Kj2 Kj3 Kj4 Kj5 Kj6 Kj7 Kj8 Kj9 \n",
      "Kk0 Kk1 Kk2 Kk3 Kk4 Kk5 Kk6 Kk7 Kk8 Kk9 Kl0 Kl1 Kl2 Kl3 Kl4 Kl5 Kl6 Kl7 Kl8 Kl9 \n",
      "Km0 Km1 Km2 Km3 Km4 Km5 Km6 Km7 Km8 Km9 Kn0 Kn1 Kn2 Kn3 Kn4 Kn5 Kn6 Kn7 Kn8 Kn9 \n",
      "Ko0 Ko1 Ko2 Ko3 Ko4 Ko5 Ko6 Ko7 Ko8 Ko9 Kp0 Kp1 Kp2 Kp3 Kp4 Kp5 Kp6 Kp7 Kp8 Kp9 \n",
      "Kq0 Kq1 Kq2 Kq3 Kq4 Kq5 Kq6 Kq7 Kq8 Kq9 Kr0 Kr1 Kr2 Kr3 Kr4 Kr5 Kr6 Kr7 Kr8 Kr9 \n",
      "Ks0 Ks1 Ks2 Ks3 Ks4 Ks5 Ks6 Ks7 Ks8 Ks9 Kt0 Kt1 Kt2 Kt3 Kt4 Kt5 Kt6 Kt7 Kt8 Kt9 \n",
      "Ku0 Ku1 Ku2 Ku3 Ku4 Ku5 Ku6 Ku7 Ku8 Ku9 Kv0 Kv1 Kv2 Kv3 Kv4 Kv5 Kv6 Kv7 Kv8 Kv9 \n",
      "Kw0 Kw1 Kw2 Kw3 Kw4 Kw5 Kw6 Kw7 Kw8 Kw9 Kx0 Kx1 Kx2 Kx3 Kx4 Kx5 Kx6 Kx7 Kx8 Kx9 \n",
      "Ky0 Ky1 Ky2 Ky3 Ky4 Ky5 Ky6 Ky7 Ky8 Ky9 Kz0 Kz1 Kz2 Kz3 Kz4 Kz5 Kz6 Kz7 Kz8 Kz9 \n",
      "La0 La1 La2 La3 La4 La5 La6 La7 La8 La9 Lb0 Lb1 Lb2 Lb3 Lb4 Lb5 Lb6 Lb7 Lb8 Lb9 \n",
      "Lc0 Lc1 Lc2 Lc3 Lc4 Lc5 Lc6 Lc7 Lc8 Lc9 Ld0 Ld1 Ld2 Ld3 Ld4 Ld5 Ld6 Ld7 Ld8 Ld9 \n",
      "Le0 Le1 Le2 Le3 Le4 Le5 Le6 Le7 Le8 Le9 Lf0 Lf1 Lf2 Lf3 Lf4 Lf5 Lf6 Lf7 Lf8 Lf9 \n",
      "Lg0 Lg1 Lg2 Lg3 Lg4 Lg5 Lg6 Lg7 Lg8 Lg9 Lh0 Lh1 Lh2 Lh3 Lh4 Lh5 Lh6 Lh7 Lh8 Lh9 \n",
      "Li0 Li1 Li2 Li3 Li4 Li5 Li6 Li7 Li8 Li9 Lj0 Lj1 Lj2 Lj3 Lj4 Lj5 Lj6 Lj7 Lj8 Lj9 \n",
      "Lk0 Lk1 Lk2 Lk3 Lk4 Lk5 Lk6 Lk7 Lk8 Lk9 Ll0 Ll1 Ll2 Ll3 Ll4 Ll5 Ll6 Ll7 Ll8 Ll9 \n",
      "Lm0 Lm1 Lm2 Lm3 Lm4 Lm5 Lm6 Lm7 Lm8 Lm9 Ln0 Ln1 Ln2 Ln3 Ln4 Ln5 Ln6 Ln7 Ln8 Ln9 \n",
      "Lo0 Lo1 Lo2 Lo3 Lo4 Lo5 Lo6 Lo7 Lo8 Lo9 Lp0 Lp1 Lp2 Lp3 Lp4 Lp5 Lp6 Lp7 Lp8 Lp9 \n",
      "Lq0 Lq1 Lq2 Lq3 Lq4 Lq5 Lq6 Lq7 Lq8 Lq9 Lr0 Lr1 Lr2 Lr3 Lr4 Lr5 Lr6 Lr7 Lr8 Lr9 \n",
      "Ls0 Ls1 Ls2 Ls3 Ls4 Ls5 Ls6 Ls7 Ls8 Ls9 Lt0 Lt1 Lt2 Lt3 Lt4 Lt5 Lt6 Lt7 Lt8 Lt9 \n",
      "Lu0 Lu1 Lu2 Lu3 Lu4 Lu5 Lu6 Lu7 Lu8 Lu9 Lv0 Lv1 Lv2 Lv3 Lv4 Lv5 Lv6 Lv7 Lv8 Lv9 \n",
      "Lw0 Lw1 Lw2 Lw3 Lw4 Lw5 Lw6 Lw7 Lw8 Lw9 Lx0 Lx1 Lx2 Lx3 Lx4 Lx5 Lx6 Lx7 Lx8 Lx9 \n",
      "Ly0 Ly1 Ly2 Ly3 Ly4 Ly5 Ly6 Ly7 Ly8 Ly9 Lz0 Lz1 Lz2 Lz3 Lz4 Lz5 Lz6 Lz7 Lz8 Lz9 \n",
      "Ma0 Ma1 Ma2 Ma3 Ma4 Ma5 Ma6 Ma7 Ma8 Ma9 Mb0 Mb1 Mb2 Mb3 Mb4 Mb5 Mb6 Mb7 Mb8 Mb9 \n",
      "Mc0 Mc1 Mc2 Mc3 Mc4 Mc5 Mc6 Mc7 Mc8 Mc9 Md0 Md1 Md2 Md3 Md4 Md5 Md6 Md7 Md8 Md9 \n"
     ]
    },
    {
     "name": "stdout",
     "output_type": "stream",
     "text": [
      "Me0 Me1 Me2 Me3 Me4 Me5 Me6 Me7 Me8 Me9 Mf0 Mf1 Mf2 Mf3 Mf4 Mf5 Mf6 Mf7 Mf8 Mf9 \n",
      "Mg0 Mg1 Mg2 Mg3 Mg4 Mg5 Mg6 Mg7 Mg8 Mg9 Mh0 Mh1 Mh2 Mh3 Mh4 Mh5 Mh6 Mh7 Mh8 Mh9 \n",
      "Mi0 Mi1 Mi2 Mi3 Mi4 Mi5 Mi6 Mi7 Mi8 Mi9 Mj0 Mj1 Mj2 Mj3 Mj4 Mj5 Mj6 Mj7 Mj8 Mj9 \n",
      "Mk0 Mk1 Mk2 Mk3 Mk4 Mk5 Mk6 Mk7 Mk8 Mk9 Ml0 Ml1 Ml2 Ml3 Ml4 Ml5 Ml6 Ml7 Ml8 Ml9 \n",
      "Mm0 Mm1 Mm2 Mm3 Mm4 Mm5 Mm6 Mm7 Mm8 Mm9 Mn0 Mn1 Mn2 Mn3 Mn4 Mn5 Mn6 Mn7 Mn8 Mn9 \n",
      "Mo0 Mo1 Mo2 Mo3 Mo4 Mo5 Mo6 Mo7 Mo8 Mo9 Mp0 Mp1 Mp2 Mp3 Mp4 Mp5 Mp6 Mp7 Mp8 Mp9 \n",
      "Mq0 Mq1 Mq2 Mq3 Mq4 Mq5 Mq6 Mq7 Mq8 Mq9 Mr0 Mr1 Mr2 Mr3 Mr4 Mr5 Mr6 Mr7 Mr8 Mr9 \n",
      "Ms0 Ms1 Ms2 Ms3 Ms4 Ms5 Ms6 Ms7 Ms8 Ms9 Mt0 Mt1 Mt2 Mt3 Mt4 Mt5 Mt6 Mt7 Mt8 Mt9 \n",
      "Mu0 Mu1 Mu2 Mu3 Mu4 Mu5 Mu6 Mu7 Mu8 Mu9 Mv0 Mv1 Mv2 Mv3 Mv4 Mv5 Mv6 Mv7 Mv8 Mv9 \n",
      "Mw0 Mw1 Mw2 Mw3 Mw4 Mw5 Mw6 Mw7 Mw8 Mw9 Mx0 Mx1 Mx2 Mx3 Mx4 Mx5 Mx6 Mx7 Mx8 Mx9 \n",
      "My0 My1 My2 My3 My4 My5 My6 My7 My8 My9 Mz0 Mz1 Mz2 Mz3 Mz4 Mz5 Mz6 Mz7 Mz8 Mz9 \n",
      "Na0 Na1 Na2 Na3 Na4 Na5 Na6 Na7 Na8 Na9 Nb0 Nb1 Nb2 Nb3 Nb4 Nb5 Nb6 Nb7 Nb8 Nb9 \n",
      "Nc0 Nc1 Nc2 Nc3 Nc4 Nc5 Nc6 Nc7 Nc8 Nc9 Nd0 Nd1 Nd2 Nd3 Nd4 Nd5 Nd6 Nd7 Nd8 Nd9 \n",
      "Ne0 Ne1 Ne2 Ne3 Ne4 Ne5 Ne6 Ne7 Ne8 Ne9 Nf0 Nf1 Nf2 Nf3 Nf4 Nf5 Nf6 Nf7 Nf8 Nf9 \n",
      "Ng0 Ng1 Ng2 Ng3 Ng4 Ng5 Ng6 Ng7 Ng8 Ng9 Nh0 Nh1 Nh2 Nh3 Nh4 Nh5 Nh6 Nh7 Nh8 Nh9 \n",
      "Ni0 Ni1 Ni2 Ni3 Ni4 Ni5 Ni6 Ni7 Ni8 Ni9 Nj0 Nj1 Nj2 Nj3 Nj4 Nj5 Nj6 Nj7 Nj8 Nj9 \n",
      "Nk0 Nk1 Nk2 Nk3 Nk4 Nk5 Nk6 Nk7 Nk8 Nk9 Nl0 Nl1 Nl2 Nl3 Nl4 Nl5 Nl6 Nl7 Nl8 Nl9 \n",
      "Nm0 Nm1 Nm2 Nm3 Nm4 Nm5 Nm6 Nm7 Nm8 Nm9 Nn0 Nn1 Nn2 Nn3 Nn4 Nn5 Nn6 Nn7 Nn8 Nn9 \n",
      "No0 No1 No2 No3 No4 No5 No6 No7 No8 No9 Np0 Np1 Np2 Np3 Np4 Np5 Np6 Np7 Np8 Np9 \n",
      "Nq0 Nq1 Nq2 Nq3 Nq4 Nq5 Nq6 Nq7 Nq8 Nq9 Nr0 Nr1 Nr2 Nr3 Nr4 Nr5 Nr6 Nr7 Nr8 Nr9 \n",
      "Ns0 Ns1 Ns2 Ns3 Ns4 Ns5 Ns6 Ns7 Ns8 Ns9 Nt0 Nt1 Nt2 Nt3 Nt4 Nt5 Nt6 Nt7 Nt8 Nt9 \n",
      "Nu0 Nu1 Nu2 Nu3 Nu4 Nu5 Nu6 Nu7 Nu8 Nu9 Nv0 Nv1 Nv2 Nv3 Nv4 Nv5 Nv6 Nv7 Nv8 Nv9 \n",
      "Nw0 Nw1 Nw2 Nw3 Nw4 Nw5 Nw6 Nw7 Nw8 Nw9 Nx0 Nx1 Nx2 Nx3 Nx4 Nx5 Nx6 Nx7 Nx8 Nx9 \n",
      "Ny0 Ny1 Ny2 Ny3 Ny4 Ny5 Ny6 Ny7 Ny8 Ny9 Nz0 Nz1 Nz2 Nz3 Nz4 Nz5 Nz6 Nz7 Nz8 Nz9 \n",
      "Oa0 Oa1 Oa2 Oa3 Oa4 Oa5 Oa6 Oa7 Oa8 Oa9 Ob0 Ob1 Ob2 Ob3 Ob4 Ob5 Ob6 Ob7 Ob8 Ob9 \n",
      "Oc0 Oc1 Oc2 Oc3 Oc4 Oc5 Oc6 Oc7 Oc8 Oc9 Od0 Od1 Od2 Od3 Od4 Od5 Od6 Od7 Od8 Od9 \n",
      "Oe0 Oe1 Oe2 Oe3 Oe4 Oe5 Oe6 Oe7 Oe8 Oe9 Of0 Of1 Of2 Of3 Of4 Of5 Of6 Of7 Of8 Of9 \n",
      "Og0 Og1 Og2 Og3 Og4 Og5 Og6 Og7 Og8 Og9 Oh0 Oh1 Oh2 Oh3 Oh4 Oh5 Oh6 Oh7 Oh8 Oh9 \n",
      "Oi0 Oi1 Oi2 Oi3 Oi4 Oi5 Oi6 Oi7 Oi8 Oi9 Oj0 Oj1 Oj2 Oj3 Oj4 Oj5 Oj6 Oj7 Oj8 Oj9 \n",
      "Ok0 Ok1 Ok2 Ok3 Ok4 Ok5 Ok6 Ok7 Ok8 Ok9 Ol0 Ol1 Ol2 Ol3 Ol4 Ol5 Ol6 Ol7 Ol8 Ol9 \n",
      "Om0 Om1 Om2 Om3 Om4 Om5 Om6 Om7 Om8 Om9 On0 On1 On2 On3 On4 On5 On6 On7 On8 On9 \n",
      "Oo0 Oo1 Oo2 Oo3 Oo4 Oo5 Oo6 Oo7 Oo8 Oo9 Op0 Op1 Op2 Op3 Op4 Op5 Op6 Op7 Op8 Op9 \n",
      "Oq0 Oq1 Oq2 Oq3 Oq4 Oq5 Oq6 Oq7 Oq8 Oq9 Or0 Or1 Or2 Or3 Or4 Or5 Or6 Or7 Or8 Or9 \n",
      "Os0 Os1 Os2 Os3 Os4 Os5 Os6 Os7 Os8 Os9 Ot0 Ot1 Ot2 Ot3 Ot4 Ot5 Ot6 Ot7 Ot8 Ot9 \n",
      "Ou0 Ou1 Ou2 Ou3 Ou4 Ou5 Ou6 Ou7 Ou8 Ou9 Ov0 Ov1 Ov2 Ov3 Ov4 Ov5 Ov6 Ov7 Ov8 Ov9 \n",
      "Ow0 Ow1 Ow2 Ow3 Ow4 Ow5 Ow6 Ow7 Ow8 Ow9 Ox0 Ox1 Ox2 Ox3 Ox4 Ox5 Ox6 Ox7 Ox8 Ox9 \n",
      "Oy0 Oy1 Oy2 Oy3 Oy4 Oy5 Oy6 Oy7 Oy8 Oy9 Oz0 Oz1 Oz2 Oz3 Oz4 Oz5 Oz6 Oz7 Oz8 Oz9 \n",
      "Pa0 Pa1 Pa2 Pa3 Pa4 Pa5 Pa6 Pa7 Pa8 Pa9 Pb0 Pb1 Pb2 Pb3 Pb4 Pb5 Pb6 Pb7 Pb8 Pb9 \n",
      "Pc0 Pc1 Pc2 Pc3 Pc4 Pc5 Pc6 Pc7 Pc8 Pc9 Pd0 Pd1 Pd2 Pd3 Pd4 Pd5 Pd6 Pd7 Pd8 Pd9 \n",
      "Pe0 Pe1 Pe2 Pe3 Pe4 Pe5 Pe6 Pe7 Pe8 Pe9 Pf0 Pf1 Pf2 Pf3 Pf4 Pf5 Pf6 Pf7 Pf8 Pf9 \n",
      "Pg0 Pg1 Pg2 Pg3 Pg4 Pg5 Pg6 Pg7 Pg8 Pg9 Ph0 Ph1 Ph2 Ph3 Ph4 Ph5 Ph6 Ph7 Ph8 Ph9 \n",
      "Pi0 Pi1 Pi2 Pi3 Pi4 Pi5 Pi6 Pi7 Pi8 Pi9 Pj0 Pj1 Pj2 Pj3 Pj4 Pj5 Pj6 Pj7 Pj8 Pj9 \n",
      "Pk0 Pk1 Pk2 Pk3 Pk4 Pk5 Pk6 Pk7 Pk8 Pk9 Pl0 Pl1 Pl2 Pl3 Pl4 Pl5 Pl6 Pl7 Pl8 Pl9 \n",
      "Pm0 Pm1 Pm2 Pm3 Pm4 Pm5 Pm6 Pm7 Pm8 Pm9 Pn0 Pn1 Pn2 Pn3 Pn4 Pn5 Pn6 Pn7 Pn8 Pn9 \n",
      "Po0 Po1 Po2 Po3 Po4 Po5 Po6 Po7 Po8 Po9 Pp0 Pp1 Pp2 Pp3 Pp4 Pp5 Pp6 Pp7 Pp8 Pp9 \n",
      "Pq0 Pq1 Pq2 Pq3 Pq4 Pq5 Pq6 Pq7 Pq8 Pq9 Pr0 Pr1 Pr2 Pr3 Pr4 Pr5 Pr6 Pr7 Pr8 Pr9 \n",
      "Ps0 Ps1 Ps2 Ps3 Ps4 Ps5 Ps6 Ps7 Ps8 Ps9 Pt0 Pt1 Pt2 Pt3 Pt4 Pt5 Pt6 Pt7 Pt8 Pt9 \n",
      "Pu0 Pu1 Pu2 Pu3 Pu4 Pu5 Pu6 Pu7 Pu8 Pu9 Pv0 Pv1 Pv2 Pv3 Pv4 Pv5 Pv6 Pv7 Pv8 Pv9 \n",
      "Pw0 Pw1 Pw2 Pw3 Pw4 Pw5 Pw6 Pw7 Pw8 Pw9 Px0 Px1 Px2 Px3 Px4 Px5 Px6 Px7 Px8 Px9 \n",
      "Py0 Py1 Py2 Py3 Py4 Py5 Py6 Py7 Py8 Py9 Pz0 Pz1 Pz2 Pz3 Pz4 Pz5 Pz6 Pz7 Pz8 Pz9 \n",
      "Qa0 Qa1 Qa2 Qa3 Qa4 Qa5 Qa6 Qa7 Qa8 Qa9 Qb0 Qb1 Qb2 Qb3 Qb4 Qb5 Qb6 Qb7 Qb8 Qb9 \n",
      "Qc0 Qc1 Qc2 Qc3 Qc4 Qc5 Qc6 Qc7 Qc8 Qc9 Qd0 Qd1 Qd2 Qd3 Qd4 Qd5 Qd6 Qd7 Qd8 Qd9 \n",
      "Qe0 Qe1 Qe2 Qe3 Qe4 Qe5 Qe6 Qe7 Qe8 Qe9 Qf0 Qf1 Qf2 Qf3 Qf4 Qf5 Qf6 Qf7 Qf8 Qf9 \n",
      "Qg0 Qg1 Qg2 Qg3 Qg4 Qg5 Qg6 Qg7 Qg8 Qg9 Qh0 Qh1 Qh2 Qh3 Qh4 Qh5 Qh6 Qh7 Qh8 Qh9 \n",
      "Qi0 Qi1 Qi2 Qi3 Qi4 Qi5 Qi6 Qi7 Qi8 Qi9 Qj0 Qj1 Qj2 Qj3 Qj4 Qj5 Qj6 Qj7 Qj8 Qj9 \n",
      "Qk0 Qk1 Qk2 Qk3 Qk4 Qk5 Qk6 Qk7 Qk8 Qk9 Ql0 Ql1 Ql2 Ql3 Ql4 Ql5 Ql6 Ql7 Ql8 Ql9 \n",
      "Qm0 Qm1 Qm2 Qm3 Qm4 Qm5 Qm6 Qm7 Qm8 Qm9 Qn0 Qn1 Qn2 Qn3 Qn4 Qn5 Qn6 Qn7 Qn8 Qn9 \n",
      "Qo0 Qo1 Qo2 Qo3 Qo4 Qo5 Qo6 Qo7 Qo8 Qo9 Qp0 Qp1 Qp2 Qp3 Qp4 Qp5 Qp6 Qp7 Qp8 Qp9 \n",
      "Qq0 Qq1 Qq2 Qq3 Qq4 Qq5 Qq6 Qq7 Qq8 Qq9 Qr0 Qr1 Qr2 Qr3 Qr4 Qr5 Qr6 Qr7 Qr8 Qr9 \n",
      "Qs0 Qs1 Qs2 Qs3 Qs4 Qs5 Qs6 Qs7 Qs8 Qs9 Qt0 Qt1 Qt2 Qt3 Qt4 Qt5 Qt6 Qt7 Qt8 Qt9 \n",
      "Qu0 Qu1 Qu2 Qu3 Qu4 Qu5 Qu6 Qu7 Qu8 Qu9 Qv0 Qv1 Qv2 Qv3 Qv4 Qv5 Qv6 Qv7 Qv8 Qv9 \n",
      "Qw0 Qw1 Qw2 Qw3 Qw4 Qw5 Qw6 Qw7 Qw8 Qw9 Qx0 Qx1 Qx2 Qx3 Qx4 Qx5 Qx6 Qx7 Qx8 Qx9 \n",
      "Qy0 Qy1 Qy2 Qy3 Qy4 Qy5 Qy6 Qy7 Qy8 Qy9 Qz0 Qz1 Qz2 Qz3 Qz4 Qz5 Qz6 Qz7 Qz8 Qz9 \n",
      "Ra0 Ra1 Ra2 Ra3 Ra4 Ra5 Ra6 Ra7 Ra8 Ra9 Rb0 Rb1 Rb2 Rb3 Rb4 Rb5 Rb6 Rb7 Rb8 Rb9 \n",
      "Rc0 Rc1 Rc2 Rc3 Rc4 Rc5 Rc6 Rc7 Rc8 Rc9 Rd0 Rd1 Rd2 Rd3 Rd4 Rd5 Rd6 Rd7 Rd8 Rd9 \n",
      "Re0 Re1 Re2 Re3 Re4 Re5 Re6 Re7 Re8 Re9 Rf0 Rf1 Rf2 Rf3 Rf4 Rf5 Rf6 Rf7 Rf8 Rf9 \n",
      "Rg0 Rg1 Rg2 Rg3 Rg4 Rg5 Rg6 Rg7 Rg8 Rg9 Rh0 Rh1 Rh2 Rh3 Rh4 Rh5 Rh6 Rh7 Rh8 Rh9 \n",
      "Ri0 Ri1 Ri2 Ri3 Ri4 Ri5 Ri6 Ri7 Ri8 Ri9 Rj0 Rj1 Rj2 Rj3 Rj4 Rj5 Rj6 Rj7 Rj8 Rj9 \n",
      "Rk0 Rk1 Rk2 Rk3 Rk4 Rk5 Rk6 Rk7 Rk8 Rk9 Rl0 Rl1 Rl2 Rl3 Rl4 Rl5 Rl6 Rl7 Rl8 Rl9 \n",
      "Rm0 Rm1 Rm2 Rm3 Rm4 Rm5 Rm6 Rm7 Rm8 Rm9 Rn0 Rn1 Rn2 Rn3 Rn4 Rn5 Rn6 Rn7 Rn8 Rn9 \n",
      "Ro0 Ro1 Ro2 Ro3 Ro4 Ro5 Ro6 Ro7 Ro8 Ro9 Rp0 Rp1 Rp2 Rp3 Rp4 Rp5 Rp6 Rp7 Rp8 Rp9 \n",
      "Rq0 Rq1 Rq2 Rq3 Rq4 Rq5 Rq6 Rq7 Rq8 Rq9 Rr0 Rr1 Rr2 Rr3 Rr4 Rr5 Rr6 Rr7 Rr8 Rr9 \n",
      "Rs0 Rs1 Rs2 Rs3 Rs4 Rs5 Rs6 Rs7 Rs8 Rs9 Rt0 Rt1 Rt2 Rt3 Rt4 Rt5 Rt6 Rt7 Rt8 Rt9 \n",
      "Ru0 Ru1 Ru2 Ru3 Ru4 Ru5 Ru6 Ru7 Ru8 Ru9 Rv0 Rv1 Rv2 Rv3 Rv4 Rv5 Rv6 Rv7 Rv8 Rv9 \n",
      "Rw0 Rw1 Rw2 Rw3 Rw4 Rw5 Rw6 Rw7 Rw8 Rw9 Rx0 Rx1 Rx2 Rx3 Rx4 Rx5 Rx6 Rx7 Rx8 Rx9 \n",
      "Ry0 Ry1 Ry2 Ry3 Ry4 Ry5 Ry6 Ry7 Ry8 Ry9 Rz0 Rz1 Rz2 Rz3 Rz4 Rz5 Rz6 Rz7 Rz8 Rz9 \n",
      "Sa0 Sa1 Sa2 Sa3 Sa4 Sa5 Sa6 Sa7 Sa8 Sa9 Sb0 Sb1 Sb2 Sb3 Sb4 Sb5 Sb6 Sb7 Sb8 Sb9 \n",
      "Sc0 Sc1 Sc2 Sc3 Sc4 Sc5 Sc6 Sc7 Sc8 Sc9 Sd0 Sd1 Sd2 Sd3 Sd4 Sd5 Sd6 Sd7 Sd8 Sd9 \n",
      "Se0 Se1 Se2 Se3 Se4 Se5 Se6 Se7 Se8 Se9 Sf0 Sf1 Sf2 Sf3 Sf4 Sf5 Sf6 Sf7 Sf8 Sf9 \n",
      "Sg0 Sg1 Sg2 Sg3 Sg4 Sg5 Sg6 Sg7 Sg8 Sg9 Sh0 Sh1 Sh2 Sh3 Sh4 Sh5 Sh6 Sh7 Sh8 Sh9 \n",
      "Si0 Si1 Si2 Si3 Si4 Si5 Si6 Si7 Si8 Si9 Sj0 Sj1 Sj2 Sj3 Sj4 Sj5 Sj6 Sj7 Sj8 Sj9 \n",
      "Sk0 Sk1 Sk2 Sk3 Sk4 Sk5 Sk6 Sk7 Sk8 Sk9 Sl0 Sl1 Sl2 Sl3 Sl4 Sl5 Sl6 Sl7 Sl8 Sl9 \n",
      "Sm0 Sm1 Sm2 Sm3 Sm4 Sm5 Sm6 Sm7 Sm8 Sm9 Sn0 Sn1 Sn2 Sn3 Sn4 Sn5 Sn6 Sn7 Sn8 Sn9 \n",
      "So0 So1 So2 So3 So4 So5 So6 So7 So8 So9 Sp0 Sp1 Sp2 Sp3 Sp4 Sp5 Sp6 Sp7 Sp8 Sp9 \n",
      "Sq0 Sq1 Sq2 Sq3 Sq4 Sq5 Sq6 Sq7 Sq8 Sq9 Sr0 Sr1 Sr2 Sr3 Sr4 Sr5 Sr6 Sr7 Sr8 Sr9 \n",
      "Ss0 Ss1 Ss2 Ss3 Ss4 Ss5 Ss6 Ss7 Ss8 Ss9 St0 St1 St2 St3 St4 St5 St6 St7 St8 St9 \n",
      "Su0 Su1 Su2 Su3 Su4 Su5 Su6 Su7 Su8 Su9 Sv0 Sv1 Sv2 Sv3 Sv4 Sv5 Sv6 Sv7 Sv8 Sv9 \n",
      "Sw0 Sw1 Sw2 Sw3 Sw4 Sw5 Sw6 Sw7 Sw8 Sw9 Sx0 Sx1 Sx2 Sx3 Sx4 Sx5 Sx6 Sx7 Sx8 Sx9 \n",
      "Sy0 Sy1 Sy2 Sy3 Sy4 Sy5 Sy6 Sy7 Sy8 Sy9 Sz0 Sz1 Sz2 Sz3 Sz4 Sz5 Sz6 Sz7 Sz8 Sz9 \n",
      "Ta0 Ta1 Ta2 Ta3 Ta4 Ta5 Ta6 Ta7 Ta8 Ta9 Tb0 Tb1 Tb2 Tb3 Tb4 Tb5 Tb6 Tb7 Tb8 Tb9 \n",
      "Tc0 Tc1 Tc2 Tc3 Tc4 Tc5 Tc6 Tc7 Tc8 Tc9 Td0 Td1 Td2 Td3 Td4 Td5 Td6 Td7 Td8 Td9 \n",
      "Te0 Te1 Te2 Te3 Te4 Te5 Te6 Te7 Te8 Te9 Tf0 Tf1 Tf2 Tf3 Tf4 Tf5 Tf6 Tf7 Tf8 Tf9 \n",
      "Tg0 Tg1 Tg2 Tg3 Tg4 Tg5 Tg6 Tg7 Tg8 Tg9 Th0 Th1 Th2 Th3 Th4 Th5 Th6 Th7 Th8 Th9 \n",
      "Ti0 Ti1 Ti2 Ti3 Ti4 Ti5 Ti6 Ti7 Ti8 Ti9 Tj0 Tj1 Tj2 Tj3 Tj4 Tj5 Tj6 Tj7 Tj8 Tj9 \n",
      "Tk0 Tk1 Tk2 Tk3 Tk4 Tk5 Tk6 Tk7 Tk8 Tk9 Tl0 Tl1 Tl2 Tl3 Tl4 Tl5 Tl6 Tl7 Tl8 Tl9 \n",
      "Tm0 Tm1 Tm2 Tm3 Tm4 Tm5 Tm6 Tm7 Tm8 Tm9 Tn0 Tn1 Tn2 Tn3 Tn4 Tn5 Tn6 Tn7 Tn8 Tn9 \n",
      "To0 To1 To2 To3 To4 To5 To6 To7 To8 To9 Tp0 Tp1 Tp2 Tp3 Tp4 Tp5 Tp6 Tp7 Tp8 Tp9 \n",
      "Tq0 Tq1 Tq2 Tq3 Tq4 Tq5 Tq6 Tq7 Tq8 Tq9 Tr0 Tr1 Tr2 Tr3 Tr4 Tr5 Tr6 Tr7 Tr8 Tr9 \n",
      "Ts0 Ts1 Ts2 Ts3 Ts4 Ts5 Ts6 Ts7 Ts8 Ts9 Tt0 Tt1 Tt2 Tt3 Tt4 Tt5 Tt6 Tt7 Tt8 Tt9 \n",
      "Tu0 Tu1 Tu2 Tu3 Tu4 Tu5 Tu6 Tu7 Tu8 Tu9 Tv0 Tv1 Tv2 Tv3 Tv4 Tv5 Tv6 Tv7 Tv8 Tv9 \n",
      "Tw0 Tw1 Tw2 Tw3 Tw4 Tw5 Tw6 Tw7 Tw8 Tw9 Tx0 Tx1 Tx2 Tx3 Tx4 Tx5 Tx6 Tx7 Tx8 Tx9 \n",
      "Ty0 Ty1 Ty2 Ty3 Ty4 Ty5 Ty6 Ty7 Ty8 Ty9 Tz0 Tz1 Tz2 Tz3 Tz4 Tz5 Tz6 Tz7 Tz8 Tz9 \n",
      "Ua0 Ua1 Ua2 Ua3 Ua4 Ua5 Ua6 Ua7 Ua8 Ua9 Ub0 Ub1 Ub2 Ub3 Ub4 Ub5 Ub6 Ub7 Ub8 Ub9 \n",
      "Uc0 Uc1 Uc2 Uc3 Uc4 Uc5 Uc6 Uc7 Uc8 Uc9 Ud0 Ud1 Ud2 Ud3 Ud4 Ud5 Ud6 Ud7 Ud8 Ud9 \n",
      "Ue0 Ue1 Ue2 Ue3 Ue4 Ue5 Ue6 Ue7 Ue8 Ue9 Uf0 Uf1 Uf2 Uf3 Uf4 Uf5 Uf6 Uf7 Uf8 Uf9 \n",
      "Ug0 Ug1 Ug2 Ug3 Ug4 Ug5 Ug6 Ug7 Ug8 Ug9 Uh0 Uh1 Uh2 Uh3 Uh4 Uh5 Uh6 Uh7 Uh8 Uh9 \n",
      "Ui0 Ui1 Ui2 Ui3 Ui4 Ui5 Ui6 Ui7 Ui8 Ui9 Uj0 Uj1 Uj2 Uj3 Uj4 Uj5 Uj6 Uj7 Uj8 Uj9 \n",
      "Uk0 Uk1 Uk2 Uk3 Uk4 Uk5 Uk6 Uk7 Uk8 Uk9 Ul0 Ul1 Ul2 Ul3 Ul4 Ul5 Ul6 Ul7 Ul8 Ul9 \n",
      "Um0 Um1 Um2 Um3 Um4 Um5 Um6 Um7 Um8 Um9 Un0 Un1 Un2 Un3 Un4 Un5 Un6 Un7 Un8 Un9 \n",
      "Uo0 Uo1 Uo2 Uo3 Uo4 Uo5 Uo6 Uo7 Uo8 Uo9 Up0 Up1 Up2 Up3 Up4 Up5 Up6 Up7 Up8 Up9 \n",
      "Uq0 Uq1 Uq2 Uq3 Uq4 Uq5 Uq6 Uq7 Uq8 Uq9 Ur0 Ur1 Ur2 Ur3 Ur4 Ur5 Ur6 Ur7 Ur8 Ur9 \n",
      "Us0 Us1 Us2 Us3 Us4 Us5 Us6 Us7 Us8 Us9 Ut0 Ut1 Ut2 Ut3 Ut4 Ut5 Ut6 Ut7 Ut8 Ut9 \n",
      "Uu0 Uu1 Uu2 Uu3 Uu4 Uu5 Uu6 Uu7 Uu8 Uu9 Uv0 Uv1 Uv2 Uv3 Uv4 Uv5 Uv6 Uv7 Uv8 Uv9 \n",
      "Uw0 Uw1 Uw2 Uw3 Uw4 Uw5 Uw6 Uw7 Uw8 Uw9 Ux0 Ux1 Ux2 Ux3 Ux4 Ux5 Ux6 Ux7 Ux8 Ux9 \n",
      "Uy0 Uy1 Uy2 Uy3 Uy4 Uy5 Uy6 Uy7 Uy8 Uy9 Uz0 Uz1 Uz2 Uz3 Uz4 Uz5 Uz6 Uz7 Uz8 Uz9 \n",
      "Va0 Va1 Va2 Va3 Va4 Va5 Va6 Va7 Va8 Va9 Vb0 Vb1 Vb2 Vb3 Vb4 Vb5 Vb6 Vb7 Vb8 Vb9 \n",
      "Vc0 Vc1 Vc2 Vc3 Vc4 Vc5 Vc6 Vc7 Vc8 Vc9 Vd0 Vd1 Vd2 Vd3 Vd4 Vd5 Vd6 Vd7 Vd8 Vd9 \n",
      "Ve0 Ve1 Ve2 Ve3 Ve4 Ve5 Ve6 Ve7 Ve8 Ve9 Vf0 Vf1 Vf2 Vf3 Vf4 Vf5 Vf6 Vf7 Vf8 Vf9 \n",
      "Vg0 Vg1 Vg2 Vg3 Vg4 Vg5 Vg6 Vg7 Vg8 Vg9 Vh0 Vh1 Vh2 Vh3 Vh4 Vh5 Vh6 Vh7 Vh8 Vh9 \n",
      "Vi0 Vi1 Vi2 Vi3 Vi4 Vi5 Vi6 Vi7 Vi8 Vi9 Vj0 Vj1 Vj2 Vj3 Vj4 Vj5 Vj6 Vj7 Vj8 Vj9 \n",
      "Vk0 Vk1 Vk2 Vk3 Vk4 Vk5 Vk6 Vk7 Vk8 Vk9 Vl0 Vl1 Vl2 Vl3 Vl4 Vl5 Vl6 Vl7 Vl8 Vl9 \n",
      "Vm0 Vm1 Vm2 Vm3 Vm4 Vm5 Vm6 Vm7 Vm8 Vm9 Vn0 Vn1 Vn2 Vn3 Vn4 Vn5 Vn6 Vn7 Vn8 Vn9 \n",
      "Vo0 Vo1 Vo2 Vo3 Vo4 Vo5 Vo6 Vo7 Vo8 Vo9 Vp0 Vp1 Vp2 Vp3 Vp4 Vp5 Vp6 Vp7 Vp8 Vp9 \n",
      "Vq0 Vq1 Vq2 Vq3 Vq4 Vq5 Vq6 Vq7 Vq8 Vq9 Vr0 Vr1 Vr2 Vr3 Vr4 Vr5 Vr6 Vr7 Vr8 Vr9 \n",
      "Vs0 Vs1 Vs2 Vs3 Vs4 Vs5 Vs6 Vs7 Vs8 Vs9 Vt0 Vt1 Vt2 Vt3 Vt4 Vt5 Vt6 Vt7 Vt8 Vt9 \n",
      "Vu0 Vu1 Vu2 Vu3 Vu4 Vu5 Vu6 Vu7 Vu8 Vu9 Vv0 Vv1 Vv2 Vv3 Vv4 Vv5 Vv6 Vv7 Vv8 Vv9 \n",
      "Vw0 Vw1 Vw2 Vw3 Vw4 Vw5 Vw6 Vw7 Vw8 Vw9 Vx0 Vx1 Vx2 Vx3 Vx4 Vx5 Vx6 Vx7 Vx8 Vx9 \n",
      "Vy0 Vy1 Vy2 Vy3 Vy4 Vy5 Vy6 Vy7 Vy8 Vy9 Vz0 Vz1 Vz2 Vz3 Vz4 Vz5 Vz6 Vz7 Vz8 Vz9 \n",
      "Wa0 Wa1 Wa2 Wa3 Wa4 Wa5 Wa6 Wa7 Wa8 Wa9 Wb0 Wb1 Wb2 Wb3 Wb4 Wb5 Wb6 Wb7 Wb8 Wb9 \n",
      "Wc0 Wc1 Wc2 Wc3 Wc4 Wc5 Wc6 Wc7 Wc8 Wc9 Wd0 Wd1 Wd2 Wd3 Wd4 Wd5 Wd6 Wd7 Wd8 Wd9 \n",
      "We0 We1 We2 We3 We4 We5 We6 We7 We8 We9 Wf0 Wf1 Wf2 Wf3 Wf4 Wf5 Wf6 Wf7 Wf8 Wf9 \n",
      "Wg0 Wg1 Wg2 Wg3 Wg4 Wg5 Wg6 Wg7 Wg8 Wg9 Wh0 Wh1 Wh2 Wh3 Wh4 Wh5 Wh6 Wh7 Wh8 Wh9 \n",
      "Wi0 Wi1 Wi2 Wi3 Wi4 Wi5 Wi6 Wi7 Wi8 Wi9 Wj0 Wj1 Wj2 Wj3 Wj4 Wj5 Wj6 Wj7 Wj8 Wj9 \n",
      "Wk0 Wk1 Wk2 Wk3 Wk4 Wk5 Wk6 Wk7 Wk8 Wk9 Wl0 Wl1 Wl2 Wl3 Wl4 Wl5 Wl6 Wl7 Wl8 Wl9 \n",
      "Wm0 Wm1 Wm2 Wm3 Wm4 Wm5 Wm6 Wm7 Wm8 Wm9 Wn0 Wn1 Wn2 Wn3 Wn4 Wn5 Wn6 Wn7 Wn8 Wn9 \n",
      "Wo0 Wo1 Wo2 Wo3 Wo4 Wo5 Wo6 Wo7 Wo8 Wo9 Wp0 Wp1 Wp2 Wp3 Wp4 Wp5 Wp6 Wp7 Wp8 Wp9 \n",
      "Wq0 Wq1 Wq2 Wq3 Wq4 Wq5 Wq6 Wq7 Wq8 Wq9 Wr0 Wr1 Wr2 Wr3 Wr4 Wr5 Wr6 Wr7 Wr8 Wr9 \n",
      "Ws0 Ws1 Ws2 Ws3 Ws4 Ws5 Ws6 Ws7 Ws8 Ws9 Wt0 Wt1 Wt2 Wt3 Wt4 Wt5 Wt6 Wt7 Wt8 Wt9 \n",
      "Wu0 Wu1 Wu2 Wu3 Wu4 Wu5 Wu6 Wu7 Wu8 Wu9 Wv0 Wv1 Wv2 Wv3 Wv4 Wv5 Wv6 Wv7 Wv8 Wv9 \n",
      "Ww0 Ww1 Ww2 Ww3 Ww4 Ww5 Ww6 Ww7 Ww8 Ww9 Wx0 Wx1 Wx2 Wx3 Wx4 Wx5 Wx6 Wx7 Wx8 Wx9 \n",
      "Wy0 Wy1 Wy2 Wy3 Wy4 Wy5 Wy6 Wy7 Wy8 Wy9 Wz0 Wz1 Wz2 Wz3 Wz4 Wz5 Wz6 Wz7 Wz8 Wz9 \n",
      "Xa0 Xa1 Xa2 Xa3 Xa4 Xa5 Xa6 Xa7 Xa8 Xa9 Xb0 Xb1 Xb2 Xb3 Xb4 Xb5 Xb6 Xb7 Xb8 Xb9 \n",
      "Xc0 Xc1 Xc2 Xc3 Xc4 Xc5 Xc6 Xc7 Xc8 Xc9 Xd0 Xd1 Xd2 Xd3 Xd4 Xd5 Xd6 Xd7 Xd8 Xd9 \n",
      "Xe0 Xe1 Xe2 Xe3 Xe4 Xe5 Xe6 Xe7 Xe8 Xe9 Xf0 Xf1 Xf2 Xf3 Xf4 Xf5 Xf6 Xf7 Xf8 Xf9 \n",
      "Xg0 Xg1 Xg2 Xg3 Xg4 Xg5 Xg6 Xg7 Xg8 Xg9 Xh0 Xh1 Xh2 Xh3 Xh4 Xh5 Xh6 Xh7 Xh8 Xh9 \n",
      "Xi0 Xi1 Xi2 Xi3 Xi4 Xi5 Xi6 Xi7 Xi8 Xi9 Xj0 Xj1 Xj2 Xj3 Xj4 Xj5 Xj6 Xj7 Xj8 Xj9 \n",
      "Xk0 Xk1 Xk2 Xk3 Xk4 Xk5 Xk6 Xk7 Xk8 Xk9 Xl0 Xl1 Xl2 Xl3 Xl4 Xl5 Xl6 Xl7 Xl8 Xl9 \n"
     ]
    },
    {
     "name": "stdout",
     "output_type": "stream",
     "text": [
      "Xm0 Xm1 Xm2 Xm3 Xm4 Xm5 Xm6 Xm7 Xm8 Xm9 Xn0 Xn1 Xn2 Xn3 Xn4 Xn5 Xn6 Xn7 Xn8 Xn9 \n",
      "Xo0 Xo1 Xo2 Xo3 Xo4 Xo5 Xo6 Xo7 Xo8 Xo9 Xp0 Xp1 Xp2 Xp3 Xp4 Xp5 Xp6 Xp7 Xp8 Xp9 \n",
      "Xq0 Xq1 Xq2 Xq3 Xq4 Xq5 Xq6 Xq7 Xq8 Xq9 Xr0 Xr1 Xr2 Xr3 Xr4 Xr5 Xr6 Xr7 Xr8 Xr9 \n",
      "Xs0 Xs1 Xs2 Xs3 Xs4 Xs5 Xs6 Xs7 Xs8 Xs9 Xt0 Xt1 Xt2 Xt3 Xt4 Xt5 Xt6 Xt7 Xt8 Xt9 \n",
      "Xu0 Xu1 Xu2 Xu3 Xu4 Xu5 Xu6 Xu7 Xu8 Xu9 Xv0 Xv1 Xv2 Xv3 Xv4 Xv5 Xv6 Xv7 Xv8 Xv9 \n",
      "Xw0 Xw1 Xw2 Xw3 Xw4 Xw5 Xw6 Xw7 Xw8 Xw9 Xx0 Xx1 Xx2 Xx3 Xx4 Xx5 Xx6 Xx7 Xx8 Xx9 \n",
      "Xy0 Xy1 Xy2 Xy3 Xy4 Xy5 Xy6 Xy7 Xy8 Xy9 Xz0 Xz1 Xz2 Xz3 Xz4 Xz5 Xz6 Xz7 Xz8 Xz9 \n",
      "Ya0 Ya1 Ya2 Ya3 Ya4 Ya5 Ya6 Ya7 Ya8 Ya9 Yb0 Yb1 Yb2 Yb3 Yb4 Yb5 Yb6 Yb7 Yb8 Yb9 \n",
      "Yc0 Yc1 Yc2 Yc3 Yc4 Yc5 Yc6 Yc7 Yc8 Yc9 Yd0 Yd1 Yd2 Yd3 Yd4 Yd5 Yd6 Yd7 Yd8 Yd9 \n",
      "Ye0 Ye1 Ye2 Ye3 Ye4 Ye5 Ye6 Ye7 Ye8 Ye9 Yf0 Yf1 Yf2 Yf3 Yf4 Yf5 Yf6 Yf7 Yf8 Yf9 \n",
      "Yg0 Yg1 Yg2 Yg3 Yg4 Yg5 Yg6 Yg7 Yg8 Yg9 Yh0 Yh1 Yh2 Yh3 Yh4 Yh5 Yh6 Yh7 Yh8 Yh9 \n",
      "Yi0 Yi1 Yi2 Yi3 Yi4 Yi5 Yi6 Yi7 Yi8 Yi9 Yj0 Yj1 Yj2 Yj3 Yj4 Yj5 Yj6 Yj7 Yj8 Yj9 \n",
      "Yk0 Yk1 Yk2 Yk3 Yk4 Yk5 Yk6 Yk7 Yk8 Yk9 Yl0 Yl1 Yl2 Yl3 Yl4 Yl5 Yl6 Yl7 Yl8 Yl9 \n",
      "Ym0 Ym1 Ym2 Ym3 Ym4 Ym5 Ym6 Ym7 Ym8 Ym9 Yn0 Yn1 Yn2 Yn3 Yn4 Yn5 Yn6 Yn7 Yn8 Yn9 \n",
      "Yo0 Yo1 Yo2 Yo3 Yo4 Yo5 Yo6 Yo7 Yo8 Yo9 Yp0 Yp1 Yp2 Yp3 Yp4 Yp5 Yp6 Yp7 Yp8 Yp9 \n",
      "Yq0 Yq1 Yq2 Yq3 Yq4 Yq5 Yq6 Yq7 Yq8 Yq9 Yr0 Yr1 Yr2 Yr3 Yr4 Yr5 Yr6 Yr7 Yr8 Yr9 \n",
      "Ys0 Ys1 Ys2 Ys3 Ys4 Ys5 Ys6 Ys7 Ys8 Ys9 Yt0 Yt1 Yt2 Yt3 Yt4 Yt5 Yt6 Yt7 Yt8 Yt9 \n",
      "Yu0 Yu1 Yu2 Yu3 Yu4 Yu5 Yu6 Yu7 Yu8 Yu9 Yv0 Yv1 Yv2 Yv3 Yv4 Yv5 Yv6 Yv7 Yv8 Yv9 \n",
      "Yw0 Yw1 Yw2 Yw3 Yw4 Yw5 Yw6 Yw7 Yw8 Yw9 Yx0 Yx1 Yx2 Yx3 Yx4 Yx5 Yx6 Yx7 Yx8 Yx9 \n",
      "Yy0 Yy1 Yy2 Yy3 Yy4 Yy5 Yy6 Yy7 Yy8 Yy9 Yz0 Yz1 Yz2 Yz3 Yz4 Yz5 Yz6 Yz7 Yz8 Yz9 \n",
      "Za0 Za1 Za2 Za3 Za4 Za5 Za6 Za7 Za8 Za9 Zb0 Zb1 Zb2 Zb3 Zb4 Zb5 Zb6 Zb7 Zb8 Zb9 \n",
      "Zc0 Zc1 Zc2 Zc3 Zc4 Zc5 Zc6 Zc7 Zc8 Zc9 Zd0 Zd1 Zd2 Zd3 Zd4 Zd5 Zd6 Zd7 Zd8 Zd9 \n",
      "Ze0 Ze1 Ze2 Ze3 Ze4 Ze5 Ze6 Ze7 Ze8 Ze9 Zf0 Zf1 Zf2 Zf3 Zf4 Zf5 Zf6 Zf7 Zf8 Zf9 \n",
      "Zg0 Zg1 Zg2 Zg3 Zg4 Zg5 Zg6 Zg7 Zg8 Zg9 Zh0 Zh1 Zh2 Zh3 Zh4 Zh5 Zh6 Zh7 Zh8 Zh9 \n",
      "Zi0 Zi1 Zi2 Zi3 Zi4 Zi5 Zi6 Zi7 Zi8 Zi9 Zj0 Zj1 Zj2 Zj3 Zj4 Zj5 Zj6 Zj7 Zj8 Zj9 \n",
      "Zk0 Zk1 Zk2 Zk3 Zk4 Zk5 Zk6 Zk7 Zk8 Zk9 Zl0 Zl1 Zl2 Zl3 Zl4 Zl5 Zl6 Zl7 Zl8 Zl9 \n",
      "Zm0 Zm1 Zm2 Zm3 Zm4 Zm5 Zm6 Zm7 Zm8 Zm9 Zn0 Zn1 Zn2 Zn3 Zn4 Zn5 Zn6 Zn7 Zn8 Zn9 \n",
      "Zo0 Zo1 Zo2 Zo3 Zo4 Zo5 Zo6 Zo7 Zo8 Zo9 Zp0 Zp1 Zp2 Zp3 Zp4 Zp5 Zp6 Zp7 Zp8 Zp9 \n",
      "Zq0 Zq1 Zq2 Zq3 Zq4 Zq5 Zq6 Zq7 Zq8 Zq9 Zr0 Zr1 Zr2 Zr3 Zr4 Zr5 Zr6 Zr7 Zr8 Zr9 \n",
      "Zs0 Zs1 Zs2 Zs3 Zs4 Zs5 Zs6 Zs7 Zs8 Zs9 Zt0 Zt1 Zt2 Zt3 Zt4 Zt5 Zt6 Zt7 Zt8 Zt9 \n",
      "Zu0 Zu1 Zu2 Zu3 Zu4 Zu5 Zu6 Zu7 Zu8 Zu9 Zv0 Zv1 Zv2 Zv3 Zv4 Zv5 Zv6 Zv7 Zv8 Zv9 \n",
      "Zw0 Zw1 Zw2 Zw3 Zw4 Zw5 Zw6 Zw7 Zw8 Zw9 Zx0 Zx1 Zx2 Zx3 Zx4 Zx5 Zx6 Zx7 Zx8 Zx9 \n",
      "Zy0 Zy1 Zy2 Zy3 Zy4 Zy5 Zy6 Zy7 Zy8 Zy9 Zz0 Zz1 Zz2 Zz3 Zz4 Zz5 Zz6 Zz7 Zz8 Zz9 \n"
     ]
    }
   ],
   "source": [
    "count=0\n",
    "for i in range(65,91):\n",
    "    for j in range(97,123):\n",
    "        for k in range(48,58):\n",
    "            print(chr(i)+chr(j)+chr(k),end=' ')\n",
    "            count+=1\n",
    "            if count%20==0:\n",
    "                print()    "
   ]
  },
  {
   "cell_type": "code",
   "execution_count": 2,
   "metadata": {},
   "outputs": [
    {
     "name": "stdout",
     "output_type": "stream",
     "text": [
      "scissor(0),rock(1)，paper(2):1\n",
      "The computer is rock,you are rock too, it is a draw\n",
      "scissor(0),rock(1)，paper(2):2\n",
      "The computer is paper,you are paper too, it is a draw\n",
      "scissor(0),rock(1)，paper(2):0\n",
      "The computer is scissor,you are scissor too, it is a draw\n",
      "scissor(0),rock(1)，paper(2):1\n",
      "The computer is scissor,you are rock ,you won\n",
      "scissor(0),rock(1)，paper(2):1\n",
      "The computer is rock,you are rock too, it is a draw\n",
      "scissor(0),rock(1)，paper(2):1\n",
      "The computer is paper,you are rock ,you loss\n",
      "scissor(0),rock(1)，paper(2):0\n",
      "The computer is paper,you are scissor, you won\n"
     ]
    }
   ],
   "source": [
    "import random\n",
    "winc=0\n",
    "while 1:\n",
    "    computer=random.randint(0,2)\n",
    "    shitou=eval(input('scissor(0),rock(1)，paper(2):'))\n",
    "    if computer == 0:\n",
    "        if shitou ==0:\n",
    "            print('The computer is scissor,you are scissor too, it is a draw')\n",
    "        if shitou ==1:\n",
    "            print('The computer is scissor,you are rock ,you won')\n",
    "            winc+=1\n",
    "            if winc ==2:\n",
    "                break\n",
    "        if shitou ==2:\n",
    "            print('The computer is scissor,you are paper, you loss')\n",
    "    if computer ==1:\n",
    "        if shitou ==0:\n",
    "            print('The computer is rock,you are scissor,you loss')\n",
    "        if shitou ==1:\n",
    "            print('The computer is rock,you are rock too, it is a draw')\n",
    "        if shitou ==2:\n",
    "            print('The computer is rock,you are paper, you won')\n",
    "            winc+=1\n",
    "            if winc ==2:\n",
    "                break\n",
    "    if computer ==2:\n",
    "        if shitou ==0:\n",
    "            print('The computer is paper,you are scissor, you won')\n",
    "            winc+=1\n",
    "            if winc ==2:\n",
    "                break\n",
    "        if shitou ==1:\n",
    "            print('The computer is paper,you are rock ,you loss')\n",
    "        if shitou ==2:\n",
    "            print('The computer is paper,you are paper too, it is a draw')"
   ]
  },
  {
   "cell_type": "markdown",
   "metadata": {},
   "source": [
    "## 关键字 break 和 continue\n",
    "- break 跳出循环，终止循环\n",
    "- continue 跳出此次循环，继续执行"
   ]
  },
  {
   "cell_type": "markdown",
   "metadata": {},
   "source": [
    "## 注意\n",
    "![](../Photo/56.png)\n",
    "![](../Photo/57.png)"
   ]
  },
  {
   "cell_type": "markdown",
   "metadata": {},
   "source": [
    "# Homework\n",
    "- 1 \n",
    "![](../Photo/58.png)"
   ]
  },
  {
   "cell_type": "code",
   "execution_count": 81,
   "metadata": {},
   "outputs": [
    {
     "name": "stdout",
     "output_type": "stream",
     "text": [
      "enter an integer,the input ends if it is 0:1\n",
      "enter an integer,the input ends if it is 0:2\n",
      "enter an integer,the input ends if it is 0:3\n",
      "enter an integer,the input ends if it is 0:-1\n",
      "enter an integer,the input ends if it is 0:0\n",
      "正数个数是： 3 \n",
      "负数个数是: 1 \n",
      "the sum is : 5.0 \n",
      "the average is: 1.25\n"
     ]
    }
   ],
   "source": [
    "sum1=0.0\n",
    "count=0\n",
    "zhengshu=0\n",
    "fushu=0\n",
    "while 1:\n",
    "    num=eval(input('enter an integer,the input ends if it is 0:'))\n",
    "    if num==0:\n",
    "        break;\n",
    "    else:\n",
    "        sum1+=num\n",
    "        count+=1\n",
    "        if num>0:\n",
    "            zhengshu+=1\n",
    "        else:\n",
    "            fushu+=1\n",
    "print('正数个数是：',zhengshu,'\\n负数个数是:',fushu,'\\nthe sum is :',sum1,'\\nthe average is:',sum1/count)\n",
    "    "
   ]
  },
  {
   "cell_type": "markdown",
   "metadata": {},
   "source": [
    "- 2\n",
    "![](../Photo/59.png)"
   ]
  },
  {
   "cell_type": "code",
   "execution_count": 80,
   "metadata": {},
   "outputs": [
    {
     "name": "stdout",
     "output_type": "stream",
     "text": [
      "1 现在开始到10年后的学费为：$  10500\n",
      "2 现在开始到10年后的学费为：$  11025\n",
      "3 现在开始到10年后的学费为：$  11576\n",
      "4 现在开始到10年后的学费为：$  12155\n",
      "5 现在开始到10年后的学费为：$  12762\n",
      "6 现在开始到10年后的学费为：$  13400\n",
      "7 现在开始到10年后的学费为：$  14071\n",
      "8 现在开始到10年后的学费为：$  14774\n",
      "9 现在开始到10年后的学费为：$  15513\n",
      "10 现在开始到10年后的学费为：$  16288\n",
      "十年后大学四年的总学费为: 65974\n"
     ]
    }
   ],
   "source": [
    "xuefei=10000\n",
    "sum1=0\n",
    "for i in range(10):\n",
    "    xuefei=xuefei*(1+0.05) \n",
    "    print(i+1,'现在开始到10年后的学费为：$ ',int(xuefei))\n",
    "for j in range(4):\n",
    "    xuefei=xuefei*(1.005)\n",
    "    sum1=sum1+xuefei\n",
    "    #xuefei=xuefei*(1.005)\n",
    "print('十年后大学四年的总学费为:',int(sum1))\n"
   ]
  },
  {
   "cell_type": "code",
   "execution_count": 61,
   "metadata": {
    "scrolled": true
   },
   "outputs": [
    {
     "name": "stdout",
     "output_type": "stream",
     "text": [
      "现在开始到10年后的学费为：$  16288\n",
      "当年大学四年的总学费为:$ 43101\n",
      "1 年后大学四年的总学费为:$ 45256\n",
      "2 年后大学四年的总学费为:$ 47519\n",
      "3 年后大学四年的总学费为:$ 49895\n",
      "4 年后大学四年的总学费为:$ 52389\n",
      "5 年后大学四年的总学费为:$ 55009\n",
      "6 年后大学四年的总学费为:$ 57759\n",
      "7 年后大学四年的总学费为:$ 60647\n",
      "8 年后大学四年的总学费为:$ 63680\n",
      "9 年后大学四年的总学费为:$ 66864\n",
      "10 年后大学四年的总学费为:$ 70207\n"
     ]
    }
   ],
   "source": [
    "xuefei=10000\n",
    "for i in range(10):\n",
    "    xuefei=xuefei*(1+0.05) \n",
    "print('现在开始到10年后的学费为：$ ',int(xuefei))\n",
    "chushi=10000\n",
    "for i in range(11):\n",
    "    sum1=0.0\n",
    "    xuefei=chushi\n",
    "    #print('chushixuefei=$',chushi)\n",
    "    for j in range(4):\n",
    "        sum1=sum1+xuefei\n",
    "        xuefei=xuefei*(1.05)\n",
    "    if i==0:\n",
    "        print('当年大学四年的总学费为:$',int(sum1))\n",
    "    else:\n",
    "        print(i,'年后大学四年的总学费为:$',int(sum1))\n",
    "    chushi=chushi*(1.05)"
   ]
  },
  {
   "cell_type": "markdown",
   "metadata": {},
   "source": [
    "- 3\n",
    "![](../Photo/58.png)"
   ]
  },
  {
   "cell_type": "markdown",
   "metadata": {},
   "source": [
    "- 4\n",
    "![](../Photo/60.png)"
   ]
  },
  {
   "cell_type": "code",
   "execution_count": 30,
   "metadata": {},
   "outputs": [
    {
     "name": "stdout",
     "output_type": "stream",
     "text": [
      "120 150 180 210 240 270 300 330 360 390 \n",
      "420 450 480 510 540 570 600 630 660 690 \n",
      "720 750 780 810 840 870 900 930 960 990 \n"
     ]
    }
   ],
   "source": [
    "count=0\n",
    "for i in range(100,1001):\n",
    "    if i%5==0 and i%6==0 :\n",
    "        print(i,end=' ')\n",
    "        count+=1\n",
    "        if count%10==0:\n",
    "            print()"
   ]
  },
  {
   "cell_type": "markdown",
   "metadata": {},
   "source": [
    "- 5\n",
    "![](../Photo/61.png)"
   ]
  },
  {
   "cell_type": "code",
   "execution_count": 77,
   "metadata": {},
   "outputs": [
    {
     "name": "stdout",
     "output_type": "stream",
     "text": [
      "n^2>1200的最小n是： 110\n",
      "n^3<12000的最大整数n是： 22\n"
     ]
    }
   ],
   "source": [
    "n=100 \n",
    "while n*n<12000:\n",
    "    n=n+1\n",
    "    continue\n",
    "print('n^2>1200的最小n是：',n)\n",
    "n=10\n",
    "while n*n*n<12000:\n",
    "    n=n+1\n",
    "    continue\n",
    "print('n^3<12000的最大整数n是：',n-1)"
   ]
  },
  {
   "cell_type": "markdown",
   "metadata": {},
   "source": [
    "- 6\n",
    "![](../Photo/62.png)"
   ]
  },
  {
   "cell_type": "code",
   "execution_count": 13,
   "metadata": {},
   "outputs": [
    {
     "name": "stdout",
     "output_type": "stream",
     "text": [
      "Loan Amount:10000\n",
      "Number of Years:5\n",
      "Interest Rate    Monthly Payment     Total Payment\n",
      "5.000%           188.71              11322.74         \n",
      "5.125%           189.29              11357.13         \n",
      "5.250%           189.86              11391.59         \n",
      "5.375%           190.44              11426.11         \n",
      "5.500%           191.01              11460.70         \n",
      "5.625%           191.59              11495.35         \n",
      "5.750%           192.17              11530.06         \n",
      "5.875%           192.75              11564.84         \n",
      "6.000%           193.33              11599.68         \n",
      "6.125%           193.91              11634.59         \n",
      "6.250%           194.49              11669.56         \n",
      "6.375%           195.08              11704.59         \n",
      "6.500%           195.66              11739.69         \n",
      "6.625%           196.25              11774.85         \n",
      "6.750%           196.83              11810.08         \n",
      "6.875%           197.42              11845.37         \n",
      "7.000%           198.01              11880.72         \n",
      "7.125%           198.60              11916.14         \n",
      "7.250%           199.19              11951.62         \n",
      "7.375%           199.79              11987.16         \n",
      "7.500%           200.38              12022.77         \n",
      "7.625%           200.97              12058.44         \n",
      "7.750%           201.57              12094.18         \n",
      "7.875%           202.17              12129.97         \n",
      "8.000%           202.76              12165.84         \n"
     ]
    }
   ],
   "source": [
    "amount=eval(input('Loan Amount:'))\n",
    "year=eval(input('Number of Years:'))\n",
    "print('Interest Rate    Monthly Payment     Total Payment')\n",
    "rate=5\n",
    "while 1:\n",
    "    tpay=amount\n",
    "    tm=year*12\n",
    "    y=rate/100/12\n",
    "    mpay=(amount*y*(1+y)**tm)/((1+y)**tm-1)\n",
    "    tpay=mpay*tm\n",
    "    print('%.3f%%           %.2f              %.2f         '%(rate,mpay,tpay))\n",
    "    rate=rate+1/8\n",
    "    if rate>8:\n",
    "        break\n",
    "    "
   ]
  },
  {
   "cell_type": "markdown",
   "metadata": {},
   "source": [
    "# 在python中，一切皆对象，如果有__iter__属性，表示对象可迭代"
   ]
  },
  {
   "cell_type": "code",
   "execution_count": 68,
   "metadata": {
    "collapsed": true
   },
   "outputs": [
    {
     "data": {
      "text/plain": [
       "['__add__',\n",
       " '__class__',\n",
       " '__contains__',\n",
       " '__delattr__',\n",
       " '__dir__',\n",
       " '__doc__',\n",
       " '__eq__',\n",
       " '__format__',\n",
       " '__ge__',\n",
       " '__getattribute__',\n",
       " '__getitem__',\n",
       " '__getnewargs__',\n",
       " '__gt__',\n",
       " '__hash__',\n",
       " '__init__',\n",
       " '__init_subclass__',\n",
       " '__iter__',\n",
       " '__le__',\n",
       " '__len__',\n",
       " '__lt__',\n",
       " '__mod__',\n",
       " '__mul__',\n",
       " '__ne__',\n",
       " '__new__',\n",
       " '__reduce__',\n",
       " '__reduce_ex__',\n",
       " '__repr__',\n",
       " '__rmod__',\n",
       " '__rmul__',\n",
       " '__setattr__',\n",
       " '__sizeof__',\n",
       " '__str__',\n",
       " '__subclasshook__',\n",
       " 'capitalize',\n",
       " 'casefold',\n",
       " 'center',\n",
       " 'count',\n",
       " 'encode',\n",
       " 'endswith',\n",
       " 'expandtabs',\n",
       " 'find',\n",
       " 'format',\n",
       " 'format_map',\n",
       " 'index',\n",
       " 'isalnum',\n",
       " 'isalpha',\n",
       " 'isdecimal',\n",
       " 'isdigit',\n",
       " 'isidentifier',\n",
       " 'islower',\n",
       " 'isnumeric',\n",
       " 'isprintable',\n",
       " 'isspace',\n",
       " 'istitle',\n",
       " 'isupper',\n",
       " 'join',\n",
       " 'ljust',\n",
       " 'lower',\n",
       " 'lstrip',\n",
       " 'maketrans',\n",
       " 'partition',\n",
       " 'replace',\n",
       " 'rfind',\n",
       " 'rindex',\n",
       " 'rjust',\n",
       " 'rpartition',\n",
       " 'rsplit',\n",
       " 'rstrip',\n",
       " 'split',\n",
       " 'splitlines',\n",
       " 'startswith',\n",
       " 'strip',\n",
       " 'swapcase',\n",
       " 'title',\n",
       " 'translate',\n",
       " 'upper',\n",
       " 'zfill']"
      ]
     },
     "execution_count": 68,
     "metadata": {},
     "output_type": "execute_result"
    }
   ],
   "source": [
    "a='ajkf'\n",
    "dir(a)"
   ]
  },
  {
   "cell_type": "markdown",
   "metadata": {},
   "source": [
    "- 7\n",
    "![](../Photo/63.png)"
   ]
  },
  {
   "cell_type": "code",
   "execution_count": 78,
   "metadata": {},
   "outputs": [
    {
     "name": "stdout",
     "output_type": "stream",
     "text": [
      "left -> right: 11.396983949278505\n",
      "right -> left : 10.397003949278519\n"
     ]
    }
   ],
   "source": [
    "su1=0.0\n",
    "su2=0.0\n",
    "for i in range(1,50000):\n",
    "    su1=su1+1/i\n",
    "print('left -> right:',su1)\n",
    "for i in range(50000,1,-1):\n",
    "    su2=su2+1/i\n",
    "print('right -> left :',su2)"
   ]
  },
  {
   "cell_type": "markdown",
   "metadata": {},
   "source": [
    "- 8\n",
    "![](../Photo/64.png)"
   ]
  },
  {
   "cell_type": "code",
   "execution_count": 71,
   "metadata": {
    "scrolled": true
   },
   "outputs": [
    {
     "name": "stdout",
     "output_type": "stream",
     "text": [
      "45.12\n"
     ]
    }
   ],
   "source": [
    "num=0\n",
    "for i in range(1,98,2):\n",
    "    num=num+i/(i+2)\n",
    "print(\"%.2f\"%(num))    "
   ]
  },
  {
   "cell_type": "markdown",
   "metadata": {},
   "source": [
    "- 9\n",
    "![](../Photo/65.png)"
   ]
  },
  {
   "cell_type": "code",
   "execution_count": 48,
   "metadata": {},
   "outputs": [
    {
     "name": "stdout",
     "output_type": "stream",
     "text": [
      "while i= 10000 ,pi= 3.1414926535900345\n",
      "while i= 20000 ,pi= 3.1415426535898248\n",
      "while i= 30000 ,pi= 3.141559320256462\n",
      "while i= 40000 ,pi= 3.1415676535897985\n",
      "while i= 50000 ,pi= 3.1415726535897814\n",
      "while i= 60000 ,pi= 3.141575986923102\n",
      "while i= 70000 ,pi= 3.141578367875482\n",
      "while i= 80000 ,pi= 3.1415801535897496\n",
      "while i= 90000 ,pi= 3.1415815424786238\n",
      "while i= 100000 ,pi= 3.1415826535897198\n"
     ]
    }
   ],
   "source": [
    "\n",
    "for i in range(10000,100001,10000):\n",
    "    piz=0.0\n",
    "    for j in range(1,i+1):\n",
    "        piz=piz+((-1)**(j+1))/(2*j-1)\n",
    "    print('while i=',i,',pi=',4*piz)\n"
   ]
  },
  {
   "cell_type": "markdown",
   "metadata": {},
   "source": [
    "- 10 \n",
    "![](../Photo/66.png)"
   ]
  },
  {
   "cell_type": "code",
   "execution_count": 54,
   "metadata": {},
   "outputs": [
    {
     "name": "stdout",
     "output_type": "stream",
     "text": [
      "完全数 6 = 3+2+1\n",
      "完全数 28 = 14+7+4+2+1\n",
      "完全数 496 = 248+124+62+31+16+8+4+2+1\n",
      "完全数 8128 = 4064+2032+1016+508+254+127+64+32+16+8+4+2+1\n"
     ]
    }
   ],
   "source": [
    "for i in range(2,10001):\n",
    "    sum1=0\n",
    "    str1=''\n",
    "    for j in range(i-1,0,-1):\n",
    "        if i%j==0:\n",
    "            sum1=sum1+j\n",
    "            if j==1:\n",
    "                str1=str1+str(j)\n",
    "            else:\n",
    "                str1=str1+str(j)+'+'\n",
    "    if i==sum1:\n",
    "        print('完全数',i,'=',str1)"
   ]
  },
  {
   "cell_type": "markdown",
   "metadata": {},
   "source": [
    "- 11\n",
    "![](../Photo/67.png)"
   ]
  },
  {
   "cell_type": "code",
   "execution_count": 57,
   "metadata": {},
   "outputs": [
    {
     "name": "stdout",
     "output_type": "stream",
     "text": [
      "1 2\n",
      "1 3\n",
      "1 4\n",
      "1 5\n",
      "1 6\n",
      "1 7\n",
      "2 3\n",
      "2 4\n",
      "2 5\n",
      "2 6\n",
      "2 7\n",
      "3 4\n",
      "3 5\n",
      "3 6\n",
      "3 7\n",
      "4 5\n",
      "4 6\n",
      "4 7\n",
      "5 6\n",
      "5 7\n",
      "6 7\n",
      "The total number of all combinations is  21\n"
     ]
    }
   ],
   "source": [
    "count=0\n",
    "for i in range(1,8):\n",
    "    for j in range(i+1,8):\n",
    "        print(i,j)\n",
    "        count+=1\n",
    "print('The total number of all combinations is ',count)"
   ]
  },
  {
   "cell_type": "markdown",
   "metadata": {},
   "source": [
    "- 12\n",
    "![](../Photo/68.png)"
   ]
  },
  {
   "cell_type": "code",
   "execution_count": 76,
   "metadata": {},
   "outputs": [
    {
     "name": "stdout",
     "output_type": "stream",
     "text": [
      "enter ten numbers:\n",
      "1\n",
      "2\n",
      "3\n",
      "5.5\n",
      "5.6\n",
      "6\n",
      "7\n",
      "8\n",
      "9\n",
      "10\n",
      "79.56899999999999 0.0\n",
      "The mean is 5.71\n",
      "The standerd deviation 2.973382\n"
     ]
    }
   ],
   "source": [
    "import math\n",
    "print('enter ten numbers:')\n",
    "ls=[]\n",
    "sum1=0.0\n",
    "devi=0.0\n",
    "for i in range(10):\n",
    "    num=eval(input(''))\n",
    "    ls.append(num)\n",
    "part1=0.0\n",
    "part2=0.0\n",
    "for i in range(10):\n",
    "    sum1=sum1+ls[i]\n",
    "mean=sum1/10\n",
    "for i in range(10):\n",
    "    part1=part1+(ls[i]-mean)**2\n",
    "#part2=sum1**2\n",
    "#print(part1,part2)\n",
    "devi=math.sqrt(part1/9)\n",
    "print('The mean is %.2f'%(mean))\n",
    "print('The standerd deviation %f'%(devi))"
   ]
  }
 ],
 "metadata": {
  "kernelspec": {
   "display_name": "Python 3",
   "language": "python",
   "name": "python3"
  },
  "language_info": {
   "codemirror_mode": {
    "name": "ipython",
    "version": 3
   },
   "file_extension": ".py",
   "mimetype": "text/x-python",
   "name": "python",
   "nbconvert_exporter": "python",
   "pygments_lexer": "ipython3",
   "version": "3.6.4"
  }
 },
 "nbformat": 4,
 "nbformat_minor": 2
}
