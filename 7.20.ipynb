{
 "cells": [
  {
   "cell_type": "markdown",
   "metadata": {},
   "source": [
    "# 函数\n",
    "\n",
    "- 函数可以用来定义可重复代码，组织和简化\n",
    "- 一般来说一个函数在实际开发中为一个小功能\n",
    "- 一个类为一个大功能\n",
    "- 同样函数的长度不要超过一屏"
   ]
  },
  {
   "cell_type": "code",
   "execution_count": 5,
   "metadata": {},
   "outputs": [
    {
     "name": "stdout",
     "output_type": "stream",
     "text": [
      "(27, 9)\n"
     ]
    }
   ],
   "source": [
    "def lifang(n):\n",
    "    return n**3,n**2\n",
    "print(lifang(3))\n",
    "    "
   ]
  },
  {
   "cell_type": "markdown",
   "metadata": {},
   "source": [
    "## 定义一个函数\n",
    "\n",
    "def function_name(list of parameters):\n",
    "    \n",
    "    do something\n",
    "![](../Photo/69.png)\n",
    "- 以前使用的random 或者range 或者print.. 其实都是函数或者类"
   ]
  },
  {
   "cell_type": "markdown",
   "metadata": {},
   "source": [
    "## 调用一个函数\n",
    "- functionName()\n",
    "- \"()\" 就代表调用"
   ]
  },
  {
   "cell_type": "markdown",
   "metadata": {},
   "source": [
    "![](../Photo/70.png)"
   ]
  },
  {
   "cell_type": "markdown",
   "metadata": {},
   "source": [
    "## 带返回值和不带返回值的函数\n",
    "- return 返回的内容\n",
    "- return 返回多个值\n",
    "#### - 一般情况下，在多个函数协同完成一个功能的时候，那么将会有返回值"
   ]
  },
  {
   "cell_type": "markdown",
   "metadata": {},
   "source": [
    "![](../Photo/71.png)\n",
    "\n",
    "- 当然也可以自定义返回None"
   ]
  },
  {
   "cell_type": "code",
   "execution_count": 9,
   "metadata": {},
   "outputs": [],
   "source": [
    "def func1():\n",
    "    num=eval(input('enter a integer:'))\n",
    "    return num\n",
    "def func2():\n",
    "    return func1()**2"
   ]
  },
  {
   "cell_type": "code",
   "execution_count": 10,
   "metadata": {},
   "outputs": [
    {
     "name": "stdout",
     "output_type": "stream",
     "text": [
      "enter a integer:2\n",
      "4\n"
     ]
    }
   ],
   "source": [
    "print(func2())"
   ]
  },
  {
   "cell_type": "code",
   "execution_count": 18,
   "metadata": {},
   "outputs": [],
   "source": [
    "import random\n",
    "def check():\n",
    "    la=[]\n",
    "    for i in range (26):\n",
    "        la.append(chr(65+i))\n",
    "    #count=0\n",
    "    n1=random.randint(0,25)\n",
    "    n2=random.randint(0,25)\n",
    "    n3=random.randint(0,25)\n",
    "    n4=random.randint(0,25)\n",
    "    str1=input('请输入验证码：'+str(la[n1])+str(la[n2])+str(la[n3])+str(la[n4])+\"\\n\")\n",
    "    if la[n1]==str1[0] and la[n2]==str1[1] and la[n3]==str1[2] and la[n4]==str1[3] :\n",
    "        print('验证成功！')\n",
    "        return 1\n",
    "    else:\n",
    "        print('验证码错误，请重新输入：')\n",
    "        return 0\n",
    "def count():\n",
    "    c=0\n",
    "    while 1:\n",
    "        if check()==1:\n",
    "            break\n",
    "        else:\n",
    "            c+=1\n",
    "            if c==3:\n",
    "                print('不要爬了，小网站，没什么东西啊！')\n",
    "                break"
   ]
  },
  {
   "cell_type": "code",
   "execution_count": 19,
   "metadata": {},
   "outputs": [
    {
     "name": "stdout",
     "output_type": "stream",
     "text": [
      "请输入验证码：OJAQ\n",
      "FJAF\n",
      "验证码错误，请重新输入：\n",
      "请输入验证码：DLUA\n",
      "SJF\n",
      "验证码错误，请重新输入：\n",
      "请输入验证码：MGOR\n",
      "SJFK\n",
      "验证码错误，请重新输入：\n",
      "不要爬了，小网站，没什么东西啊！\n"
     ]
    }
   ],
   "source": [
    "count()"
   ]
  },
  {
   "cell_type": "code",
   "execution_count": 27,
   "metadata": {},
   "outputs": [
    {
     "name": "stdout",
     "output_type": "stream",
     "text": [
      "def1 奇数 1\n",
      "def2 偶数 2\n",
      "def1 奇数 3\n",
      "def2 偶数 4\n",
      "def1 奇数 5\n",
      "def2 偶数 6\n",
      "def1 奇数 7\n",
      "def2 偶数 8\n",
      "def1 奇数 9\n",
      "def2 偶数 10\n"
     ]
    }
   ],
   "source": [
    "def def1(n):\n",
    "    if n%2 ==1:\n",
    "        print('def1 奇数',n)\n",
    "    else:\n",
    "        def2(n)\n",
    "def def2(n):\n",
    "    print('def2 偶数',n)\n",
    "for j in range(1,11):\n",
    "    def1(j)\n",
    " "
   ]
  },
  {
   "cell_type": "code",
   "execution_count": 12,
   "metadata": {},
   "outputs": [
    {
     "name": "stdout",
     "output_type": "stream",
     "text": [
      "enter a int:1\n",
      "enter a int:2\n",
      "enter a int:3\n",
      "enter a int:4\n",
      "enter a int:5\n",
      "5\n"
     ]
    }
   ],
   "source": [
    "def max1():\n",
    "    num=eval(input('enter a int:'))\n",
    "    max2=num\n",
    "    for i in range(4):\n",
    "        num=eval(input('enter a int:'))\n",
    "        if num>max2:\n",
    "            max2=num\n",
    "    return max2\n",
    "print(max1())\n",
    "            "
   ]
  },
  {
   "cell_type": "code",
   "execution_count": 45,
   "metadata": {
    "scrolled": true
   },
   "outputs": [],
   "source": [
    "i= None\n",
    "i=2\n",
    "def f1():\n",
    "    print(i)\n",
    "    #i=i+1\n",
    "def f2():\n",
    "    print(i)\n",
    "    #i=i+1"
   ]
  },
  {
   "cell_type": "code",
   "execution_count": 46,
   "metadata": {},
   "outputs": [
    {
     "name": "stdout",
     "output_type": "stream",
     "text": [
      "2\n",
      "2\n"
     ]
    }
   ],
   "source": [
    "f1()\n",
    "f2()"
   ]
  },
  {
   "cell_type": "code",
   "execution_count": 45,
   "metadata": {},
   "outputs": [],
   "source": [
    "account=None\n",
    "password=None\n",
    "\n",
    "def regist(p1,p2):\n",
    "    global account, password\n",
    "    account=p1\n",
    "    password=p2\n",
    "    print(account,password)\n",
    "def login(p1,p2):\n",
    "    print(account,password)\n",
    "    if account==p1 and password==p2:\n",
    "        print('longin success')\n",
    "    else:\n",
    "        print('error')\n",
    "def logout():\n",
    "    global account, password\n",
    "    account=None\n",
    "    password=None"
   ]
  },
  {
   "cell_type": "code",
   "execution_count": 46,
   "metadata": {},
   "outputs": [
    {
     "name": "stdout",
     "output_type": "stream",
     "text": [
      "abddc 123\n",
      "abddc 123\n",
      "longin success\n",
      "None None\n",
      "error\n"
     ]
    }
   ],
   "source": [
    "regist('abddc','123')\n",
    "login('abddc','123')\n",
    "logout()\n",
    "login('abddc','123')"
   ]
  },
  {
   "cell_type": "code",
   "execution_count": 61,
   "metadata": {},
   "outputs": [],
   "source": [
    "def login(p1,p2):\n",
    "    print(account,password)\n",
    "    if account==p1 and password==p2:\n",
    "        print('longin success')\n",
    "    else:\n",
    "        print('error')"
   ]
  },
  {
   "cell_type": "code",
   "execution_count": 4,
   "metadata": {},
   "outputs": [
    {
     "name": "stdout",
     "output_type": "stream",
     "text": [
      "abc 123\n"
     ]
    }
   ],
   "source": [
    "regist('abc','123')"
   ]
  },
  {
   "cell_type": "code",
   "execution_count": 5,
   "metadata": {},
   "outputs": [
    {
     "name": "stdout",
     "output_type": "stream",
     "text": [
      "abc 123\n"
     ]
    }
   ],
   "source": [
    "\n",
    "print(account,password)"
   ]
  },
  {
   "cell_type": "code",
   "execution_count": 6,
   "metadata": {},
   "outputs": [],
   "source": [
    "def login(p1,p2):\n",
    "    print(account,password)\n",
    "    if account==p1 and password==p2:\n",
    "        print('longin success')\n",
    "    else:\n",
    "        print('error')"
   ]
  },
  {
   "cell_type": "code",
   "execution_count": 7,
   "metadata": {},
   "outputs": [
    {
     "name": "stdout",
     "output_type": "stream",
     "text": [
      "abc 123\n",
      "longin success\n"
     ]
    }
   ],
   "source": [
    "login('abc','123')"
   ]
  },
  {
   "cell_type": "code",
   "execution_count": 47,
   "metadata": {},
   "outputs": [
    {
     "name": "stdout",
     "output_type": "stream",
     "text": [
      "[[[0.6313726  0.62352943 0.6313726  1.        ]\n",
      "  [0.6313726  0.62352943 0.6313726  1.        ]\n",
      "  [0.6313726  0.62352943 0.6313726  1.        ]\n",
      "  ...\n",
      "  [0.61960787 0.6156863  0.61960787 1.        ]\n",
      "  [0.61960787 0.6156863  0.61960787 1.        ]\n",
      "  [0.61960787 0.6156863  0.61960787 1.        ]]\n",
      "\n",
      " [[1.         1.         1.         1.        ]\n",
      "  [1.         1.         1.         1.        ]\n",
      "  [1.         1.         1.         1.        ]\n",
      "  ...\n",
      "  [1.         1.         1.         1.        ]\n",
      "  [1.         1.         1.         1.        ]\n",
      "  [1.         1.         1.         1.        ]]\n",
      "\n",
      " [[1.         1.         1.         1.        ]\n",
      "  [1.         1.         1.         1.        ]\n",
      "  [1.         1.         1.         1.        ]\n",
      "  ...\n",
      "  [1.         1.         1.         1.        ]\n",
      "  [1.         1.         1.         1.        ]\n",
      "  [1.         1.         1.         1.        ]]\n",
      "\n",
      " ...\n",
      "\n",
      " [[1.         1.         1.         1.        ]\n",
      "  [1.         1.         1.         1.        ]\n",
      "  [1.         1.         1.         1.        ]\n",
      "  ...\n",
      "  [1.         1.         1.         1.        ]\n",
      "  [1.         1.         1.         1.        ]\n",
      "  [1.         1.         1.         1.        ]]\n",
      "\n",
      " [[1.         1.         1.         1.        ]\n",
      "  [1.         1.         1.         1.        ]\n",
      "  [1.         1.         1.         1.        ]\n",
      "  ...\n",
      "  [1.         1.         1.         1.        ]\n",
      "  [1.         1.         1.         1.        ]\n",
      "  [1.         1.         1.         1.        ]]\n",
      "\n",
      " [[1.         1.         1.         1.        ]\n",
      "  [1.         1.         1.         1.        ]\n",
      "  [1.         1.         1.         1.        ]\n",
      "  ...\n",
      "  [1.         1.         1.         1.        ]\n",
      "  [1.         1.         1.         1.        ]\n",
      "  [1.         1.         1.         1.        ]]]\n"
     ]
    }
   ],
   "source": [
    "import matplotlib.pyplot as plt\n",
    "res=plt.imread('../Photo/72.png')\n",
    "print(res)"
   ]
  },
  {
   "cell_type": "markdown",
   "metadata": {},
   "source": [
    "## EP：\n",
    "![](../Photo/72.png)"
   ]
  },
  {
   "cell_type": "markdown",
   "metadata": {},
   "source": [
    "## 类型和关键字参数\n",
    "- 普通参数\n",
    "- 多个参数\n",
    "- 默认值参数\n",
    "- 不定长参数"
   ]
  },
  {
   "cell_type": "code",
   "execution_count": 14,
   "metadata": {},
   "outputs": [],
   "source": [
    "import pymysql"
   ]
  },
  {
   "cell_type": "markdown",
   "metadata": {},
   "source": [
    "## 普通参数"
   ]
  },
  {
   "cell_type": "markdown",
   "metadata": {},
   "source": [
    "## 多个参数\n",
    "-多个参数可以有默认值，但默认值只能在最后"
   ]
  },
  {
   "cell_type": "code",
   "execution_count": 15,
   "metadata": {},
   "outputs": [],
   "source": [
    "def test(a,b,c,d,e=100):\n",
    "    print(a,b,c,d,e)"
   ]
  },
  {
   "cell_type": "code",
   "execution_count": 17,
   "metadata": {},
   "outputs": [
    {
     "name": "stdout",
     "output_type": "stream",
     "text": [
      "1 2 3 4 100\n"
     ]
    }
   ],
   "source": [
    "test(1,2,3,4)"
   ]
  },
  {
   "cell_type": "code",
   "execution_count": null,
   "metadata": {},
   "outputs": [],
   "source": [
    "def test1(n=1)"
   ]
  },
  {
   "cell_type": "markdown",
   "metadata": {},
   "source": [
    "## 默认值参数"
   ]
  },
  {
   "cell_type": "markdown",
   "metadata": {},
   "source": [
    "# 强制命名\n",
    "\n",
    "#### 当某些参数比较重要的时候，可以加一个*号，*号后面的参数在调用函数时要去必须带参数名字\n",
    "\n"
   ]
  },
  {
   "cell_type": "code",
   "execution_count": 19,
   "metadata": {},
   "outputs": [],
   "source": [
    "def test(a,b,*,c,d,e=100):\n",
    "    print(a,b,c,d,e)"
   ]
  },
  {
   "cell_type": "code",
   "execution_count": 21,
   "metadata": {},
   "outputs": [
    {
     "name": "stdout",
     "output_type": "stream",
     "text": [
      "1 2 3 4 100\n"
     ]
    }
   ],
   "source": [
    "test(1,2,c=3,d=4)"
   ]
  },
  {
   "cell_type": "markdown",
   "metadata": {},
   "source": [
    "## 不定长参数\n",
    "- \\*args\n",
    "> - \\*args 可接受任意长的参数个数，不定长，来多少装多少，不装也可以\n",
    "  - 返回的是一个元组类型\n",
    "  - args的名字可以修改，\\*代表不定长，一般开发者都会利用默认的args名字\n",
    "- \\**kwargs\n",
    "> - \\**keargs 可接受任意长的参数个数，不定长，来多少装多少，不装也可以\n",
    "  - 返回的是一个字典类型\n",
    "  - kwargs的名字可以修改，一般开发者都会利用默认的kwargs名字"
   ]
  },
  {
   "cell_type": "code",
   "execution_count": null,
   "metadata": {},
   "outputs": [],
   "source": [
    "def test(*args):\n",
    "    print(args)"
   ]
  },
  {
   "cell_type": "code",
   "execution_count": 22,
   "metadata": {},
   "outputs": [],
   "source": [
    "def test1(**kwargs):\n",
    "    print(kwargs)"
   ]
  },
  {
   "cell_type": "code",
   "execution_count": 25,
   "metadata": {
    "scrolled": true
   },
   "outputs": [
    {
     "name": "stdout",
     "output_type": "stream",
     "text": [
      "{'a': 1, 'b': 2, 'c': 3, 'd': 4, 'e': 5}\n"
     ]
    }
   ],
   "source": [
    "test1(a=1,b=2,c=3,d=4,e=5)"
   ]
  },
  {
   "cell_type": "code",
   "execution_count": 26,
   "metadata": {},
   "outputs": [],
   "source": [
    "def test2(*args,**kwargs):\n",
    "    print(args)\n",
    "    print(kwargs)"
   ]
  },
  {
   "cell_type": "code",
   "execution_count": 28,
   "metadata": {},
   "outputs": [
    {
     "name": "stdout",
     "output_type": "stream",
     "text": [
      "(1, 2, 3, 4, 5)\n",
      "{'a': 1, 'b': 2, 'c': 3}\n"
     ]
    }
   ],
   "source": [
    "res=test2(1,2,3,4,5,a=1,b=2,c=3)"
   ]
  },
  {
   "cell_type": "markdown",
   "metadata": {},
   "source": [
    "## 变量的作用域\n",
    "- 局部变量 local\n",
    "- 全局变量 global\n",
    "- globals 函数返回一个全局变量的字典，包括所有导入的变量\n",
    "- locals() 函数会以字典类型返回当前位置的全部局部变量。"
   ]
  },
  {
   "cell_type": "code",
   "execution_count": 29,
   "metadata": {},
   "outputs": [],
   "source": [
    "mist=0 \n",
    "def test3():\n",
    "    global mist\n",
    "    mist+=100\n",
    "    print(mist)"
   ]
  },
  {
   "cell_type": "code",
   "execution_count": 30,
   "metadata": {
    "scrolled": true
   },
   "outputs": [
    {
     "name": "stdout",
     "output_type": "stream",
     "text": [
      "100\n"
     ]
    }
   ],
   "source": [
    "test3()"
   ]
  },
  {
   "cell_type": "code",
   "execution_count": 36,
   "metadata": {},
   "outputs": [],
   "source": [
    "ls1=[]\n",
    "def test4():\n",
    "    \n",
    "    ls1.append(0)\n",
    "    print(ls1)"
   ]
  },
  {
   "cell_type": "code",
   "execution_count": 37,
   "metadata": {},
   "outputs": [
    {
     "name": "stdout",
     "output_type": "stream",
     "text": [
      "[0]\n"
     ]
    }
   ],
   "source": [
    "test4()"
   ]
  },
  {
   "cell_type": "code",
   "execution_count": 38,
   "metadata": {
    "collapsed": true
   },
   "outputs": [
    {
     "data": {
      "text/plain": [
       "{'In': ['',\n",
       "  \"#account=None\\n#password=None\\nglobal account, password\\ndef regist(p1,p2):\\n\\n    account=p1\\n    password=p2\\n    print(account,password)\\ndef login(p1,p2):\\n    print(account,password)\\n    if account==p1 and password==p2:\\n        print('longin success')\\n    else:\\n        print('error')\",\n",
       "  \"regist('abddc','123')\\nlogin('abddc','123')\",\n",
       "  \"account=None\\npassword=None\\nglobal account, password\\ndef regist(p1,p2):\\n\\n    account=p1\\n    password=p2\\n    print(account,password)\\ndef login(p1,p2):\\n    print(account,password)\\n    if account==p1 and password==p2:\\n        print('longin success')\\n    else:\\n        print('error')\",\n",
       "  \"account=None\\npassword=None\\nglobal account, password\\ndef regist(p1,p2):\\n\\n    account=p1\\n    password=p2\\n    print(account,password)\\ndef login(p1,p2):\\n    print(account,password)\\n    if account==p1 and password==p2:\\n        print('longin success')\\n    else:\\n        print('error')\",\n",
       "  \"regist('abddc','123')\\nlogin('abddc','123')\",\n",
       "  \"account=None\\npassword=None\\n\\ndef regist(p1,p2):\\n    global account, password\\n    account=p1\\n    password=p2\\n    print(account,password)\\ndef login(p1,p2):\\n    print(account,password)\\n    if account==p1 and password==p2:\\n        print('longin success')\\n    else:\\n        print('error')\",\n",
       "  \"account=None\\npassword=None\\n\\ndef regist(p1,p2):\\n    global account, password\\n    account=p1\\n    password=p2\\n    print(account,password)\\ndef login(p1,p2):\\n    print(account,password)\\n    if account==p1 and password==p2:\\n        print('longin success')\\n    else:\\n        print('error')\",\n",
       "  \"regist('abddc','123')\\nlogin('abddc','123')\",\n",
       "  \"regist('abddc','123')\\nlogin('abdc','123')\",\n",
       "  \"regist('abddc','123')\\nlogin('abddc','1123')\",\n",
       "  'import pymysql',\n",
       "  'import pymysql',\n",
       "  'import pymysql',\n",
       "  'import pymysql',\n",
       "  'def test(a,b,c,d,e=100):\\n    print(a,b,c,d,e)',\n",
       "  'test(1,2,3,4,5)',\n",
       "  'test(1,2,3,4)',\n",
       "  'def test(a,b,c,d,e=100):\\n    print(a,b,c,d,e)',\n",
       "  'def test(a,b,*,c,d,e=100):\\n    print(a,b,c,d,e)',\n",
       "  'test(1,2,3,4)',\n",
       "  'test(1,2,c=3,d=4)',\n",
       "  'def test1(**kwargs):\\n    print(kwargs)',\n",
       "  'test1(a=1,b=2,c=3,d=4,e=5)',\n",
       "  'test1(a=1,b=2,c=3,d=4,e=5,66)',\n",
       "  'test1(a=1,b=2,c=3,d=4,e=5)',\n",
       "  'def test2(*args,**kwargs):\\n    print(args)\\n    print(kwargs)',\n",
       "  'res(1,2,3,4,5,a=1,b=2,c=3)',\n",
       "  'res=test2(1,2,3,4,5,a=1,b=2,c=3)',\n",
       "  'mist=0 \\ndef test3():\\n    global mist\\n    mist+=100\\n    print(mist)',\n",
       "  'test3()',\n",
       "  'ls1[]\\ndef test4():\\n    ls1.append(0)\\n    print(ls1)',\n",
       "  'ls1=[]\\ndef test4():\\n    ls1.append(0)\\n    print(ls1)',\n",
       "  'test4()',\n",
       "  'ls1=[]\\ndef test4():\\n    del ls1\\n    #ls1.append(0)\\n    print(ls1)',\n",
       "  'test4()',\n",
       "  'ls1=[]\\ndef test4():\\n    \\n    ls1.append(0)\\n    print(ls1)',\n",
       "  'test4()',\n",
       "  'globals()'],\n",
       " 'Out': {},\n",
       " '_': '',\n",
       " '__': '',\n",
       " '___': '',\n",
       " '__builtin__': <module 'builtins' (built-in)>,\n",
       " '__builtins__': <module 'builtins' (built-in)>,\n",
       " '__doc__': 'Automatically created module for IPython interactive environment',\n",
       " '__loader__': None,\n",
       " '__name__': '__main__',\n",
       " '__package__': None,\n",
       " '__spec__': None,\n",
       " '_dh': ['C:\\\\Users\\\\Administrator\\\\Desktop\\\\zxd\\\\doc_all\\\\Teacher\\\\Python基础'],\n",
       " '_i': 'test4()',\n",
       " '_i1': \"#account=None\\n#password=None\\nglobal account, password\\ndef regist(p1,p2):\\n\\n    account=p1\\n    password=p2\\n    print(account,password)\\ndef login(p1,p2):\\n    print(account,password)\\n    if account==p1 and password==p2:\\n        print('longin success')\\n    else:\\n        print('error')\",\n",
       " '_i10': \"regist('abddc','123')\\nlogin('abddc','1123')\",\n",
       " '_i11': 'import pymysql',\n",
       " '_i12': 'import pymysql',\n",
       " '_i13': 'import pymysql',\n",
       " '_i14': 'import pymysql',\n",
       " '_i15': 'def test(a,b,c,d,e=100):\\n    print(a,b,c,d,e)',\n",
       " '_i16': 'test(1,2,3,4,5)',\n",
       " '_i17': 'test(1,2,3,4)',\n",
       " '_i18': 'def test(a,b,c,d,e=100):\\n    print(a,b,c,d,e)',\n",
       " '_i19': 'def test(a,b,*,c,d,e=100):\\n    print(a,b,c,d,e)',\n",
       " '_i2': \"regist('abddc','123')\\nlogin('abddc','123')\",\n",
       " '_i20': 'test(1,2,3,4)',\n",
       " '_i21': 'test(1,2,c=3,d=4)',\n",
       " '_i22': 'def test1(**kwargs):\\n    print(kwargs)',\n",
       " '_i23': 'test1(a=1,b=2,c=3,d=4,e=5)',\n",
       " '_i24': 'test1(a=1,b=2,c=3,d=4,e=5,66)',\n",
       " '_i25': 'test1(a=1,b=2,c=3,d=4,e=5)',\n",
       " '_i26': 'def test2(*args,**kwargs):\\n    print(args)\\n    print(kwargs)',\n",
       " '_i27': 'res(1,2,3,4,5,a=1,b=2,c=3)',\n",
       " '_i28': 'res=test2(1,2,3,4,5,a=1,b=2,c=3)',\n",
       " '_i29': 'mist=0 \\ndef test3():\\n    global mist\\n    mist+=100\\n    print(mist)',\n",
       " '_i3': \"account=None\\npassword=None\\nglobal account, password\\ndef regist(p1,p2):\\n\\n    account=p1\\n    password=p2\\n    print(account,password)\\ndef login(p1,p2):\\n    print(account,password)\\n    if account==p1 and password==p2:\\n        print('longin success')\\n    else:\\n        print('error')\",\n",
       " '_i30': 'test3()',\n",
       " '_i31': 'ls1[]\\ndef test4():\\n    ls1.append(0)\\n    print(ls1)',\n",
       " '_i32': 'ls1=[]\\ndef test4():\\n    ls1.append(0)\\n    print(ls1)',\n",
       " '_i33': 'test4()',\n",
       " '_i34': 'ls1=[]\\ndef test4():\\n    del ls1\\n    #ls1.append(0)\\n    print(ls1)',\n",
       " '_i35': 'test4()',\n",
       " '_i36': 'ls1=[]\\ndef test4():\\n    \\n    ls1.append(0)\\n    print(ls1)',\n",
       " '_i37': 'test4()',\n",
       " '_i38': 'globals()',\n",
       " '_i4': \"account=None\\npassword=None\\nglobal account, password\\ndef regist(p1,p2):\\n\\n    account=p1\\n    password=p2\\n    print(account,password)\\ndef login(p1,p2):\\n    print(account,password)\\n    if account==p1 and password==p2:\\n        print('longin success')\\n    else:\\n        print('error')\",\n",
       " '_i5': \"regist('abddc','123')\\nlogin('abddc','123')\",\n",
       " '_i6': \"account=None\\npassword=None\\n\\ndef regist(p1,p2):\\n    global account, password\\n    account=p1\\n    password=p2\\n    print(account,password)\\ndef login(p1,p2):\\n    print(account,password)\\n    if account==p1 and password==p2:\\n        print('longin success')\\n    else:\\n        print('error')\",\n",
       " '_i7': \"account=None\\npassword=None\\n\\ndef regist(p1,p2):\\n    global account, password\\n    account=p1\\n    password=p2\\n    print(account,password)\\ndef login(p1,p2):\\n    print(account,password)\\n    if account==p1 and password==p2:\\n        print('longin success')\\n    else:\\n        print('error')\",\n",
       " '_i8': \"regist('abddc','123')\\nlogin('abddc','123')\",\n",
       " '_i9': \"regist('abddc','123')\\nlogin('abdc','123')\",\n",
       " '_ih': ['',\n",
       "  \"#account=None\\n#password=None\\nglobal account, password\\ndef regist(p1,p2):\\n\\n    account=p1\\n    password=p2\\n    print(account,password)\\ndef login(p1,p2):\\n    print(account,password)\\n    if account==p1 and password==p2:\\n        print('longin success')\\n    else:\\n        print('error')\",\n",
       "  \"regist('abddc','123')\\nlogin('abddc','123')\",\n",
       "  \"account=None\\npassword=None\\nglobal account, password\\ndef regist(p1,p2):\\n\\n    account=p1\\n    password=p2\\n    print(account,password)\\ndef login(p1,p2):\\n    print(account,password)\\n    if account==p1 and password==p2:\\n        print('longin success')\\n    else:\\n        print('error')\",\n",
       "  \"account=None\\npassword=None\\nglobal account, password\\ndef regist(p1,p2):\\n\\n    account=p1\\n    password=p2\\n    print(account,password)\\ndef login(p1,p2):\\n    print(account,password)\\n    if account==p1 and password==p2:\\n        print('longin success')\\n    else:\\n        print('error')\",\n",
       "  \"regist('abddc','123')\\nlogin('abddc','123')\",\n",
       "  \"account=None\\npassword=None\\n\\ndef regist(p1,p2):\\n    global account, password\\n    account=p1\\n    password=p2\\n    print(account,password)\\ndef login(p1,p2):\\n    print(account,password)\\n    if account==p1 and password==p2:\\n        print('longin success')\\n    else:\\n        print('error')\",\n",
       "  \"account=None\\npassword=None\\n\\ndef regist(p1,p2):\\n    global account, password\\n    account=p1\\n    password=p2\\n    print(account,password)\\ndef login(p1,p2):\\n    print(account,password)\\n    if account==p1 and password==p2:\\n        print('longin success')\\n    else:\\n        print('error')\",\n",
       "  \"regist('abddc','123')\\nlogin('abddc','123')\",\n",
       "  \"regist('abddc','123')\\nlogin('abdc','123')\",\n",
       "  \"regist('abddc','123')\\nlogin('abddc','1123')\",\n",
       "  'import pymysql',\n",
       "  'import pymysql',\n",
       "  'import pymysql',\n",
       "  'import pymysql',\n",
       "  'def test(a,b,c,d,e=100):\\n    print(a,b,c,d,e)',\n",
       "  'test(1,2,3,4,5)',\n",
       "  'test(1,2,3,4)',\n",
       "  'def test(a,b,c,d,e=100):\\n    print(a,b,c,d,e)',\n",
       "  'def test(a,b,*,c,d,e=100):\\n    print(a,b,c,d,e)',\n",
       "  'test(1,2,3,4)',\n",
       "  'test(1,2,c=3,d=4)',\n",
       "  'def test1(**kwargs):\\n    print(kwargs)',\n",
       "  'test1(a=1,b=2,c=3,d=4,e=5)',\n",
       "  'test1(a=1,b=2,c=3,d=4,e=5,66)',\n",
       "  'test1(a=1,b=2,c=3,d=4,e=5)',\n",
       "  'def test2(*args,**kwargs):\\n    print(args)\\n    print(kwargs)',\n",
       "  'res(1,2,3,4,5,a=1,b=2,c=3)',\n",
       "  'res=test2(1,2,3,4,5,a=1,b=2,c=3)',\n",
       "  'mist=0 \\ndef test3():\\n    global mist\\n    mist+=100\\n    print(mist)',\n",
       "  'test3()',\n",
       "  'ls1[]\\ndef test4():\\n    ls1.append(0)\\n    print(ls1)',\n",
       "  'ls1=[]\\ndef test4():\\n    ls1.append(0)\\n    print(ls1)',\n",
       "  'test4()',\n",
       "  'ls1=[]\\ndef test4():\\n    del ls1\\n    #ls1.append(0)\\n    print(ls1)',\n",
       "  'test4()',\n",
       "  'ls1=[]\\ndef test4():\\n    \\n    ls1.append(0)\\n    print(ls1)',\n",
       "  'test4()',\n",
       "  'globals()'],\n",
       " '_ii': 'ls1=[]\\ndef test4():\\n    \\n    ls1.append(0)\\n    print(ls1)',\n",
       " '_iii': 'test4()',\n",
       " '_oh': {},\n",
       " 'account': 'abddc',\n",
       " 'exit': <IPython.core.autocall.ZMQExitAutocall at 0x56bf5f8>,\n",
       " 'get_ipython': <bound method InteractiveShell.get_ipython of <ipykernel.zmqshell.ZMQInteractiveShell object at 0x00000000056A2128>>,\n",
       " 'login': <function __main__.login>,\n",
       " 'ls1': [0],\n",
       " 'mist': 100,\n",
       " 'password': '123',\n",
       " 'pymysql': <module 'pymysql' from 'C:\\\\ProgramData\\\\Anaconda3\\\\lib\\\\site-packages\\\\pymysql\\\\__init__.py'>,\n",
       " 'quit': <IPython.core.autocall.ZMQExitAutocall at 0x56bf5f8>,\n",
       " 'regist': <function __main__.regist>,\n",
       " 'res': None,\n",
       " 'test': <function __main__.test>,\n",
       " 'test1': <function __main__.test1>,\n",
       " 'test2': <function __main__.test2>,\n",
       " 'test3': <function __main__.test3>,\n",
       " 'test4': <function __main__.test4>}"
      ]
     },
     "execution_count": 38,
     "metadata": {},
     "output_type": "execute_result"
    }
   ],
   "source": [
    "globals()"
   ]
  },
  {
   "cell_type": "code",
   "execution_count": 39,
   "metadata": {
    "collapsed": true
   },
   "outputs": [
    {
     "data": {
      "text/plain": [
       "{'In': ['',\n",
       "  \"#account=None\\n#password=None\\nglobal account, password\\ndef regist(p1,p2):\\n\\n    account=p1\\n    password=p2\\n    print(account,password)\\ndef login(p1,p2):\\n    print(account,password)\\n    if account==p1 and password==p2:\\n        print('longin success')\\n    else:\\n        print('error')\",\n",
       "  \"regist('abddc','123')\\nlogin('abddc','123')\",\n",
       "  \"account=None\\npassword=None\\nglobal account, password\\ndef regist(p1,p2):\\n\\n    account=p1\\n    password=p2\\n    print(account,password)\\ndef login(p1,p2):\\n    print(account,password)\\n    if account==p1 and password==p2:\\n        print('longin success')\\n    else:\\n        print('error')\",\n",
       "  \"account=None\\npassword=None\\nglobal account, password\\ndef regist(p1,p2):\\n\\n    account=p1\\n    password=p2\\n    print(account,password)\\ndef login(p1,p2):\\n    print(account,password)\\n    if account==p1 and password==p2:\\n        print('longin success')\\n    else:\\n        print('error')\",\n",
       "  \"regist('abddc','123')\\nlogin('abddc','123')\",\n",
       "  \"account=None\\npassword=None\\n\\ndef regist(p1,p2):\\n    global account, password\\n    account=p1\\n    password=p2\\n    print(account,password)\\ndef login(p1,p2):\\n    print(account,password)\\n    if account==p1 and password==p2:\\n        print('longin success')\\n    else:\\n        print('error')\",\n",
       "  \"account=None\\npassword=None\\n\\ndef regist(p1,p2):\\n    global account, password\\n    account=p1\\n    password=p2\\n    print(account,password)\\ndef login(p1,p2):\\n    print(account,password)\\n    if account==p1 and password==p2:\\n        print('longin success')\\n    else:\\n        print('error')\",\n",
       "  \"regist('abddc','123')\\nlogin('abddc','123')\",\n",
       "  \"regist('abddc','123')\\nlogin('abdc','123')\",\n",
       "  \"regist('abddc','123')\\nlogin('abddc','1123')\",\n",
       "  'import pymysql',\n",
       "  'import pymysql',\n",
       "  'import pymysql',\n",
       "  'import pymysql',\n",
       "  'def test(a,b,c,d,e=100):\\n    print(a,b,c,d,e)',\n",
       "  'test(1,2,3,4,5)',\n",
       "  'test(1,2,3,4)',\n",
       "  'def test(a,b,c,d,e=100):\\n    print(a,b,c,d,e)',\n",
       "  'def test(a,b,*,c,d,e=100):\\n    print(a,b,c,d,e)',\n",
       "  'test(1,2,3,4)',\n",
       "  'test(1,2,c=3,d=4)',\n",
       "  'def test1(**kwargs):\\n    print(kwargs)',\n",
       "  'test1(a=1,b=2,c=3,d=4,e=5)',\n",
       "  'test1(a=1,b=2,c=3,d=4,e=5,66)',\n",
       "  'test1(a=1,b=2,c=3,d=4,e=5)',\n",
       "  'def test2(*args,**kwargs):\\n    print(args)\\n    print(kwargs)',\n",
       "  'res(1,2,3,4,5,a=1,b=2,c=3)',\n",
       "  'res=test2(1,2,3,4,5,a=1,b=2,c=3)',\n",
       "  'mist=0 \\ndef test3():\\n    global mist\\n    mist+=100\\n    print(mist)',\n",
       "  'test3()',\n",
       "  'ls1[]\\ndef test4():\\n    ls1.append(0)\\n    print(ls1)',\n",
       "  'ls1=[]\\ndef test4():\\n    ls1.append(0)\\n    print(ls1)',\n",
       "  'test4()',\n",
       "  'ls1=[]\\ndef test4():\\n    del ls1\\n    #ls1.append(0)\\n    print(ls1)',\n",
       "  'test4()',\n",
       "  'ls1=[]\\ndef test4():\\n    \\n    ls1.append(0)\\n    print(ls1)',\n",
       "  'test4()',\n",
       "  'globals()',\n",
       "  'locals()'],\n",
       " 'Out': {38: {...}},\n",
       " '_': {...},\n",
       " '_38': {...},\n",
       " '__': '',\n",
       " '___': '',\n",
       " '__builtin__': <module 'builtins' (built-in)>,\n",
       " '__builtins__': <module 'builtins' (built-in)>,\n",
       " '__doc__': 'Automatically created module for IPython interactive environment',\n",
       " '__loader__': None,\n",
       " '__name__': '__main__',\n",
       " '__package__': None,\n",
       " '__spec__': None,\n",
       " '_dh': ['C:\\\\Users\\\\Administrator\\\\Desktop\\\\zxd\\\\doc_all\\\\Teacher\\\\Python基础'],\n",
       " '_i': 'globals()',\n",
       " '_i1': \"#account=None\\n#password=None\\nglobal account, password\\ndef regist(p1,p2):\\n\\n    account=p1\\n    password=p2\\n    print(account,password)\\ndef login(p1,p2):\\n    print(account,password)\\n    if account==p1 and password==p2:\\n        print('longin success')\\n    else:\\n        print('error')\",\n",
       " '_i10': \"regist('abddc','123')\\nlogin('abddc','1123')\",\n",
       " '_i11': 'import pymysql',\n",
       " '_i12': 'import pymysql',\n",
       " '_i13': 'import pymysql',\n",
       " '_i14': 'import pymysql',\n",
       " '_i15': 'def test(a,b,c,d,e=100):\\n    print(a,b,c,d,e)',\n",
       " '_i16': 'test(1,2,3,4,5)',\n",
       " '_i17': 'test(1,2,3,4)',\n",
       " '_i18': 'def test(a,b,c,d,e=100):\\n    print(a,b,c,d,e)',\n",
       " '_i19': 'def test(a,b,*,c,d,e=100):\\n    print(a,b,c,d,e)',\n",
       " '_i2': \"regist('abddc','123')\\nlogin('abddc','123')\",\n",
       " '_i20': 'test(1,2,3,4)',\n",
       " '_i21': 'test(1,2,c=3,d=4)',\n",
       " '_i22': 'def test1(**kwargs):\\n    print(kwargs)',\n",
       " '_i23': 'test1(a=1,b=2,c=3,d=4,e=5)',\n",
       " '_i24': 'test1(a=1,b=2,c=3,d=4,e=5,66)',\n",
       " '_i25': 'test1(a=1,b=2,c=3,d=4,e=5)',\n",
       " '_i26': 'def test2(*args,**kwargs):\\n    print(args)\\n    print(kwargs)',\n",
       " '_i27': 'res(1,2,3,4,5,a=1,b=2,c=3)',\n",
       " '_i28': 'res=test2(1,2,3,4,5,a=1,b=2,c=3)',\n",
       " '_i29': 'mist=0 \\ndef test3():\\n    global mist\\n    mist+=100\\n    print(mist)',\n",
       " '_i3': \"account=None\\npassword=None\\nglobal account, password\\ndef regist(p1,p2):\\n\\n    account=p1\\n    password=p2\\n    print(account,password)\\ndef login(p1,p2):\\n    print(account,password)\\n    if account==p1 and password==p2:\\n        print('longin success')\\n    else:\\n        print('error')\",\n",
       " '_i30': 'test3()',\n",
       " '_i31': 'ls1[]\\ndef test4():\\n    ls1.append(0)\\n    print(ls1)',\n",
       " '_i32': 'ls1=[]\\ndef test4():\\n    ls1.append(0)\\n    print(ls1)',\n",
       " '_i33': 'test4()',\n",
       " '_i34': 'ls1=[]\\ndef test4():\\n    del ls1\\n    #ls1.append(0)\\n    print(ls1)',\n",
       " '_i35': 'test4()',\n",
       " '_i36': 'ls1=[]\\ndef test4():\\n    \\n    ls1.append(0)\\n    print(ls1)',\n",
       " '_i37': 'test4()',\n",
       " '_i38': 'globals()',\n",
       " '_i39': 'locals()',\n",
       " '_i4': \"account=None\\npassword=None\\nglobal account, password\\ndef regist(p1,p2):\\n\\n    account=p1\\n    password=p2\\n    print(account,password)\\ndef login(p1,p2):\\n    print(account,password)\\n    if account==p1 and password==p2:\\n        print('longin success')\\n    else:\\n        print('error')\",\n",
       " '_i5': \"regist('abddc','123')\\nlogin('abddc','123')\",\n",
       " '_i6': \"account=None\\npassword=None\\n\\ndef regist(p1,p2):\\n    global account, password\\n    account=p1\\n    password=p2\\n    print(account,password)\\ndef login(p1,p2):\\n    print(account,password)\\n    if account==p1 and password==p2:\\n        print('longin success')\\n    else:\\n        print('error')\",\n",
       " '_i7': \"account=None\\npassword=None\\n\\ndef regist(p1,p2):\\n    global account, password\\n    account=p1\\n    password=p2\\n    print(account,password)\\ndef login(p1,p2):\\n    print(account,password)\\n    if account==p1 and password==p2:\\n        print('longin success')\\n    else:\\n        print('error')\",\n",
       " '_i8': \"regist('abddc','123')\\nlogin('abddc','123')\",\n",
       " '_i9': \"regist('abddc','123')\\nlogin('abdc','123')\",\n",
       " '_ih': ['',\n",
       "  \"#account=None\\n#password=None\\nglobal account, password\\ndef regist(p1,p2):\\n\\n    account=p1\\n    password=p2\\n    print(account,password)\\ndef login(p1,p2):\\n    print(account,password)\\n    if account==p1 and password==p2:\\n        print('longin success')\\n    else:\\n        print('error')\",\n",
       "  \"regist('abddc','123')\\nlogin('abddc','123')\",\n",
       "  \"account=None\\npassword=None\\nglobal account, password\\ndef regist(p1,p2):\\n\\n    account=p1\\n    password=p2\\n    print(account,password)\\ndef login(p1,p2):\\n    print(account,password)\\n    if account==p1 and password==p2:\\n        print('longin success')\\n    else:\\n        print('error')\",\n",
       "  \"account=None\\npassword=None\\nglobal account, password\\ndef regist(p1,p2):\\n\\n    account=p1\\n    password=p2\\n    print(account,password)\\ndef login(p1,p2):\\n    print(account,password)\\n    if account==p1 and password==p2:\\n        print('longin success')\\n    else:\\n        print('error')\",\n",
       "  \"regist('abddc','123')\\nlogin('abddc','123')\",\n",
       "  \"account=None\\npassword=None\\n\\ndef regist(p1,p2):\\n    global account, password\\n    account=p1\\n    password=p2\\n    print(account,password)\\ndef login(p1,p2):\\n    print(account,password)\\n    if account==p1 and password==p2:\\n        print('longin success')\\n    else:\\n        print('error')\",\n",
       "  \"account=None\\npassword=None\\n\\ndef regist(p1,p2):\\n    global account, password\\n    account=p1\\n    password=p2\\n    print(account,password)\\ndef login(p1,p2):\\n    print(account,password)\\n    if account==p1 and password==p2:\\n        print('longin success')\\n    else:\\n        print('error')\",\n",
       "  \"regist('abddc','123')\\nlogin('abddc','123')\",\n",
       "  \"regist('abddc','123')\\nlogin('abdc','123')\",\n",
       "  \"regist('abddc','123')\\nlogin('abddc','1123')\",\n",
       "  'import pymysql',\n",
       "  'import pymysql',\n",
       "  'import pymysql',\n",
       "  'import pymysql',\n",
       "  'def test(a,b,c,d,e=100):\\n    print(a,b,c,d,e)',\n",
       "  'test(1,2,3,4,5)',\n",
       "  'test(1,2,3,4)',\n",
       "  'def test(a,b,c,d,e=100):\\n    print(a,b,c,d,e)',\n",
       "  'def test(a,b,*,c,d,e=100):\\n    print(a,b,c,d,e)',\n",
       "  'test(1,2,3,4)',\n",
       "  'test(1,2,c=3,d=4)',\n",
       "  'def test1(**kwargs):\\n    print(kwargs)',\n",
       "  'test1(a=1,b=2,c=3,d=4,e=5)',\n",
       "  'test1(a=1,b=2,c=3,d=4,e=5,66)',\n",
       "  'test1(a=1,b=2,c=3,d=4,e=5)',\n",
       "  'def test2(*args,**kwargs):\\n    print(args)\\n    print(kwargs)',\n",
       "  'res(1,2,3,4,5,a=1,b=2,c=3)',\n",
       "  'res=test2(1,2,3,4,5,a=1,b=2,c=3)',\n",
       "  'mist=0 \\ndef test3():\\n    global mist\\n    mist+=100\\n    print(mist)',\n",
       "  'test3()',\n",
       "  'ls1[]\\ndef test4():\\n    ls1.append(0)\\n    print(ls1)',\n",
       "  'ls1=[]\\ndef test4():\\n    ls1.append(0)\\n    print(ls1)',\n",
       "  'test4()',\n",
       "  'ls1=[]\\ndef test4():\\n    del ls1\\n    #ls1.append(0)\\n    print(ls1)',\n",
       "  'test4()',\n",
       "  'ls1=[]\\ndef test4():\\n    \\n    ls1.append(0)\\n    print(ls1)',\n",
       "  'test4()',\n",
       "  'globals()',\n",
       "  'locals()'],\n",
       " '_ii': 'test4()',\n",
       " '_iii': 'ls1=[]\\ndef test4():\\n    \\n    ls1.append(0)\\n    print(ls1)',\n",
       " '_oh': {38: {...}},\n",
       " 'account': 'abddc',\n",
       " 'exit': <IPython.core.autocall.ZMQExitAutocall at 0x56bf5f8>,\n",
       " 'get_ipython': <bound method InteractiveShell.get_ipython of <ipykernel.zmqshell.ZMQInteractiveShell object at 0x00000000056A2128>>,\n",
       " 'login': <function __main__.login>,\n",
       " 'ls1': [0],\n",
       " 'mist': 100,\n",
       " 'password': '123',\n",
       " 'pymysql': <module 'pymysql' from 'C:\\\\ProgramData\\\\Anaconda3\\\\lib\\\\site-packages\\\\pymysql\\\\__init__.py'>,\n",
       " 'quit': <IPython.core.autocall.ZMQExitAutocall at 0x56bf5f8>,\n",
       " 'regist': <function __main__.regist>,\n",
       " 'res': None,\n",
       " 'test': <function __main__.test>,\n",
       " 'test1': <function __main__.test1>,\n",
       " 'test2': <function __main__.test2>,\n",
       " 'test3': <function __main__.test3>,\n",
       " 'test4': <function __main__.test4>}"
      ]
     },
     "execution_count": 39,
     "metadata": {},
     "output_type": "execute_result"
    }
   ],
   "source": [
    "locals()"
   ]
  },
  {
   "cell_type": "markdown",
   "metadata": {},
   "source": [
    "## 注意：\n",
    "- global ：在进行赋值操作的时候需要声明\n",
    "- 官方解释：This is because when you make an assignment to a variable in a scope, that variable becomes local to that scope and shadows any similarly named variable in the outer scope.\n",
    "- ![](../Photo/73.png)"
   ]
  },
  {
   "cell_type": "code",
   "execution_count": 8,
   "metadata": {},
   "outputs": [
    {
     "name": "stdout",
     "output_type": "stream",
     "text": [
      "1\n",
      "1\n"
     ]
    }
   ],
   "source": [
    "x = 1\n",
    "y = []\n",
    "def test():\n",
    "#     x = x  + 1\n",
    "    y.append(100)\n",
    "    print(x)\n",
    "test()\n",
    "print(x)"
   ]
  },
  {
   "cell_type": "markdown",
   "metadata": {},
   "source": [
    "## EP：\n",
    "- 定义一个邮箱加密函数，使得输入邮箱后进行ASCII码加密\n",
    "- 定义一个判断其是否为闰年的函数\n",
    "- 函数的嵌套：定义两个函数A，B，B函数接受A函数的数值并判定是否为奇数或者偶数"
   ]
  },
  {
   "cell_type": "markdown",
   "metadata": {},
   "source": [
    "# Homework\n",
    "- 1\n",
    "![](../Photo/74.png)"
   ]
  },
  {
   "cell_type": "code",
   "execution_count": 3,
   "metadata": {},
   "outputs": [
    {
     "name": "stdout",
     "output_type": "stream",
     "text": [
      "1.00       5.00       12.00      22.00      35.00      51.00      70.00      92.00      117.00     145.00     \n",
      "176.00     210.00     247.00     287.00     330.00     376.00     425.00     477.00     532.00     590.00     \n",
      "651.00     715.00     782.00     852.00     925.00     1001.00    1080.00    1162.00    1247.00    1335.00    \n",
      "1426.00    1520.00    1617.00    1717.00    1820.00    1926.00    2035.00    2147.00    2262.00    2380.00    \n",
      "2501.00    2625.00    2752.00    2882.00    3015.00    3151.00    3290.00    3432.00    3577.00    3725.00    \n",
      "3876.00    4030.00    4187.00    4347.00    4510.00    4676.00    4845.00    5017.00    5192.00    5370.00    \n",
      "5551.00    5735.00    5922.00    6112.00    6305.00    6501.00    6700.00    6902.00    7107.00    7315.00    \n",
      "7526.00    7740.00    7957.00    8177.00    8400.00    8626.00    8855.00    9087.00    9322.00    9560.00    \n",
      "9801.00    10045.00   10292.00   10542.00   10795.00   11051.00   11310.00   11572.00   11837.00   12105.00   \n",
      "12376.00   12650.00   12927.00   13207.00   13490.00   13776.00   14065.00   14357.00   14652.00   "
     ]
    }
   ],
   "source": [
    "def test(num):\n",
    "    for i in range(1,num):\n",
    "        print('%-10.2f'%(i * (3*i -1) /2),end=' ')\n",
    "        if i % 10 == 0 and i !=0:\n",
    "            print()\n",
    "test(100)"
   ]
  },
  {
   "cell_type": "markdown",
   "metadata": {},
   "source": [
    "- 2 \n",
    "![](../Photo/75.png)"
   ]
  },
  {
   "cell_type": "code",
   "execution_count": 47,
   "metadata": {},
   "outputs": [],
   "source": [
    "def sumDigits(n):\n",
    "    sum1=0\n",
    "    while n!=0:\n",
    "        nu=n%10\n",
    "        sum1+=nu\n",
    "        n=n//10\n",
    "    return sum1"
   ]
  },
  {
   "cell_type": "code",
   "execution_count": 48,
   "metadata": {},
   "outputs": [
    {
     "name": "stdout",
     "output_type": "stream",
     "text": [
      "enter a integer:1234\n",
      "1234 的各位数字之和为： 10\n"
     ]
    }
   ],
   "source": [
    "fn=eval(input('enter a integer:'))\n",
    "print(fn,'的各位数字之和为：',sumDigits(fn))"
   ]
  },
  {
   "cell_type": "markdown",
   "metadata": {},
   "source": [
    "- 3\n",
    "![](../Photo/76.png)"
   ]
  },
  {
   "cell_type": "code",
   "execution_count": 49,
   "metadata": {},
   "outputs": [],
   "source": [
    "def displaySortedNumbers(a,b,c):\n",
    "    if a>b:\n",
    "        a,b=b,a\n",
    "    if a>c:\n",
    "        a,c=c,a\n",
    "    if b>c:\n",
    "        b,c=c,b\n",
    "    return a,b,c"
   ]
  },
  {
   "cell_type": "code",
   "execution_count": 53,
   "metadata": {},
   "outputs": [
    {
     "name": "stdout",
     "output_type": "stream",
     "text": [
      "endter three numbers:3,2.4,5\n",
      "The sorted numbers are: 2.4 3 5\n"
     ]
    }
   ],
   "source": [
    "num1,num2,num3=eval(input('endter three numbers:'))\n",
    "a,b,c=displaySortedNumbers(num1,num2,num3)\n",
    "print('The sorted numbers are:',a,b,c)"
   ]
  },
  {
   "cell_type": "markdown",
   "metadata": {},
   "source": [
    "- 4\n",
    "![](../Photo/77.png)"
   ]
  },
  {
   "cell_type": "code",
   "execution_count": 75,
   "metadata": {},
   "outputs": [],
   "source": [
    "def futureInvestmentValue(inva,mir,year):\n",
    "    return inva*(1+mir)**(year*12)\n",
    "    "
   ]
  },
  {
   "cell_type": "code",
   "execution_count": 85,
   "metadata": {},
   "outputs": [
    {
     "name": "stdout",
     "output_type": "stream",
     "text": [
      "the amount invested:1000\n",
      "Annual interest rate:9\n",
      "Years     Future Value\n",
      "1         1093.81\n",
      "2         1196.41\n",
      "3         1308.65\n",
      "4         1431.41\n",
      "5         1565.68\n",
      "6         1712.55\n",
      "7         1873.20\n",
      "8         2048.92\n",
      "9         2241.12\n",
      "10        2451.36\n",
      "11        2681.31\n",
      "12        2932.84\n",
      "13        3207.96\n",
      "14        3508.89\n",
      "15        3838.04\n",
      "16        4198.08\n",
      "17        4591.89\n",
      "18        5022.64\n",
      "19        5493.80\n",
      "20        6009.15\n",
      "21        6572.85\n",
      "22        7189.43\n",
      "23        7863.85\n",
      "24        8601.53\n",
      "25        9408.41\n",
      "26        10290.99\n",
      "27        11256.35\n",
      "28        12312.28\n",
      "29        13467.25\n",
      "30        14730.58\n"
     ]
    }
   ],
   "source": [
    "amount=eval(input('the amount invested:'))\n",
    "yrate=eval(input('Annual interest rate:'))\n",
    "print('Years     Future Value')\n",
    "for i in range(1,31):\n",
    "    val=futureInvestmentValue(amount,yrate/1200,i)\n",
    "    print('%-10d%.2f'%(i,val))"
   ]
  },
  {
   "cell_type": "markdown",
   "metadata": {},
   "source": [
    "- 5\n",
    "![](../Photo/78.png)"
   ]
  },
  {
   "cell_type": "code",
   "execution_count": 58,
   "metadata": {},
   "outputs": [],
   "source": [
    "def printchars(ch1,ch2,nump):\n",
    "    count=0\n",
    "    for i in range(ord(ch1),ord(ch2)+1):\n",
    "        print(chr(i),end=' ')\n",
    "        count+=1\n",
    "        if count%nump==0:\n",
    "            print()\n",
    "        "
   ]
  },
  {
   "cell_type": "code",
   "execution_count": 59,
   "metadata": {},
   "outputs": [
    {
     "name": "stdout",
     "output_type": "stream",
     "text": [
      "1 2 3 4 5 6 7 8 9 : \n",
      "; < = > ? @ A B C D \n",
      "E F G H I J K L M N \n",
      "O P Q R S T U V W X \n",
      "Y Z "
     ]
    }
   ],
   "source": [
    "printchars('1','Z',10)"
   ]
  },
  {
   "cell_type": "markdown",
   "metadata": {},
   "source": [
    "- 6\n",
    "![](../Photo/79.png)"
   ]
  },
  {
   "cell_type": "code",
   "execution_count": 66,
   "metadata": {},
   "outputs": [],
   "source": [
    "def runnian(n):\n",
    "    if (n%4 ==0 and n%100 !=0)or n%400 ==0:\n",
    "        return 1\n",
    "    else:\n",
    "        return 0\n",
    "def numberofdayinayear(year):\n",
    "    if runnian(year)==1:\n",
    "        return 366\n",
    "    else:\n",
    "        return 365\n",
    "    "
   ]
  },
  {
   "cell_type": "code",
   "execution_count": 67,
   "metadata": {},
   "outputs": [
    {
     "name": "stdout",
     "output_type": "stream",
     "text": [
      "2010 年有365天！\n",
      "2011 年有365天！\n",
      "2012 年有366天！\n",
      "2013 年有365天！\n",
      "2014 年有365天！\n",
      "2015 年有365天！\n",
      "2016 年有366天！\n",
      "2017 年有365天！\n",
      "2018 年有365天！\n",
      "2019 年有365天！\n",
      "2020 年有366天！\n"
     ]
    }
   ],
   "source": [
    "for i in range(2010,2021):\n",
    "    print(i,'年有%d天！'%(numberofdayinayear(i)))"
   ]
  },
  {
   "cell_type": "markdown",
   "metadata": {},
   "source": [
    "- 7\n",
    "![](../Photo/80.png)"
   ]
  },
  {
   "cell_type": "code",
   "execution_count": 68,
   "metadata": {},
   "outputs": [],
   "source": [
    "import math\n",
    "def distance(x1,y1,x2,y2):\n",
    "    return math.sqrt((x1-x2)**2+(y1-y2)**2)"
   ]
  },
  {
   "cell_type": "code",
   "execution_count": 71,
   "metadata": {},
   "outputs": [
    {
     "name": "stdout",
     "output_type": "stream",
     "text": [
      "enter x1,y1:1.5,-3.4\n",
      "enter x2,y2:4,5\n",
      "the distance between the two points is : 8.764131445842194\n"
     ]
    }
   ],
   "source": [
    "x1,y1=eval(input('enter x1,y1:'))\n",
    "x2,y2=eval(input('enter x2,y2:'))\n",
    "dis=distance(x1,y1,x2,y2)\n",
    "print('the distance between the two points is :',dis)"
   ]
  },
  {
   "cell_type": "markdown",
   "metadata": {},
   "source": [
    "- 8\n",
    "![](../Photo/81.png)"
   ]
  },
  {
   "cell_type": "code",
   "execution_count": 1,
   "metadata": {},
   "outputs": [],
   "source": [
    "def sushu(n):\n",
    "    if n==2:\n",
    "        return 1\n",
    "    for j in range(2,n):\n",
    "        if n%j==0:\n",
    "            break\n",
    "    if j== n-1:\n",
    "        return 1\n",
    "    else:\n",
    "        return 0 "
   ]
  },
  {
   "cell_type": "code",
   "execution_count": 2,
   "metadata": {},
   "outputs": [
    {
     "name": "stdout",
     "output_type": "stream",
     "text": [
      "p      2^p-1\n",
      "2       3\n",
      "3       7\n",
      "5       31\n",
      "7       127\n",
      "13      8191\n",
      "17      131071\n",
      "19      524287\n",
      "31      2147483647\n"
     ]
    }
   ],
   "source": [
    "print('p      2^p-1')\n",
    "for i in range(2,32):\n",
    "    if sushu(2**i-1) ==1:\n",
    "        print('%-8d%d'%(i,2**i-1))"
   ]
  },
  {
   "cell_type": "markdown",
   "metadata": {},
   "source": [
    "- 9\n",
    "![](../Photo/82.png)\n",
    "![](../Photo/83.png)"
   ]
  },
  {
   "cell_type": "code",
   "execution_count": 43,
   "metadata": {},
   "outputs": [
    {
     "name": "stdout",
     "output_type": "stream",
     "text": [
      "Current date and time is  Jul 20 , 2018 18:19:18\n"
     ]
    }
   ],
   "source": [
    "import time\n",
    "import datetime\n",
    "i = datetime.datetime.now()\n",
    "lsy=['Jan','Feb','Mar','Apr','May','Jun','Jul','Aug','Sep','Oct','Nov','Dec']\n",
    "print('Current date and time is ',lsy[i.month-1],i.day,',',i.year,time.strftime(\"%H:%M:%S\"))\n"
   ]
  },
  {
   "cell_type": "markdown",
   "metadata": {},
   "source": [
    "- 10\n",
    "![](../Photo/84.png)"
   ]
  },
  {
   "cell_type": "code",
   "execution_count": 37,
   "metadata": {},
   "outputs": [],
   "source": [
    "import random\n",
    "#x3=-1\n",
    "#r3=-1\n",
    "def roll():\n",
    "    x1=random.randint(1,6)\n",
    "    x2=random.randint(1,6)\n",
    "    #global x3\n",
    "    x3=x1+x2\n",
    "    print('You rolled %d + %d = %d'%(x1,x2,x3))\n",
    "    if x3 ==7 or x3 ==11:\n",
    "        print('You win ',x3)\n",
    "    elif x3 ==2 or x3==3 or x3==12 :\n",
    "        print('You lost ',x3)\n",
    "    else:\n",
    "        while 1:\n",
    "            #global r3\n",
    "            print('point is ',x3)\n",
    "            r1=random.randint(1,6)\n",
    "            r2=random.randint(1,6)\n",
    "            r3=r1+r2\n",
    "            print('You rolled %d + %d = %d'%(r1,r2,r3))\n",
    "            if r3 ==7:\n",
    "                print('You lost ',r3)\n",
    "                break\n",
    "            if r3 == x3:\n",
    "                print('You win ',r3)\n",
    "                break\n",
    "                "
   ]
  },
  {
   "cell_type": "code",
   "execution_count": 38,
   "metadata": {},
   "outputs": [
    {
     "name": "stdout",
     "output_type": "stream",
     "text": [
      "You rolled 3 + 5 = 8\n",
      "point is  8\n",
      "You rolled 5 + 4 = 9\n",
      "point is  8\n",
      "You rolled 2 + 1 = 3\n",
      "point is  8\n",
      "You rolled 3 + 2 = 5\n",
      "point is  8\n",
      "You rolled 3 + 5 = 8\n",
      "You win  8\n"
     ]
    }
   ],
   "source": [
    "roll()"
   ]
  },
  {
   "cell_type": "markdown",
   "metadata": {},
   "source": [
    "- 11 \n",
    "### 去网上寻找如何用Python代码发送邮件"
   ]
  }
 ],
 "metadata": {
  "kernelspec": {
   "display_name": "Python 3",
   "language": "python",
   "name": "python3"
  },
  "language_info": {
   "codemirror_mode": {
    "name": "ipython",
    "version": 3
   },
   "file_extension": ".py",
   "mimetype": "text/x-python",
   "name": "python",
   "nbconvert_exporter": "python",
   "pygments_lexer": "ipython3",
   "version": "3.6.4"
  }
 },
 "nbformat": 4,
 "nbformat_minor": 2
}
