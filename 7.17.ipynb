{
 "cells": [
  {
   "cell_type": "markdown",
   "metadata": {},
   "source": [
    "# 数学函数、字符串和对象\n",
    "## 本章介绍Python函数来执行常见的数学运算\n",
    "- 函数是完成一个特殊任务的一组语句，可以理解为一个函数相当于一个小功能，但是在开发中，需要注意一个函数的长度最好不要超过一屏\n",
    "- Python中的内置函数是不需要Import导入的\n",
    "<img src=\"../Photo/15.png\"></img>"
   ]
  },
  {
   "cell_type": "code",
   "execution_count": null,
   "metadata": {
    "scrolled": true
   },
   "outputs": [],
   "source": [
    "a=-10\n",
    "print(abs(a))"
   ]
  },
  {
   "cell_type": "code",
   "execution_count": null,
   "metadata": {},
   "outputs": [],
   "source": [
    "b=-10.2\n",
    "print(abs(b))"
   ]
  },
  {
   "cell_type": "code",
   "execution_count": null,
   "metadata": {},
   "outputs": [],
   "source": [
    "max(1,23,4,5,6)"
   ]
  },
  {
   "cell_type": "code",
   "execution_count": null,
   "metadata": {},
   "outputs": [],
   "source": [
    "pow(2,3,2)#有第三个参数，取莫运算对第三个参数"
   ]
  },
  {
   "cell_type": "markdown",
   "metadata": {},
   "source": [
    "## 尝试练习Python内置函数"
   ]
  },
  {
   "cell_type": "markdown",
   "metadata": {},
   "source": [
    "## Python中的math模块提供了许多数学函数\n",
    "<img src=\"../Photo/16.png\"></img>\n",
    "<img src=\"../Photo/17.png\"></img>\n"
   ]
  },
  {
   "cell_type": "code",
   "execution_count": null,
   "metadata": {},
   "outputs": [],
   "source": [
    "import math\n",
    "a1=math.cos(math.radians(90))\n",
    "b1=math.sin(math.radians(90))\n",
    "print(a1)\n",
    "print(b1)\n",
    "print(\"%.2f\"%math.sqrt(18))"
   ]
  },
  {
   "cell_type": "code",
   "execution_count": null,
   "metadata": {},
   "outputs": [
    {
     "name": "stdout",
     "output_type": "stream",
     "text": [
      "1 // 6 = ?\n"
     ]
    }
   ],
   "source": [
    "import random\n",
    "import math\n",
    "a=random.randint(0,9)\n",
    "b=random.randint(0,9)\n",
    "#print(a,b)\n",
    "#res1=0\n",
    "ls=['+','-','*','//','max','min']\n",
    "c=random.randint(0,5)\n",
    "#print(random.sample(ls,1))\n",
    "print(a,ls[c],b,\"= ?\")\n",
    "if ls[c]==\"+\":\n",
    "    res1=a+b\n",
    "elif ls[c]==\"-\":\n",
    "    res1=a-b\n",
    "elif ls[c]==\"*\":\n",
    "    res1=a*b\n",
    "elif ls[c]==\"//\":\n",
    "    res1=a//b\n",
    "elif ls[c]==\"max\":\n",
    "    res1=max(a,b)\n",
    "elif ls[c]==\"min\":\n",
    "    res1=min(a,b)\n",
    "res=eval(input(\"请输入验证结果：\"))\n",
    "print(res1)\n",
    "if res1 == res:\n",
    "    print(\"验证码验证成功\")\n",
    "    \n",
    "else:\n",
    "    print(\"验证码验证不成功\")\n"
   ]
  },
  {
   "cell_type": "code",
   "execution_count": 1,
   "metadata": {},
   "outputs": [
    {
     "data": {
      "text/plain": [
       "3.141592653589793"
      ]
     },
     "execution_count": 1,
     "metadata": {},
     "output_type": "execute_result"
    }
   ],
   "source": [
    "import math\n",
    "math.pi"
   ]
  },
  {
   "cell_type": "code",
   "execution_count": 2,
   "metadata": {},
   "outputs": [
    {
     "data": {
      "text/plain": [
       "2.718281828459045"
      ]
     },
     "execution_count": 2,
     "metadata": {},
     "output_type": "execute_result"
    }
   ],
   "source": [
    "math.e"
   ]
  },
  {
   "cell_type": "markdown",
   "metadata": {},
   "source": [
    "## 两个数学常量PI和e，可以通过使用math.pi 和math.e调用"
   ]
  },
  {
   "cell_type": "markdown",
   "metadata": {},
   "source": [
    "## EP:\n",
    "- 通过math库，写一个程序，使得用户输入三个顶点(x,y)返回三个角度\n",
    "- 注意：Python计算角度为弧度制，需要将其转换为角度\n",
    "<img src=\"../Photo/18.png\">"
   ]
  },
  {
   "cell_type": "code",
   "execution_count": 4,
   "metadata": {},
   "outputs": [
    {
     "name": "stdout",
     "output_type": "stream",
     "text": [
      "x1,y1:1,1\n",
      "x2,y2:2,2\n",
      "x3,y3:1,3\n",
      "45.00000000000001 45.00000000000001 89.99999999999999\n"
     ]
    }
   ],
   "source": [
    "import math\n",
    "x1,y1=eval(input(\"x1,y1:\"))\n",
    "x2,y2=eval(input(\"x2,y2:\"))\n",
    "x3,y3=eval(input(\"x3,y3:\"))\n",
    "a=math.sqrt((x1-x2)**2+(y1-y2)**2)\n",
    "b=math.sqrt((x3-x2)**2+(y3-y2)**2)\n",
    "c=math.sqrt((x1-x3)**2+(y1-y3)**2)\n",
    "A=math.acos((a*a-b*b-c*c)/(-2*b*c))\n",
    "B=math.acos((b*b-a*a-c*c)/(-2*a*c))\n",
    "C=math.acos((c*c-b*b-a*a)/(-2*b*a))\n",
    "A=math.degrees(A)\n",
    "B=math.degrees(B)\n",
    "C=math.degrees(C)\n",
    "print(A,B,C)\n"
   ]
  },
  {
   "cell_type": "markdown",
   "metadata": {},
   "source": [
    "## 字符串和字符\n",
    "- 在Python中，字符串必须是在单引号或者双引号内，在多段换行的字符串中可以使用“”“\n",
    "- 在使用”“”时，给予其变量则变为字符串，否则当多行注释使用"
   ]
  },
  {
   "cell_type": "code",
   "execution_count": 5,
   "metadata": {},
   "outputs": [
    {
     "name": "stdout",
     "output_type": "stream",
     "text": [
      "fajkdfkljaf\n",
      "fajsfa\n",
      "sfjdlkjaslfdj\n",
      "\n"
     ]
    }
   ],
   "source": [
    "a=\"\"\"fajkdfkljaf\n",
    "fajsfa\n",
    "sfjdlkjaslfdj\n",
    "\"\"\"\n",
    "print(a)"
   ]
  },
  {
   "cell_type": "markdown",
   "metadata": {},
   "source": [
    "## ASCII码与Unicode码\n",
    "- <img src=\"../Photo/19.png\"></img>\n",
    "- <img src=\"../Photo/20.png\"></img>\n",
    "- <img src=\"../Photo/21.png\"></img>"
   ]
  },
  {
   "cell_type": "markdown",
   "metadata": {},
   "source": [
    "## 函数ord、chr\n",
    "- ord 返回ASCII码值\n",
    "- chr 返回字符"
   ]
  },
  {
   "cell_type": "code",
   "execution_count": 21,
   "metadata": {
    "scrolled": false
   },
   "outputs": [
    {
     "ename": "IndentationError",
     "evalue": "unexpected indent (<ipython-input-21-dfdf27f0001e>, line 9)",
     "output_type": "error",
     "traceback": [
      "\u001b[1;36m  File \u001b[1;32m\"<ipython-input-21-dfdf27f0001e>\"\u001b[1;36m, line \u001b[1;32m9\u001b[0m\n\u001b[1;33m    print(email.index)\u001b[0m\n\u001b[1;37m    ^\u001b[0m\n\u001b[1;31mIndentationError\u001b[0m\u001b[1;31m:\u001b[0m unexpected indent\n"
     ]
    }
   ],
   "source": [
    "email=\"akjjsfkl37848@163.com\"\n",
    "for i in email:\n",
    "   ''' if email.index==0:\n",
    "        test=ord(i)+1\n",
    "    elif email.index % 3==0:\n",
    "        test=ord(i)+5\n",
    "    else:\n",
    "        test=ord(i)-1'''\n",
    "    print(email.index)        "
   ]
  },
  {
   "cell_type": "code",
   "execution_count": 12,
   "metadata": {},
   "outputs": [
    {
     "name": "stdout",
     "output_type": "stream",
     "text": [
      "MD5加密前： joker\n",
      "MD5加密后： 9facbf452def2d7efc5b5c48cdb837fa\n"
     ]
    }
   ],
   "source": [
    "import hashlib\n",
    "stri=\"joker\"\n",
    "h1=hashlib.md5()\n",
    "h1.update(stri.encode(encoding='utf-8'))\n",
    "print(\"MD5加密前：\",stri)\n",
    "print(\"MD5加密后：\",h1.hexdigest())"
   ]
  },
  {
   "cell_type": "markdown",
   "metadata": {},
   "source": [
    "## EP:\n",
    "- 利用ord与chr进行简单邮箱加密"
   ]
  },
  {
   "cell_type": "markdown",
   "metadata": {},
   "source": [
    "## 转义序列 \\\n",
    "- a = \"He said,\"Johon's program is easy to read\"\""
   ]
  },
  {
   "cell_type": "markdown",
   "metadata": {},
   "source": [
    "## 高级print\n",
    "- 参数 end： 以什么方式结束打印\n",
    "- 默认换行打印"
   ]
  },
  {
   "cell_type": "code",
   "execution_count": 13,
   "metadata": {},
   "outputs": [
    {
     "name": "stdout",
     "output_type": "stream",
     "text": [
      "sfdkjksdfj"
     ]
    }
   ],
   "source": [
    "str1=\"sfdkjksdfj\"\n",
    "print(str1,end='')"
   ]
  },
  {
   "cell_type": "markdown",
   "metadata": {},
   "source": [
    "## 函数str\n",
    "- 将类型强制转换成字符串类型\n",
    "- 其他一些以后会学到(list,set,tuple...)"
   ]
  },
  {
   "cell_type": "markdown",
   "metadata": {},
   "source": [
    "## 字符串连接操作\n",
    "- 直接使用 “+” \n",
    "- join() 函数 "
   ]
  },
  {
   "cell_type": "markdown",
   "metadata": {},
   "source": [
    "## EP：\n",
    "- 将 “Welcome” “to” \"Python\" 拼接\n",
    "- 将int型 100 与 “joker is a bad man” 拼接\n",
    "- 从控制台读取字符串\n",
    "> 输入一个名字返回夸奖此人是一个帅哥"
   ]
  },
  {
   "cell_type": "code",
   "execution_count": 14,
   "metadata": {},
   "outputs": [
    {
     "name": "stdout",
     "output_type": "stream",
     "text": [
      "100joker is a bad man\n"
     ]
    }
   ],
   "source": [
    "print(str(100)+\"joker is a bad man\")"
   ]
  },
  {
   "cell_type": "code",
   "execution_count": 15,
   "metadata": {},
   "outputs": [
    {
     "name": "stdout",
     "output_type": "stream",
     "text": [
      "please input a man name:joker\n",
      "joker是一个帅哥！\n"
     ]
    }
   ],
   "source": [
    "str1=input(\"please input a man name:\")\n",
    "print(str1+\"是一个帅哥！\")"
   ]
  },
  {
   "cell_type": "code",
   "execution_count": 36,
   "metadata": {
    "scrolled": true
   },
   "outputs": [
    {
     "name": "stdout",
     "output_type": "stream",
     "text": [
      "hahahah%heheheh\n"
     ]
    }
   ],
   "source": [
    "import string\n",
    "str1=\"hahahah\"\n",
    "str2=\"heheheh\"\n",
    "str1='%'.join((str1,str2))\n",
    "print(str1)"
   ]
  },
  {
   "cell_type": "code",
   "execution_count": 28,
   "metadata": {},
   "outputs": [
    {
     "name": "stdout",
     "output_type": "stream",
     "text": [
      "Wall time: 0 ns\n"
     ]
    },
    {
     "data": {
      "text/plain": [
       "'a#c#d#d#ff'"
      ]
     },
     "execution_count": 28,
     "metadata": {},
     "output_type": "execute_result"
    }
   ],
   "source": [
    "%time '#'.join(('a','c','d','d','ff'))"
   ]
  },
  {
   "cell_type": "code",
   "execution_count": 30,
   "metadata": {},
   "outputs": [
    {
     "name": "stdout",
     "output_type": "stream",
     "text": [
      "Wall time: 0 ns\n"
     ]
    },
    {
     "data": {
      "text/plain": [
       "'a#a#c#d#d#ff'"
      ]
     },
     "execution_count": 30,
     "metadata": {},
     "output_type": "execute_result"
    }
   ],
   "source": [
    "%time 'a'+'#'+'a'+'#'+'c'+'#'+'d'+'#'+'d'+'#'+'ff'"
   ]
  },
  {
   "cell_type": "markdown",
   "metadata": {},
   "source": [
    "## 实例研究：最小数量硬币\n",
    "- 开发一个程序，让用户输入总金额，这是一个用美元和美分表示的浮点值，返回一个由美元、两角五分的硬币、一角的硬币、五分硬币、以及美分个数\n",
    "<img src=\"../Photo/22.png\"></img>"
   ]
  },
  {
   "cell_type": "code",
   "execution_count": 37,
   "metadata": {},
   "outputs": [
    {
     "name": "stdout",
     "output_type": "stream",
     "text": [
      "Ennter an amount,for example 11.56:11.56\n",
      "1156\n",
      "11 2 0 1 1\n"
     ]
    }
   ],
   "source": [
    "amount = eval(input('Ennter an amount,for example 11.56:'))\n",
    "remainingAmount = int(amount * 100)\n",
    "print(remainingAmount)\n",
    "numberOfOneDollars = remainingAmount //100\n",
    "remainingAmount = remainingAmount % 100\n",
    "numberOfQuarters = remainingAmount // 25\n",
    "remainingAmount = remainingAmount % 25\n",
    "numberOfDimes = remainingAmount // 10\n",
    "remainingAmount = remainingAmount % 10\n",
    "numberOfNickls = remainingAmount // 5\n",
    "remainingAmount = remainingAmount % 5\n",
    "numberOfPenies = remainingAmount\n",
    "print(numberOfOneDollars,numberOfQuarters,numberOfDimes,numberOfNickls,numberOfPenies)"
   ]
  },
  {
   "cell_type": "code",
   "execution_count": 45,
   "metadata": {},
   "outputs": [
    {
     "name": "stdout",
     "output_type": "stream",
     "text": [
      "please input an amount:11.03\n",
      "11 0 0 0 2\n"
     ]
    }
   ],
   "source": [
    "amount=eval(input('please input an amount:'))\n",
    "meiyuan=int(amount)\n",
    "amount=int((amount-meiyuan)*100)\n",
    "meifen25=amount//25\n",
    "amount%=25\n",
    "meifen10=amount//10\n",
    "amount%=10\n",
    "meifen5=amount//5\n",
    "meifen1=amount%5\n",
    "print(meiyuan,meifen25,meifen10,meifen5,meifen1)"
   ]
  },
  {
   "cell_type": "markdown",
   "metadata": {},
   "source": [
    "- Python弱项，对于浮点型的处理并不是很好，但是处理数据的时候使用的是Numpy类型\n",
    "<img src=\"../Photo/23.png\"></img>"
   ]
  },
  {
   "cell_type": "code",
   "execution_count": 46,
   "metadata": {},
   "outputs": [
    {
     "name": "stdout",
     "output_type": "stream",
     "text": [
      "Ennter an amount,for example 11.56:1103\n",
      "1103\n",
      "11 0 0 0 3\n"
     ]
    }
   ],
   "source": [
    "remainingAmount = eval(input('Ennter an amount,for example 11.56:'))\n",
    "print(remainingAmount)\n",
    "numberOfOneDollars = remainingAmount //100\n",
    "remainingAmount = remainingAmount % 100\n",
    "numberOfQuarters = remainingAmount // 25\n",
    "remainingAmount = remainingAmount % 25\n",
    "numberOfDimes = remainingAmount // 10\n",
    "remainingAmount = remainingAmount % 10\n",
    "numberOfNickls = remainingAmount // 5\n",
    "remainingAmount = remainingAmount % 5\n",
    "numberOfPenies = remainingAmount\n",
    "print(numberOfOneDollars,numberOfQuarters,numberOfDimes,numberOfNickls,numberOfPenies)"
   ]
  },
  {
   "cell_type": "markdown",
   "metadata": {},
   "source": [
    "## id与type\n",
    "- id 查看内存地址，在判断语句中将会使用\n",
    "- type 查看元素类型"
   ]
  },
  {
   "cell_type": "code",
   "execution_count": 49,
   "metadata": {},
   "outputs": [
    {
     "data": {
      "text/plain": [
       "True"
      ]
     },
     "execution_count": 49,
     "metadata": {},
     "output_type": "execute_result"
    }
   ],
   "source": [
    "11e1000 is 11e1000"
   ]
  },
  {
   "cell_type": "markdown",
   "metadata": {},
   "source": [
    "## 其他格式化语句见书"
   ]
  },
  {
   "cell_type": "markdown",
   "metadata": {},
   "source": [
    "# Homework\n",
    "- 1\n",
    "<img src=\"../Photo/24.png\"><img>\n",
    "<img src=\"../Photo/25.png\"><img>"
   ]
  },
  {
   "cell_type": "code",
   "execution_count": 51,
   "metadata": {},
   "outputs": [
    {
     "name": "stdout",
     "output_type": "stream",
     "text": [
      "please input r:5.5\n",
      "The area of the pentagon is  71.92\n"
     ]
    }
   ],
   "source": [
    "import math\n",
    "r=eval(input('please input r:'))\n",
    "s=2*r*math.sin(math.pi/5)\n",
    "area=5*s*s/(4*math.tan(math.pi/5))\n",
    "print('The area of the pentagon is ',round(area,2))"
   ]
  },
  {
   "cell_type": "markdown",
   "metadata": {},
   "source": [
    "- 2\n",
    "<img src=\"../Photo/26.png\"><img>"
   ]
  },
  {
   "cell_type": "code",
   "execution_count": null,
   "metadata": {},
   "outputs": [
    {
     "name": "stdout",
     "output_type": "stream",
     "text": [
      "please input x1,y1:39.55,-116.25\n"
     ]
    }
   ],
   "source": [
    "import math\n",
    "x1,y1=eval(input('please input x1,y1:'))\n",
    "x2,y2=eval(input('please input x2,y2:'))\n",
    "hx1=math.radians(x1)\n",
    "hy1=math.radians(y1)\n",
    "hx2=math.radians(x2)\n",
    "hy2=math.radians(y2)\n",
    "d=6371.01*math.acos((math.sin(hx1)*math.sin(hx2)+math.cos(hx1)*math.cos(hx2)*math.cos(hy1-hy2)))\n",
    "print(\"the distance between the to points is \",d,\"km\")                               "
   ]
  },
  {
   "cell_type": "markdown",
   "metadata": {},
   "source": [
    "- 3\n",
    "<img src=\"../Photo/27.png\"><img>"
   ]
  },
  {
   "cell_type": "code",
   "execution_count": 1,
   "metadata": {},
   "outputs": [
    {
     "name": "stdout",
     "output_type": "stream",
     "text": [
      "enter the side:5.5\n",
      "the area of pentagon is  52.044441367816255\n"
     ]
    }
   ],
   "source": [
    "import math\n",
    "s=eval(input('enter the side:'))\n",
    "area=5*s**2/(4*math.tan(math.pi/5))\n",
    "print(\"the area of pentagon is \",area)"
   ]
  },
  {
   "cell_type": "markdown",
   "metadata": {},
   "source": [
    "- 4\n",
    "<img src=\"../Photo/28.png\"><img>"
   ]
  },
  {
   "cell_type": "code",
   "execution_count": 3,
   "metadata": {},
   "outputs": [
    {
     "name": "stdout",
     "output_type": "stream",
     "text": [
      "enter the number of sides:5\n",
      "enter the side:6.5\n",
      "the area of pentagon is  72.69017017488386\n"
     ]
    }
   ],
   "source": [
    "import math\n",
    "n=eval(input('enter the number of sides:'))\n",
    "s=eval(input('enter the side:'))\n",
    "area=5*s**2/(4*math.tan(math.pi/n))\n",
    "print(\"the area of pentagon is \",area)"
   ]
  },
  {
   "cell_type": "markdown",
   "metadata": {},
   "source": [
    "- 5\n",
    "<img src=\"../Photo/29.png\"><img>\n",
    "<img src=\"../Photo/30.png\"><img>"
   ]
  },
  {
   "cell_type": "code",
   "execution_count": 4,
   "metadata": {},
   "outputs": [
    {
     "name": "stdout",
     "output_type": "stream",
     "text": [
      "enter an ASCII code:69\n",
      "the character is  E\n"
     ]
    }
   ],
   "source": [
    "s=eval(input('enter an ASCII code:'))\n",
    "print(\"the character is \",chr(s))"
   ]
  },
  {
   "cell_type": "markdown",
   "metadata": {},
   "source": [
    "- 6\n",
    "<img src=\"../Photo/31.png\"><img>"
   ]
  },
  {
   "cell_type": "code",
   "execution_count": 7,
   "metadata": {},
   "outputs": [
    {
     "name": "stdout",
     "output_type": "stream",
     "text": [
      "enter name:Smith\n",
      "enter number of hours:10\n",
      "enter hourly pay rate:9.75\n",
      "enter federal tax:0.20\n",
      "enter state tax:0.09\n",
      "Employee Name: Smith\n",
      "Hours Worked: 10\n",
      "Pay Rate: $ 9.75\n",
      "Gross Pay:$  97.5\n",
      "Deductitons:\n",
      "  Federal Withholding:$  19.5\n",
      "  State Withholding:$  8.78\n",
      "  Total Withholding:$  28.28\n",
      "Net Pay: $ 69.23\n"
     ]
    }
   ],
   "source": [
    "name=input('enter name:')\n",
    "worktime=eval(input('enter number of hours:'))\n",
    "pay=eval(input('enter hourly pay rate:'))\n",
    "ftax=eval(input('enter federal tax:'))\n",
    "stax=eval(input('enter state tax:'))\n",
    "print(\"Employee Name:\",name)\n",
    "print('Hours Worked:',worktime)\n",
    "print('Pay Rate: $',pay)\n",
    "print('Gross Pay:$ ',pay*worktime)\n",
    "print('Deductitons:')\n",
    "print('  Federal Withholding:$ ',pay*worktime*ftax)\n",
    "print('  State Withholding:$ ',round(pay*worktime*stax,2))\n",
    "print('  Total Withholding:$ ',round(pay*worktime*(ftax+stax),2))\n",
    "print('Net Pay: $',round(pay*worktime*(1-ftax-stax),2))"
   ]
  },
  {
   "cell_type": "markdown",
   "metadata": {},
   "source": [
    "- 7\n",
    "<img src=\"../Photo/32.png\"><img>"
   ]
  },
  {
   "cell_type": "code",
   "execution_count": 12,
   "metadata": {},
   "outputs": [
    {
     "name": "stdout",
     "output_type": "stream",
     "text": [
      "enter an integer:3125\n",
      "the reversed number is 5213"
     ]
    }
   ],
   "source": [
    "str=input('enter an integer:')\n",
    "j=-1\n",
    "print('the reversed number is ',end='')\n",
    "for i in range(4):\n",
    "    print(str[j],end='')\n",
    "    j-=1\n"
   ]
  },
  {
   "cell_type": "code",
   "execution_count": 16,
   "metadata": {},
   "outputs": [
    {
     "name": "stdout",
     "output_type": "stream",
     "text": [
      "enter an integer:3125\n",
      "5213\n"
     ]
    }
   ],
   "source": [
    "num=eval(input('enter an integer:'))\n",
    "while num:\n",
    "    num1=num1*10+num%10\n",
    "    num=num//10\n",
    "print(num1)"
   ]
  },
  {
   "cell_type": "markdown",
   "metadata": {},
   "source": [
    "- 8 进阶：\n",
    "> 加密一串文本，并将解密后的文件写入本地保存"
   ]
  },
  {
   "cell_type": "code",
   "execution_count": 5,
   "metadata": {},
   "outputs": [
    {
     "name": "stdout",
     "output_type": "stream",
     "text": [
      "please input string:123456\n",
      "345678\n",
      "123456\n"
     ]
    }
   ],
   "source": [
    "str2=input('please input string:')\n",
    "test1=''\n",
    "for i in  str2:\n",
    "    test=ord(i)+2\n",
    "    test1=''.join((test1,chr(test)))\n",
    "print(test1)\n",
    "test3=''\n",
    "for i in test1:\n",
    "    test2=ord(i)-2\n",
    "    test3=''.join((test3,chr(test2)))\n",
    "print(test3) "
   ]
  },
  {
   "cell_type": "code",
   "execution_count": null,
   "metadata": {},
   "outputs": [],
   "source": []
  }
 ],
 "metadata": {
  "kernelspec": {
   "display_name": "Python 3",
   "language": "python",
   "name": "python3"
  },
  "language_info": {
   "codemirror_mode": {
    "name": "ipython",
    "version": 3
   },
   "file_extension": ".py",
   "mimetype": "text/x-python",
   "name": "python",
   "nbconvert_exporter": "python",
   "pygments_lexer": "ipython3",
   "version": "3.6.4"
  }
 },
 "nbformat": 4,
 "nbformat_minor": 2
}
