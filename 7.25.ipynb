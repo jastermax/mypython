{
 "cells": [
  {
   "cell_type": "markdown",
   "metadata": {},
   "source": [
    "# 列表List\n",
    "- 一个列表可以储存任意大小的数据集合，你可以理解为他是一个容器"
   ]
  },
  {
   "cell_type": "markdown",
   "metadata": {},
   "source": [
    "## 先来一个例子爽一爽\n",
    "![](../Photo/115.png)"
   ]
  },
  {
   "cell_type": "code",
   "execution_count": 2,
   "metadata": {},
   "outputs": [
    {
     "name": "stdout",
     "output_type": "stream",
     "text": [
      "enter a new number:1\n",
      "enter a new number:2\n",
      "enter a new number:3\n",
      "enter a new number:4\n",
      "enter a new number:5\n",
      "Average is  3.0\n",
      "Number of elements above the average is  2\n"
     ]
    }
   ],
   "source": [
    "noe=5\n",
    "number=[]\n",
    "sum1=0\n",
    "for i in range(noe):\n",
    "    value=eval(input('enter a new number:'))\n",
    "    number.append(value)\n",
    "    sum1+=value\n",
    "average=sum1/noe\n",
    "count=0\n",
    "for i in range(noe):\n",
    "    if number[i]>average:\n",
    "        count+=1\n",
    "print('Average is ',average)\n",
    "print('Number of elements above the average is ',count)"
   ]
  },
  {
   "cell_type": "markdown",
   "metadata": {},
   "source": [
    "## 创建一个列表\n",
    "- a = [1,2,3,4,5]"
   ]
  },
  {
   "cell_type": "markdown",
   "metadata": {},
   "source": [
    "## 列表的一般操作\n",
    "![](../Photo/116.png)"
   ]
  },
  {
   "cell_type": "code",
   "execution_count": 5,
   "metadata": {
    "scrolled": true
   },
   "outputs": [
    {
     "name": "stdout",
     "output_type": "stream",
     "text": [
      "1\n",
      "2\n",
      "3\n"
     ]
    }
   ],
   "source": [
    "a=[1,2,3]\n",
    "for i in a:\n",
    "    print(i)"
   ]
  },
  {
   "cell_type": "markdown",
   "metadata": {},
   "source": [
    "# list()函数可以将一个可迭代对象转换成列表\n",
    "\n",
    "list('abc')"
   ]
  },
  {
   "cell_type": "code",
   "execution_count": 6,
   "metadata": {},
   "outputs": [
    {
     "data": {
      "text/plain": [
       "['a', 'b', 'c']"
      ]
     },
     "execution_count": 6,
     "metadata": {},
     "output_type": "execute_result"
    }
   ],
   "source": [
    "list('abc')"
   ]
  },
  {
   "cell_type": "code",
   "execution_count": 7,
   "metadata": {},
   "outputs": [
    {
     "data": {
      "text/plain": [
       "False"
      ]
     },
     "execution_count": 7,
     "metadata": {},
     "output_type": "execute_result"
    }
   ],
   "source": [
    "a2=[1,2,3,'hahah',True]\n",
    "100 in a2"
   ]
  },
  {
   "cell_type": "code",
   "execution_count": 9,
   "metadata": {},
   "outputs": [
    {
     "data": {
      "text/plain": [
       "[1, 2, 3, 'hahah', True, 100, 200, 300, 'lalal', False]"
      ]
     },
     "execution_count": 9,
     "metadata": {},
     "output_type": "execute_result"
    }
   ],
   "source": [
    "a3=[100,200,300,'lalal',False]\n",
    "a2+a3"
   ]
  },
  {
   "cell_type": "code",
   "execution_count": 13,
   "metadata": {},
   "outputs": [
    {
     "name": "stdout",
     "output_type": "stream",
     "text": [
      "15.0\n",
      "15.0\n",
      "15.0\n"
     ]
    }
   ],
   "source": [
    "a4=[1.0,2,3,4,5]\n",
    "sum1=0\n",
    "sum2=0\n",
    "for i in a4:\n",
    "    sum1=sum1+i\n",
    "print(sum1)\n",
    "print(sum(a4))\n",
    "for j in range(len(a4)):\n",
    "    sum2+=a4[j]\n",
    "print(sum2)"
   ]
  },
  {
   "cell_type": "code",
   "execution_count": 24,
   "metadata": {},
   "outputs": [
    {
     "data": {
      "text/plain": [
       "False"
      ]
     },
     "execution_count": 24,
     "metadata": {},
     "output_type": "execute_result"
    }
   ],
   "source": [
    "a5=[1,2,3]\n",
    "a6=[1,1]\n",
    "a5==a6"
   ]
  },
  {
   "cell_type": "code",
   "execution_count": 26,
   "metadata": {},
   "outputs": [
    {
     "name": "stdout",
     "output_type": "stream",
     "text": [
      "list index out of range\n"
     ]
    }
   ],
   "source": [
    "try:\n",
    "    a5[3]\n",
    "except Exception as e:\n",
    "    print(e)"
   ]
  },
  {
   "cell_type": "code",
   "execution_count": 27,
   "metadata": {},
   "outputs": [
    {
     "name": "stdout",
     "output_type": "stream",
     "text": [
      "发生未知错误！\n"
     ]
    }
   ],
   "source": [
    "try:\n",
    "    a5[3]\n",
    "except Exception as e:\n",
    "    print('发生未知错误！')"
   ]
  },
  {
   "cell_type": "markdown",
   "metadata": {},
   "source": [
    "## 列表索引操作\n",
    "- Mylist[index]\n",
    "- 正序索引，逆序索引\n",
    "- 列表一定注意越界\n",
    "- ![](../Photo/117.png)"
   ]
  },
  {
   "cell_type": "markdown",
   "metadata": {},
   "source": [
    "## 列表切片操作\n",
    "- Mylist[start:end]\n",
    "- 正序切片，逆序切片"
   ]
  },
  {
   "cell_type": "markdown",
   "metadata": {},
   "source": [
    "## 列表 +、*、in 、not in"
   ]
  },
  {
   "cell_type": "markdown",
   "metadata": {},
   "source": [
    "## 使用for循环遍历元素\n",
    "- for 循环可以遍历一切可迭代元素"
   ]
  },
  {
   "cell_type": "markdown",
   "metadata": {},
   "source": [
    "## EP：\n",
    "- 使用while 循环遍历列表"
   ]
  },
  {
   "cell_type": "markdown",
   "metadata": {},
   "source": [
    "## 列表的比较\n",
    "- \\>,<,>=,<=,==,!="
   ]
  },
  {
   "cell_type": "markdown",
   "metadata": {},
   "source": [
    "## 列表生成式\n",
    "[x for x in range(10)]"
   ]
  },
  {
   "cell_type": "code",
   "execution_count": 29,
   "metadata": {
    "scrolled": true
   },
   "outputs": [
    {
     "data": {
      "text/plain": [
       "[0, 1, 2, 3, 4, 5, 6, 7, 8, 9]"
      ]
     },
     "execution_count": 29,
     "metadata": {},
     "output_type": "execute_result"
    }
   ],
   "source": [
    "a=[x for x in range(10)]\n",
    "a"
   ]
  },
  {
   "cell_type": "code",
   "execution_count": 31,
   "metadata": {},
   "outputs": [
    {
     "data": {
      "text/plain": [
       "[0, 2, 4, 6, 8]"
      ]
     },
     "execution_count": 31,
     "metadata": {},
     "output_type": "execute_result"
    }
   ],
   "source": [
    "b=[x for x in range(10) if x %2==0]\n",
    "b"
   ]
  },
  {
   "cell_type": "markdown",
   "metadata": {},
   "source": [
    "# 列表生成器\n",
    "\n",
    "# yield 关键字是函数生成器\n",
    "\n",
    "# 生成器目的主要是为了内存优化"
   ]
  },
  {
   "cell_type": "code",
   "execution_count": 33,
   "metadata": {},
   "outputs": [
    {
     "data": {
      "text/plain": [
       "3"
      ]
     },
     "execution_count": 33,
     "metadata": {},
     "output_type": "execute_result"
    }
   ],
   "source": [
    "a=(x for x in range(10)) #列表生成器，用到一个取一个\n",
    "next(a)\n",
    "next(a)\n",
    "next(a)\n",
    "next(a)"
   ]
  },
  {
   "cell_type": "code",
   "execution_count": 35,
   "metadata": {},
   "outputs": [
    {
     "data": {
      "text/plain": [
       "['J', 'o', 'k', 'e', 'r']"
      ]
     },
     "execution_count": 35,
     "metadata": {},
     "output_type": "execute_result"
    }
   ],
   "source": [
    "b=[x for x in 'Joker']\n",
    "b"
   ]
  },
  {
   "cell_type": "markdown",
   "metadata": {},
   "source": [
    "## 列表的方法\n",
    "![](../Photo/118.png)"
   ]
  },
  {
   "cell_type": "code",
   "execution_count": 39,
   "metadata": {
    "scrolled": true
   },
   "outputs": [
    {
     "data": {
      "text/plain": [
       "['J', 'o', 'k', 'e', 'r', 'r', 'r', 'r']"
      ]
     },
     "execution_count": 39,
     "metadata": {},
     "output_type": "execute_result"
    }
   ],
   "source": [
    "b.append('r')\n",
    "b"
   ]
  },
  {
   "cell_type": "code",
   "execution_count": 40,
   "metadata": {},
   "outputs": [
    {
     "data": {
      "text/plain": [
       "4"
      ]
     },
     "execution_count": 40,
     "metadata": {},
     "output_type": "execute_result"
    }
   ],
   "source": [
    "b.count('r')"
   ]
  },
  {
   "cell_type": "code",
   "execution_count": 43,
   "metadata": {},
   "outputs": [
    {
     "data": {
      "text/plain": [
       "['J', 'o', 'k', 'e', 'r', 'r', 'r', 'r', 'a', 'b', 'a', 'b', 'a', 'b']"
      ]
     },
     "execution_count": 43,
     "metadata": {},
     "output_type": "execute_result"
    }
   ],
   "source": [
    "b.extend('ab')\n",
    "b"
   ]
  },
  {
   "cell_type": "code",
   "execution_count": 44,
   "metadata": {},
   "outputs": [],
   "source": [
    "b.extend(b)\n",
    "b"
   ]
  },
  {
   "cell_type": "markdown",
   "metadata": {},
   "source": [
    "## 将字符串分割成列表\n",
    "- split  按照自定义的内容拆分"
   ]
  },
  {
   "cell_type": "code",
   "execution_count": 49,
   "metadata": {
    "collapsed": true
   },
   "outputs": [
    {
     "data": {
      "text/plain": [
       "[99,\n",
       " 98,\n",
       " 97,\n",
       " 96,\n",
       " 95,\n",
       " 94,\n",
       " 93,\n",
       " 92,\n",
       " 91,\n",
       " 90,\n",
       " 89,\n",
       " 88,\n",
       " 87,\n",
       " 86,\n",
       " 85,\n",
       " 84,\n",
       " 83,\n",
       " 82,\n",
       " 81,\n",
       " 80,\n",
       " 79,\n",
       " 78,\n",
       " 77,\n",
       " 76,\n",
       " 75,\n",
       " 74,\n",
       " 73,\n",
       " 72,\n",
       " 71,\n",
       " 70,\n",
       " 69,\n",
       " 68,\n",
       " 67,\n",
       " 66,\n",
       " 65,\n",
       " 64,\n",
       " 63,\n",
       " 62,\n",
       " 61,\n",
       " 60,\n",
       " 59,\n",
       " 58,\n",
       " 57,\n",
       " 56,\n",
       " 55,\n",
       " 54,\n",
       " 53,\n",
       " 52,\n",
       " 51,\n",
       " 50,\n",
       " 49,\n",
       " 48,\n",
       " 47,\n",
       " 46,\n",
       " 45,\n",
       " 44,\n",
       " 43,\n",
       " 42,\n",
       " 41,\n",
       " 40,\n",
       " 39,\n",
       " 38,\n",
       " 37,\n",
       " 36,\n",
       " 35,\n",
       " 34,\n",
       " 33,\n",
       " 32,\n",
       " 31,\n",
       " 30,\n",
       " 29,\n",
       " 28,\n",
       " 27,\n",
       " 26,\n",
       " 25,\n",
       " 24,\n",
       " 23,\n",
       " 22,\n",
       " 21,\n",
       " 20,\n",
       " 19,\n",
       " 18,\n",
       " 17,\n",
       " 16,\n",
       " 15,\n",
       " 14,\n",
       " 13,\n",
       " 12,\n",
       " 11,\n",
       " 10,\n",
       " 9,\n",
       " 8,\n",
       " 7,\n",
       " 6,\n",
       " 5,\n",
       " 4,\n",
       " 3,\n",
       " 2,\n",
       " 1,\n",
       " 0]"
      ]
     },
     "execution_count": 49,
     "metadata": {},
     "output_type": "execute_result"
    }
   ],
   "source": [
    "b1=[x for x in range(100)]\n",
    "b2=b1[-1:-len(b1)-1:-1]\n",
    "b2"
   ]
  },
  {
   "cell_type": "code",
   "execution_count": 66,
   "metadata": {},
   "outputs": [
    {
     "data": {
      "text/plain": [
       "[0, 1, 2, 3, 4, 5, 6, 7, 8, 9]"
      ]
     },
     "execution_count": 66,
     "metadata": {},
     "output_type": "execute_result"
    }
   ],
   "source": [
    "b3=[x for x in range(10)]\n",
    "for i in range(len(b3)//2):\n",
    "    #b3[0],b3[9]=b3[9],b3[0]\n",
    "    b3[i],b[len(b3)-1-i]=b[len(b3)-1-i],b3[i]\n",
    "b3  "
   ]
  },
  {
   "cell_type": "code",
   "execution_count": 73,
   "metadata": {},
   "outputs": [
    {
     "data": {
      "text/plain": [
       "[0, 1, 4, 5, 9]"
      ]
     },
     "execution_count": 73,
     "metadata": {},
     "output_type": "execute_result"
    }
   ],
   "source": [
    "b4=[0,5,1,4,9]\n",
    "L=len(b4)\n",
    "for i in range(L-1):\n",
    "    for j in range(L-i-1):\n",
    "        if b4[j]>b4[j+1]:\n",
    "            b4[j],b4[j+1]=b4[j+1],b4[j]\n",
    "b4"
   ]
  },
  {
   "cell_type": "code",
   "execution_count": 74,
   "metadata": {
    "scrolled": true
   },
   "outputs": [
    {
     "data": {
      "text/plain": [
       "[['Joker', 4], ['xiaoming', 19], ['xiaohua', 35], ['xiaomei', 73]]"
      ]
     },
     "execution_count": 74,
     "metadata": {},
     "output_type": "execute_result"
    }
   ],
   "source": [
    "b5=[['Joker',19],['xiaoming',73],['xiaohua',35],['xiaomei',4]]\n",
    "L=len(b5)\n",
    "for i in range(L-1):\n",
    "    for j in range(L-i-1):\n",
    "        if b5[j][1]>b5[j+1][1]:\n",
    "            b5[j][1],b5[j+1][1]=b5[j+1][1],b5[j][1]\n",
    "b5"
   ]
  },
  {
   "cell_type": "markdown",
   "metadata": {},
   "source": [
    " # lambda作为匿名函数，'：'前为输入内容 '：'后为输出内容"
   ]
  },
  {
   "cell_type": "code",
   "execution_count": 76,
   "metadata": {},
   "outputs": [
    {
     "data": {
      "text/plain": [
       "[['xiaomei', 4], ['Joker', 19], ['xiaohua', 35], ['xiaoming', 73]]"
      ]
     },
     "execution_count": 76,
     "metadata": {},
     "output_type": "execute_result"
    }
   ],
   "source": [
    "b5=[['Joker',19],['xiaoming',73],['xiaohua',35],['xiaomei',4]]\n",
    "b5.sort(key=lambda x:x[1])    #lambda作为匿名函数，：前为输入内容 ’：‘后为输出内容\n",
    "b5"
   ]
  },
  {
   "cell_type": "code",
   "execution_count": 77,
   "metadata": {
    "scrolled": true
   },
   "outputs": [
    {
     "data": {
      "text/plain": [
       "[['xiaoming', 73, ['b', 3]],\n",
       " ['Joker', 19, ['a', 5]],\n",
       " ['xiaomei', 4, ['d', 34]],\n",
       " ['xiaohua', 35, ['c', 65]]]"
      ]
     },
     "execution_count": 77,
     "metadata": {},
     "output_type": "execute_result"
    }
   ],
   "source": [
    "b5=[['Joker',19,['a',5]],['xiaoming',73,['b',3]],['xiaohua',35,['c',65]],['xiaomei',4,['d',34]]]\n",
    "b5.sort(key=lambda x:x[2][1])\n",
    "b5"
   ]
  },
  {
   "cell_type": "code",
   "execution_count": 84,
   "metadata": {},
   "outputs": [
    {
     "data": {
      "text/plain": [
       "[['Joker', 19, ['a', 5]],\n",
       " ['xiaohua', 35, ['c', 65]],\n",
       " ['xiaomei', 4, ['d', 34]],\n",
       " ['xiaoming', 73, ['b', 3]]]"
      ]
     },
     "execution_count": 84,
     "metadata": {},
     "output_type": "execute_result"
    }
   ],
   "source": [
    "b5=[['Joker',19,['a',5]],['xiaoming',73,['b',3]],['xiaohua',35,['c',65]],['xiaomei',4,['d',34]]]\n",
    "b5.sort()\n",
    "b5"
   ]
  },
  {
   "cell_type": "code",
   "execution_count": 87,
   "metadata": {},
   "outputs": [
    {
     "data": {
      "text/plain": [
       "[1, 3]"
      ]
     },
     "execution_count": 87,
     "metadata": {},
     "output_type": "execute_result"
    }
   ],
   "source": [
    "b7=[1,2,3]\n",
    "b7.pop(1)\n",
    "b7"
   ]
  },
  {
   "cell_type": "code",
   "execution_count": null,
   "metadata": {},
   "outputs": [],
   "source": []
  },
  {
   "cell_type": "markdown",
   "metadata": {},
   "source": [
    "## EP:\n",
    "![](../Photo/119.png)\n",
    "![](../Photo/120.png)"
   ]
  },
  {
   "cell_type": "markdown",
   "metadata": {},
   "source": [
    "## 列表的复制\n",
    "- copy 浅复制    单层都是浅拷贝，如果列表中还有子列表，则需要进行深拷贝\n",
    "- deepcopy import copy  深复制\n",
    "- http://www.pythontutor.com/visualize.html#mode=edit"
   ]
  },
  {
   "cell_type": "code",
   "execution_count": 90,
   "metadata": {},
   "outputs": [
    {
     "name": "stdout",
     "output_type": "stream",
     "text": [
      "[1, 2, 3] [100, 2, 3]\n"
     ]
    }
   ],
   "source": [
    "b5=[1,2,3]\n",
    "b6=b5.copy()\n",
    "b6[0]=100\n",
    "print(b5,b6)"
   ]
  },
  {
   "cell_type": "code",
   "execution_count": 91,
   "metadata": {},
   "outputs": [
    {
     "name": "stdout",
     "output_type": "stream",
     "text": [
      "[1, 2, 3, [100, 1000]] [1, 2, 3, [100, 1000]]\n"
     ]
    }
   ],
   "source": [
    "b5=[1,2,3,[100,200]]\n",
    "b6=b5.copy()\n",
    "b6[3][1]=1000\n",
    "print(b5,b6)"
   ]
  },
  {
   "cell_type": "code",
   "execution_count": 92,
   "metadata": {},
   "outputs": [
    {
     "name": "stdout",
     "output_type": "stream",
     "text": [
      "[1, 2, 3, [100, 200]] [1, 2, 3, [100, 1000]]\n"
     ]
    }
   ],
   "source": [
    "import copy\n",
    "b5=[1,2,3,[100,200]]\n",
    "#b6=b5.copy()\n",
    "b6=copy.deepcopy(b5)\n",
    "b6[3][1]=1000\n",
    "print(b5,b6)"
   ]
  },
  {
   "cell_type": "code",
   "execution_count": 98,
   "metadata": {},
   "outputs": [
    {
     "data": {
      "text/plain": [
       "['a', 'b', 'c', 'd,e']"
      ]
     },
     "execution_count": 98,
     "metadata": {},
     "output_type": "execute_result"
    }
   ],
   "source": [
    "strq='a,b,c,d,e'\n",
    "lsq=strq.split(',',3)\n",
    "lsq"
   ]
  },
  {
   "cell_type": "markdown",
   "metadata": {},
   "source": [
    "## 列表排序\n",
    "- sort\n",
    "- sorted    返回一个新的列表，不改变原来列表\n",
    "- 列表的多级排序\n",
    "    - 匿名函数"
   ]
  },
  {
   "cell_type": "markdown",
   "metadata": {},
   "source": [
    "## EP：\n",
    "- 手动排序该列表[5,3,8,0,17]，以升序或者降序"
   ]
  },
  {
   "cell_type": "code",
   "execution_count": 83,
   "metadata": {},
   "outputs": [
    {
     "data": {
      "text/plain": [
       "[['xiaohua', 35, ['c', 65]],\n",
       " ['xiaomei', 4, ['d', 34]],\n",
       " ['Joker', 19, ['a', 5]],\n",
       " ['xiaoming', 73, ['b', 3]]]"
      ]
     },
     "execution_count": 83,
     "metadata": {},
     "output_type": "execute_result"
    }
   ],
   "source": [
    "b5=[['Joker',19,['a',5]],['xiaoming',73,['b',3]],['xiaohua',35,['c',65]],['xiaomei',4,['d',34]]]\n",
    "b6=sorted(b5,key=lambda x:x[2][1],reverse=True)\n",
    "b6"
   ]
  },
  {
   "cell_type": "code",
   "execution_count": 95,
   "metadata": {
    "collapsed": true
   },
   "outputs": [
    {
     "data": {
      "text/plain": [
       "['q',\n",
       " 's',\n",
       " 'd',\n",
       " 'f',\n",
       " 'l',\n",
       " 'k',\n",
       " 'l',\n",
       " 'a',\n",
       " 's',\n",
       " 'd',\n",
       " 'f',\n",
       " 'k',\n",
       " 'j',\n",
       " 's',\n",
       " 'a',\n",
       " 'd',\n",
       " 'f',\n",
       " 'k',\n",
       " 'l',\n",
       " 'a',\n",
       " 's',\n",
       " 'k',\n",
       " 'l',\n",
       " 'd',\n",
       " 'g',\n",
       " 'f',\n",
       " 'k',\n",
       " 'l',\n",
       " 'f',\n",
       " 'j',\n",
       " 'a',\n",
       " 's',\n",
       " 'l',\n",
       " 'k',\n",
       " 'f',\n",
       " 'g',\n",
       " 'l',\n",
       " 'k',\n",
       " 'a',\n",
       " 'h',\n",
       " 's',\n",
       " 'd',\n",
       " 'g',\n",
       " 'f',\n",
       " 'k',\n",
       " 'h',\n",
       " 'k',\n",
       " 'a',\n",
       " 'j',\n",
       " 's',\n",
       " 'd',\n",
       " 'f',\n",
       " 'k',\n",
       " 'l',\n",
       " 'j',\n",
       " 'a',\n",
       " 's',\n",
       " 'l',\n",
       " 'd',\n",
       " 'f']"
      ]
     },
     "execution_count": 95,
     "metadata": {},
     "output_type": "execute_result"
    }
   ],
   "source": [
    "stra='asdflklasdfkjsadfklaskldgfklfjaslkfglkahsdgfkhkajsdfkljasldf'\n",
    "lsa=list(stra)\n",
    "lsb=lsa\n",
    "lsa[0]='q'\n",
    "lsb"
   ]
  },
  {
   "cell_type": "markdown",
   "metadata": {},
   "source": [
    "- 1\n",
    "![](../Photo/121.png)"
   ]
  },
  {
   "cell_type": "code",
   "execution_count": 107,
   "metadata": {},
   "outputs": [],
   "source": [
    "def degreescore():\n",
    "    lsscore=[int(x) for x in input('enter scores:').split()]\n",
    "    best=max(lsscore)\n",
    "    j=0\n",
    "    for i in lsscore:\n",
    "        if i>=best-10:\n",
    "            print('Student ',j,' score is ',i,'and grade is A')\n",
    "            j+=1\n",
    "        elif i>=best-20:\n",
    "            print('Student ',j,' score is ',i,'and grade is B')\n",
    "            j+=1\n",
    "        elif i>=best-30:\n",
    "            print('Student ',j,' score is ',i,'and grade is C')\n",
    "            j+=1\n",
    "        elif i>=best-40:\n",
    "            print('Student ',j,' score is ',i,'and grade is D')\n",
    "            j+=1\n",
    "        else:\n",
    "            print('Student ',j,' score is ',i,'and grade is F')\n",
    "            j+=1"
   ]
  },
  {
   "cell_type": "code",
   "execution_count": 108,
   "metadata": {},
   "outputs": [
    {
     "name": "stdout",
     "output_type": "stream",
     "text": [
      "enter scores:40 55 70 58 23\n",
      "Student  0  score is  40 and grade is C\n",
      "Student  1  score is  55 and grade is B\n",
      "Student  2  score is  70 and grade is A\n",
      "Student  3  score is  58 and grade is B\n",
      "Student  4  score is  23 and grade is F\n"
     ]
    }
   ],
   "source": [
    "degreescore()"
   ]
  },
  {
   "cell_type": "markdown",
   "metadata": {},
   "source": [
    "- 2\n",
    "![](../Photo/122.png)"
   ]
  },
  {
   "cell_type": "code",
   "execution_count": 114,
   "metadata": {},
   "outputs": [
    {
     "name": "stdout",
     "output_type": "stream",
     "text": [
      "enter a int list:20 30 40 50 60\n",
      "60 50 40 30 20 "
     ]
    }
   ],
   "source": [
    "lsint=[int(x) for x in input('enter a int list:').split()]\n",
    "newint=lsint[-1:-len(b1)-1:-1]\n",
    "for i in newint:\n",
    "    print(i,end=' ')"
   ]
  },
  {
   "cell_type": "markdown",
   "metadata": {},
   "source": [
    "- 3\n",
    "![](../Photo/123.png)"
   ]
  },
  {
   "cell_type": "code",
   "execution_count": 115,
   "metadata": {},
   "outputs": [
    {
     "name": "stdout",
     "output_type": "stream",
     "text": [
      "enter integers between 1 and 100:2 5 6 5 4 3 23 43 2\n",
      "2 occurs 2 times\n",
      "3 occurs 1 times\n",
      "4 occurs 1 times\n",
      "5 occurs 2 times\n",
      "6 occurs 1 times\n",
      "23 occurs 1 times\n",
      "43 occurs 1 times\n"
     ]
    }
   ],
   "source": [
    "lsint=[int(x) for x in input('enter integers between 1 and 100:').split()]\n",
    "for i in range(100):\n",
    "    if i in lsint:\n",
    "        print(i,'occurs',lsint.count(i),'times')"
   ]
  },
  {
   "cell_type": "markdown",
   "metadata": {},
   "source": [
    "- 4\n",
    "![](../Photo/124.png)"
   ]
  },
  {
   "cell_type": "code",
   "execution_count": 116,
   "metadata": {},
   "outputs": [
    {
     "name": "stdout",
     "output_type": "stream",
     "text": [
      "enter integers between 1 and 100:20 40 20 30 50 60 40\n",
      "平均分是 37.142857142857146  \n",
      "大于平均分的个数有 4  \n",
      "小于平均分的个数有 3\n"
     ]
    }
   ],
   "source": [
    "lsint=[int(x) for x in input('enter integers between 1 and 100:').split()]\n",
    "arv=sum(lsint)/len(lsint)\n",
    "eqd=0\n",
    "eqx=0\n",
    "for i in lsint:\n",
    "    if i>=arv:\n",
    "        eqd+=1\n",
    "    else:\n",
    "        eqx+=1\n",
    "print('平均分是',arv,' \\n大于平均分的个数有',eqd,' \\n小于平均分的个数有',eqx)"
   ]
  },
  {
   "cell_type": "markdown",
   "metadata": {},
   "source": [
    "- 5\n",
    "![](../Photo/125.png)"
   ]
  },
  {
   "cell_type": "code",
   "execution_count": 125,
   "metadata": {},
   "outputs": [
    {
     "name": "stdout",
     "output_type": "stream",
     "text": [
      "0 的个数是： 94\n",
      "1 的个数是： 106\n",
      "2 的个数是： 109\n",
      "3 的个数是： 88\n",
      "4 的个数是： 92\n",
      "5 的个数是： 85\n",
      "6 的个数是： 118\n",
      "7 的个数是： 98\n",
      "8 的个数是： 93\n",
      "9 的个数是： 117\n"
     ]
    }
   ],
   "source": [
    "import random\n",
    "counts=[]\n",
    "for i in range(10):\n",
    "    counts.append(i-i)\n",
    "for i in range(1000):\n",
    "    num=random.randint(0,9)\n",
    "    counts[num]+=1\n",
    "for i in range(10):\n",
    "    print(i,'的个数是：',counts[i])"
   ]
  },
  {
   "cell_type": "markdown",
   "metadata": {},
   "source": [
    "- 6\n",
    "![](../Photo/126.png)"
   ]
  },
  {
   "cell_type": "code",
   "execution_count": 129,
   "metadata": {},
   "outputs": [],
   "source": [
    "def indexofsmallestE(lstint):\n",
    "    m=min(lsint)\n",
    "    for i in range(len(lsint)):\n",
    "        if lsint[i]==m:\n",
    "            print(i)\n",
    "            break\n"
   ]
  },
  {
   "cell_type": "code",
   "execution_count": 131,
   "metadata": {},
   "outputs": [
    {
     "name": "stdout",
     "output_type": "stream",
     "text": [
      "enter integers :20 50 60 40 50 55 8\n",
      "6\n"
     ]
    }
   ],
   "source": [
    "lsint=[int(x) for x in input('enter integers :').split()]\n",
    "indexofsmallestE(lsint)"
   ]
  },
  {
   "cell_type": "markdown",
   "metadata": {},
   "source": [
    "- 7\n",
    "![](../Photo/127.png)\n",
    "\n",
    "![](../Photo/128.png)"
   ]
  },
  {
   "cell_type": "code",
   "execution_count": 132,
   "metadata": {},
   "outputs": [],
   "source": [
    "import random\n",
    "def shuffle(lst):\n",
    "    ll=len(lst)\n",
    "    for i in range(10):\n",
    "        la=random.randint(0,ll-1)\n",
    "        lb=random.randint(0,ll-1)\n",
    "        lst[la],lst[lb]=lst[lb],lst[la]\n",
    "    return lst"
   ]
  },
  {
   "cell_type": "code",
   "execution_count": 138,
   "metadata": {},
   "outputs": [
    {
     "name": "stdout",
     "output_type": "stream",
     "text": [
      "enter integers :1 2 3 4 5 6 7 8 9\n",
      "2 3 7 6 5 9 4 8 1 "
     ]
    }
   ],
   "source": [
    "lsint=[int(x) for x in input('enter integers :').split()]\n",
    "lsint1=shuffle(lsint)\n",
    "for i in lsint:\n",
    "    print(i,end=' ')\n"
   ]
  },
  {
   "cell_type": "markdown",
   "metadata": {},
   "source": [
    "- 8\n",
    "![](../Photo/129.png)"
   ]
  },
  {
   "cell_type": "code",
   "execution_count": 175,
   "metadata": {},
   "outputs": [],
   "source": [
    "def eldup(lst):\n",
    "    ll=len(lst)\n",
    "    lst1=[]\n",
    "    for i in range(ll):\n",
    "        if lst[i] not in lst1:\n",
    "            lst1.append(lst[i])\n",
    "    return lst1       "
   ]
  },
  {
   "cell_type": "code",
   "execution_count": 179,
   "metadata": {},
   "outputs": [
    {
     "name": "stdout",
     "output_type": "stream",
     "text": [
      "enter integers :1 2 3 2 1 6 4 3 5 2\n",
      "The distinct numbers are:\n",
      "1 2 3 6 4 5 "
     ]
    }
   ],
   "source": [
    "lsint=[int(x) for x in input('enter integers :').split()]\n",
    "lsint=eldup(lsint)\n",
    "print('The distinct numbers are:')\n",
    "for i in lsint:\n",
    "    print(i,end=' ')"
   ]
  },
  {
   "cell_type": "markdown",
   "metadata": {},
   "source": [
    "- 9\n",
    "![](../Photo/130.png)"
   ]
  },
  {
   "cell_type": "code",
   "execution_count": 146,
   "metadata": {},
   "outputs": [],
   "source": [
    "def issorted(lst):\n",
    "    lst1=sorted(lst)\n",
    "    if lst1 == lst:\n",
    "        return True\n",
    "    else:\n",
    "        return False"
   ]
  },
  {
   "cell_type": "code",
   "execution_count": 148,
   "metadata": {},
   "outputs": [
    {
     "name": "stdout",
     "output_type": "stream",
     "text": [
      "enter integers list:3 2 5 46 2\n",
      "The list is not sorted\n"
     ]
    }
   ],
   "source": [
    "lsint=[int(x) for x in input('enter integers list:').split()]\n",
    "if issorted(lsint):\n",
    "    print('The list is already sorted')\n",
    "else:\n",
    "    print('The list is not sorted')"
   ]
  },
  {
   "cell_type": "markdown",
   "metadata": {},
   "source": [
    "- 10\n",
    "![](../Photo/131.png)"
   ]
  },
  {
   "cell_type": "code",
   "execution_count": 149,
   "metadata": {},
   "outputs": [],
   "source": [
    "def qipao(lst):\n",
    "    ll=len(lst)\n",
    "    for i in range(ll-1):\n",
    "        for j in range(ll-i-1):\n",
    "            if lst[j]>lst[j+1]:\n",
    "                lst[j],lst[j+1]=lst[j+1],lst[j]\n",
    "    return lst"
   ]
  },
  {
   "cell_type": "code",
   "execution_count": 151,
   "metadata": {},
   "outputs": [
    {
     "name": "stdout",
     "output_type": "stream",
     "text": [
      "enter 10 integers list:9 8 7 6 5 4 3 2 1 10\n",
      "1 2 3 4 5 6 7 8 9 10 "
     ]
    }
   ],
   "source": [
    "lsint=[int(x) for x in input('enter 10 integers list:').split()]\n",
    "lsint=qipao(lsint)\n",
    "for i in range(len(lsint)):\n",
    "    print(lsint[i],end=' ')"
   ]
  },
  {
   "cell_type": "markdown",
   "metadata": {},
   "source": [
    "- 11\n",
    "![](../Photo/132.png)"
   ]
  },
  {
   "cell_type": "code",
   "execution_count": null,
   "metadata": {
    "scrolled": true
   },
   "outputs": [],
   "source": []
  },
  {
   "cell_type": "markdown",
   "metadata": {},
   "source": [
    "- 12\n",
    "![](../Photo/133.png)"
   ]
  },
  {
   "cell_type": "code",
   "execution_count": 165,
   "metadata": {},
   "outputs": [
    {
     "name": "stdout",
     "output_type": "stream",
     "text": [
      "4\n"
     ]
    }
   ],
   "source": [
    "for i in range(5):\n",
    "    pass\n",
    "print(i)"
   ]
  },
  {
   "cell_type": "code",
   "execution_count": 163,
   "metadata": {},
   "outputs": [],
   "source": [
    "def iseq(lst):\n",
    "    if lst.count(lst[0])==4:\n",
    "        return True\n",
    "    else:\n",
    "        return False"
   ]
  },
  {
   "cell_type": "code",
   "execution_count": 174,
   "metadata": {},
   "outputs": [
    {
     "name": "stdout",
     "output_type": "stream",
     "text": [
      "enter integers list:1 2 3 4 5 6 8 6 6 6 6 6 8 7 \n",
      "存在\n"
     ]
    }
   ],
   "source": [
    "lsint=[int(x) for x in input('enter integers list:').split()]\n",
    "flag=0\n",
    "for i in range(len(lsint)-3):\n",
    "    newls=lsint[i:i+4]\n",
    "    #print(newls,iseq(newls))\n",
    "    if iseq(newls):\n",
    "        flag=1\n",
    "        break\n",
    "if flag ==1:\n",
    "    print('存在')\n",
    "else:\n",
    "    print('不存在')"
   ]
  }
 ],
 "metadata": {
  "kernelspec": {
   "display_name": "Python 3",
   "language": "python",
   "name": "python3"
  },
  "language_info": {
   "codemirror_mode": {
    "name": "ipython",
    "version": 3
   },
   "file_extension": ".py",
   "mimetype": "text/x-python",
   "name": "python",
   "nbconvert_exporter": "python",
   "pygments_lexer": "ipython3",
   "version": "3.6.4"
  }
 },
 "nbformat": 4,
 "nbformat_minor": 2
}
