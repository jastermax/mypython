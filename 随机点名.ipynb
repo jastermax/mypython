{
 "cells": [
  {
   "cell_type": "code",
   "execution_count": 3,
   "metadata": {},
   "outputs": [
    {
     "name": "stdout",
     "output_type": "stream",
     "text": [
      "北京时间11:13:26 位置为：12的老师请给Git账号\n"
     ]
    }
   ],
   "source": [
    "import random\n",
    "import time\n",
    "lie=random.randint(1,4)\n",
    "if lie<=2 :\n",
    "    hang=random.randint(1,4)\n",
    "else:\n",
    "    hang=random.randint(1,3)\n",
    "print(\"北京时间\"+time.strftime(\"%H:%M:%S\"),\"位置为：\"+str(lie)+str(hang)+\"的老师请给Git账号\")"
   ]
  }
 ],
 "metadata": {
  "kernelspec": {
   "display_name": "Python 3",
   "language": "python",
   "name": "python3"
  },
  "language_info": {
   "codemirror_mode": {
    "name": "ipython",
    "version": 3
   },
   "file_extension": ".py",
   "mimetype": "text/x-python",
   "name": "python",
   "nbconvert_exporter": "python",
   "pygments_lexer": "ipython3",
   "version": "3.6.4"
  }
 },
 "nbformat": 4,
 "nbformat_minor": 2
}
